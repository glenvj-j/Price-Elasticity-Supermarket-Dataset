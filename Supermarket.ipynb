{
 "cells": [
  {
   "cell_type": "markdown",
   "id": "9d17fa95",
   "metadata": {},
   "source": [
    "# **Price Elasticity Supermarket Dataset**"
   ]
  },
  {
   "cell_type": "code",
   "execution_count": 1536,
   "id": "6f416e04",
   "metadata": {},
   "outputs": [],
   "source": [
    "import pandas as pd\n",
    "import seaborn as sns\n",
    "import matplotlib.pyplot as plt\n",
    "import numpy as np"
   ]
  },
  {
   "cell_type": "markdown",
   "id": "8178e17f",
   "metadata": {},
   "source": [
    "# Planning\n",
    "\n",
    "The Data Periode is from 2020-07-01\tto 2023-06-30\n",
    "\n",
    "> Notes : We will ignore the covid 19 event in this analysis\n",
    "\n",
    "Our Main Question : `Can we know for each product the best price we can put to get the maximum profit?`\n",
    "\n",
    "How we will do?\n",
    "- Create a model that predict quantity based on Price, Discount (Yes/No), Item Name, Category Name for each product, and Date (Month and days of week) \n",
    "    *I exclude year because it will not general well for future\n",
    "- Quantity will be separated by 3 part, Quantile 0.25, Median and Quantile 0.75 we do this to imagine worst case to best case.\n",
    "- Show each product which price point is the best to get profit and revenue\n",
    "\n",
    "The result?\n",
    "- A model that we can use to see the best profit for each product price per each scenario \n",
    "- User can choose a day and month to see the best price to get most profit"
   ]
  },
  {
   "cell_type": "code",
   "execution_count": 1537,
   "id": "8d9fc510",
   "metadata": {},
   "outputs": [
    {
     "data": {
      "text/html": [
       "<div>\n",
       "<style scoped>\n",
       "    .dataframe tbody tr th:only-of-type {\n",
       "        vertical-align: middle;\n",
       "    }\n",
       "\n",
       "    .dataframe tbody tr th {\n",
       "        vertical-align: top;\n",
       "    }\n",
       "\n",
       "    .dataframe thead th {\n",
       "        text-align: right;\n",
       "    }\n",
       "</style>\n",
       "<table border=\"1\" class=\"dataframe\">\n",
       "  <thead>\n",
       "    <tr style=\"text-align: right;\">\n",
       "      <th></th>\n",
       "      <th>Item Code</th>\n",
       "      <th>Item Name</th>\n",
       "      <th>Category Code</th>\n",
       "      <th>Category Name</th>\n",
       "    </tr>\n",
       "  </thead>\n",
       "  <tbody>\n",
       "    <tr>\n",
       "      <th>0</th>\n",
       "      <td>102900005115168</td>\n",
       "      <td>Niushou Shengcai</td>\n",
       "      <td>1011010101</td>\n",
       "      <td>Flower/Leaf Vegetables</td>\n",
       "    </tr>\n",
       "    <tr>\n",
       "      <th>1</th>\n",
       "      <td>102900005115199</td>\n",
       "      <td>Sichuan Red Cedar</td>\n",
       "      <td>1011010101</td>\n",
       "      <td>Flower/Leaf Vegetables</td>\n",
       "    </tr>\n",
       "    <tr>\n",
       "      <th>2</th>\n",
       "      <td>102900005115625</td>\n",
       "      <td>Local Xiaomao Cabbage</td>\n",
       "      <td>1011010101</td>\n",
       "      <td>Flower/Leaf Vegetables</td>\n",
       "    </tr>\n",
       "    <tr>\n",
       "      <th>3</th>\n",
       "      <td>102900005115748</td>\n",
       "      <td>White Caitai</td>\n",
       "      <td>1011010101</td>\n",
       "      <td>Flower/Leaf Vegetables</td>\n",
       "    </tr>\n",
       "    <tr>\n",
       "      <th>4</th>\n",
       "      <td>102900005115762</td>\n",
       "      <td>Amaranth</td>\n",
       "      <td>1011010101</td>\n",
       "      <td>Flower/Leaf Vegetables</td>\n",
       "    </tr>\n",
       "    <tr>\n",
       "      <th>...</th>\n",
       "      <td>...</td>\n",
       "      <td>...</td>\n",
       "      <td>...</td>\n",
       "      <td>...</td>\n",
       "    </tr>\n",
       "    <tr>\n",
       "      <th>246</th>\n",
       "      <td>106958851400125</td>\n",
       "      <td>Haixian Mushroom (Bag) (4)</td>\n",
       "      <td>1011010801</td>\n",
       "      <td>Edible Mushroom</td>\n",
       "    </tr>\n",
       "    <tr>\n",
       "      <th>247</th>\n",
       "      <td>106971533450003</td>\n",
       "      <td>Haixian Mushroom (Bunch)</td>\n",
       "      <td>1011010801</td>\n",
       "      <td>Edible Mushroom</td>\n",
       "    </tr>\n",
       "    <tr>\n",
       "      <th>248</th>\n",
       "      <td>106971533455008</td>\n",
       "      <td>Haixian Mushroom (Bag) (3)</td>\n",
       "      <td>1011010801</td>\n",
       "      <td>Edible Mushroom</td>\n",
       "    </tr>\n",
       "    <tr>\n",
       "      <th>249</th>\n",
       "      <td>106973223300667</td>\n",
       "      <td>Chinese Caterpillar Fungus Flowers (Box) (2)</td>\n",
       "      <td>1011010801</td>\n",
       "      <td>Edible Mushroom</td>\n",
       "    </tr>\n",
       "    <tr>\n",
       "      <th>250</th>\n",
       "      <td>106973990980123</td>\n",
       "      <td>Hfyg Haixian Mushroom (Bunch)</td>\n",
       "      <td>1011010801</td>\n",
       "      <td>Edible Mushroom</td>\n",
       "    </tr>\n",
       "  </tbody>\n",
       "</table>\n",
       "<p>251 rows × 4 columns</p>\n",
       "</div>"
      ],
      "text/plain": [
       "           Item Code                                     Item Name  \\\n",
       "0    102900005115168                              Niushou Shengcai   \n",
       "1    102900005115199                             Sichuan Red Cedar   \n",
       "2    102900005115625                         Local Xiaomao Cabbage   \n",
       "3    102900005115748                                  White Caitai   \n",
       "4    102900005115762                                      Amaranth   \n",
       "..               ...                                           ...   \n",
       "246  106958851400125                    Haixian Mushroom (Bag) (4)   \n",
       "247  106971533450003                      Haixian Mushroom (Bunch)   \n",
       "248  106971533455008                    Haixian Mushroom (Bag) (3)   \n",
       "249  106973223300667  Chinese Caterpillar Fungus Flowers (Box) (2)   \n",
       "250  106973990980123                 Hfyg Haixian Mushroom (Bunch)   \n",
       "\n",
       "     Category Code           Category Name  \n",
       "0       1011010101  Flower/Leaf Vegetables  \n",
       "1       1011010101  Flower/Leaf Vegetables  \n",
       "2       1011010101  Flower/Leaf Vegetables  \n",
       "3       1011010101  Flower/Leaf Vegetables  \n",
       "4       1011010101  Flower/Leaf Vegetables  \n",
       "..             ...                     ...  \n",
       "246     1011010801         Edible Mushroom  \n",
       "247     1011010801         Edible Mushroom  \n",
       "248     1011010801         Edible Mushroom  \n",
       "249     1011010801         Edible Mushroom  \n",
       "250     1011010801         Edible Mushroom  \n",
       "\n",
       "[251 rows x 4 columns]"
      ]
     },
     "execution_count": 1537,
     "metadata": {},
     "output_type": "execute_result"
    }
   ],
   "source": [
    "df1 = pd.read_csv('Dataset/annex1.csv')\n",
    "df1"
   ]
  },
  {
   "cell_type": "code",
   "execution_count": 1510,
   "id": "91d59613",
   "metadata": {},
   "outputs": [
    {
     "data": {
      "text/html": [
       "<div>\n",
       "<style scoped>\n",
       "    .dataframe tbody tr th:only-of-type {\n",
       "        vertical-align: middle;\n",
       "    }\n",
       "\n",
       "    .dataframe tbody tr th {\n",
       "        vertical-align: top;\n",
       "    }\n",
       "\n",
       "    .dataframe thead th {\n",
       "        text-align: right;\n",
       "    }\n",
       "</style>\n",
       "<table border=\"1\" class=\"dataframe\">\n",
       "  <thead>\n",
       "    <tr style=\"text-align: right;\">\n",
       "      <th></th>\n",
       "      <th>Date</th>\n",
       "      <th>Time</th>\n",
       "      <th>Item Code</th>\n",
       "      <th>Quantity Sold (kilo)</th>\n",
       "      <th>Unit Selling Price (RMB/kg)</th>\n",
       "      <th>Sale or Return</th>\n",
       "      <th>Discount (Yes/No)</th>\n",
       "    </tr>\n",
       "  </thead>\n",
       "  <tbody>\n",
       "    <tr>\n",
       "      <th>0</th>\n",
       "      <td>2020-07-01</td>\n",
       "      <td>09:15:07.924</td>\n",
       "      <td>102900005117056</td>\n",
       "      <td>0.396</td>\n",
       "      <td>7.6</td>\n",
       "      <td>sale</td>\n",
       "      <td>No</td>\n",
       "    </tr>\n",
       "    <tr>\n",
       "      <th>1</th>\n",
       "      <td>2020-07-01</td>\n",
       "      <td>09:17:27.295</td>\n",
       "      <td>102900005115960</td>\n",
       "      <td>0.849</td>\n",
       "      <td>3.2</td>\n",
       "      <td>sale</td>\n",
       "      <td>No</td>\n",
       "    </tr>\n",
       "    <tr>\n",
       "      <th>2</th>\n",
       "      <td>2020-07-01</td>\n",
       "      <td>09:17:33.905</td>\n",
       "      <td>102900005117056</td>\n",
       "      <td>0.409</td>\n",
       "      <td>7.6</td>\n",
       "      <td>sale</td>\n",
       "      <td>No</td>\n",
       "    </tr>\n",
       "    <tr>\n",
       "      <th>3</th>\n",
       "      <td>2020-07-01</td>\n",
       "      <td>09:19:45.450</td>\n",
       "      <td>102900005115823</td>\n",
       "      <td>0.421</td>\n",
       "      <td>10.0</td>\n",
       "      <td>sale</td>\n",
       "      <td>No</td>\n",
       "    </tr>\n",
       "    <tr>\n",
       "      <th>4</th>\n",
       "      <td>2020-07-01</td>\n",
       "      <td>09:20:23.686</td>\n",
       "      <td>102900005115908</td>\n",
       "      <td>0.539</td>\n",
       "      <td>8.0</td>\n",
       "      <td>sale</td>\n",
       "      <td>No</td>\n",
       "    </tr>\n",
       "    <tr>\n",
       "      <th>...</th>\n",
       "      <td>...</td>\n",
       "      <td>...</td>\n",
       "      <td>...</td>\n",
       "      <td>...</td>\n",
       "      <td>...</td>\n",
       "      <td>...</td>\n",
       "      <td>...</td>\n",
       "    </tr>\n",
       "    <tr>\n",
       "      <th>878498</th>\n",
       "      <td>2023-06-30</td>\n",
       "      <td>21:35:13.264</td>\n",
       "      <td>102900005115250</td>\n",
       "      <td>0.284</td>\n",
       "      <td>24.0</td>\n",
       "      <td>sale</td>\n",
       "      <td>No</td>\n",
       "    </tr>\n",
       "    <tr>\n",
       "      <th>878499</th>\n",
       "      <td>2023-06-30</td>\n",
       "      <td>21:35:14.358</td>\n",
       "      <td>102900011022764</td>\n",
       "      <td>0.669</td>\n",
       "      <td>12.0</td>\n",
       "      <td>sale</td>\n",
       "      <td>No</td>\n",
       "    </tr>\n",
       "    <tr>\n",
       "      <th>878500</th>\n",
       "      <td>2023-06-30</td>\n",
       "      <td>21:35:20.264</td>\n",
       "      <td>102900005115250</td>\n",
       "      <td>0.125</td>\n",
       "      <td>24.0</td>\n",
       "      <td>sale</td>\n",
       "      <td>No</td>\n",
       "    </tr>\n",
       "    <tr>\n",
       "      <th>878501</th>\n",
       "      <td>2023-06-30</td>\n",
       "      <td>21:35:21.509</td>\n",
       "      <td>102900011016701</td>\n",
       "      <td>0.252</td>\n",
       "      <td>5.2</td>\n",
       "      <td>sale</td>\n",
       "      <td>No</td>\n",
       "    </tr>\n",
       "    <tr>\n",
       "      <th>878502</th>\n",
       "      <td>2023-06-30</td>\n",
       "      <td>21:40:48.248</td>\n",
       "      <td>102900011022764</td>\n",
       "      <td>0.803</td>\n",
       "      <td>12.0</td>\n",
       "      <td>sale</td>\n",
       "      <td>No</td>\n",
       "    </tr>\n",
       "  </tbody>\n",
       "</table>\n",
       "<p>878503 rows × 7 columns</p>\n",
       "</div>"
      ],
      "text/plain": [
       "              Date          Time        Item Code  Quantity Sold (kilo)  \\\n",
       "0       2020-07-01  09:15:07.924  102900005117056                 0.396   \n",
       "1       2020-07-01  09:17:27.295  102900005115960                 0.849   \n",
       "2       2020-07-01  09:17:33.905  102900005117056                 0.409   \n",
       "3       2020-07-01  09:19:45.450  102900005115823                 0.421   \n",
       "4       2020-07-01  09:20:23.686  102900005115908                 0.539   \n",
       "...            ...           ...              ...                   ...   \n",
       "878498  2023-06-30  21:35:13.264  102900005115250                 0.284   \n",
       "878499  2023-06-30  21:35:14.358  102900011022764                 0.669   \n",
       "878500  2023-06-30  21:35:20.264  102900005115250                 0.125   \n",
       "878501  2023-06-30  21:35:21.509  102900011016701                 0.252   \n",
       "878502  2023-06-30  21:40:48.248  102900011022764                 0.803   \n",
       "\n",
       "        Unit Selling Price (RMB/kg) Sale or Return Discount (Yes/No)  \n",
       "0                               7.6           sale                No  \n",
       "1                               3.2           sale                No  \n",
       "2                               7.6           sale                No  \n",
       "3                              10.0           sale                No  \n",
       "4                               8.0           sale                No  \n",
       "...                             ...            ...               ...  \n",
       "878498                         24.0           sale                No  \n",
       "878499                         12.0           sale                No  \n",
       "878500                         24.0           sale                No  \n",
       "878501                          5.2           sale                No  \n",
       "878502                         12.0           sale                No  \n",
       "\n",
       "[878503 rows x 7 columns]"
      ]
     },
     "execution_count": 1510,
     "metadata": {},
     "output_type": "execute_result"
    }
   ],
   "source": [
    "df2 = pd.read_csv('Dataset/annex2.csv')\n",
    "df2"
   ]
  },
  {
   "cell_type": "code",
   "execution_count": 1511,
   "id": "08eaf202",
   "metadata": {},
   "outputs": [
    {
     "data": {
      "text/html": [
       "<div>\n",
       "<style scoped>\n",
       "    .dataframe tbody tr th:only-of-type {\n",
       "        vertical-align: middle;\n",
       "    }\n",
       "\n",
       "    .dataframe tbody tr th {\n",
       "        vertical-align: top;\n",
       "    }\n",
       "\n",
       "    .dataframe thead th {\n",
       "        text-align: right;\n",
       "    }\n",
       "</style>\n",
       "<table border=\"1\" class=\"dataframe\">\n",
       "  <thead>\n",
       "    <tr style=\"text-align: right;\">\n",
       "      <th></th>\n",
       "      <th>Date</th>\n",
       "      <th>Item Code</th>\n",
       "      <th>Wholesale Price (RMB/kg)</th>\n",
       "    </tr>\n",
       "  </thead>\n",
       "  <tbody>\n",
       "    <tr>\n",
       "      <th>0</th>\n",
       "      <td>2020-07-01</td>\n",
       "      <td>102900005115762</td>\n",
       "      <td>3.88</td>\n",
       "    </tr>\n",
       "    <tr>\n",
       "      <th>1</th>\n",
       "      <td>2020-07-01</td>\n",
       "      <td>102900005115779</td>\n",
       "      <td>6.72</td>\n",
       "    </tr>\n",
       "    <tr>\n",
       "      <th>2</th>\n",
       "      <td>2020-07-01</td>\n",
       "      <td>102900005115786</td>\n",
       "      <td>3.19</td>\n",
       "    </tr>\n",
       "    <tr>\n",
       "      <th>3</th>\n",
       "      <td>2020-07-01</td>\n",
       "      <td>102900005115793</td>\n",
       "      <td>9.24</td>\n",
       "    </tr>\n",
       "    <tr>\n",
       "      <th>4</th>\n",
       "      <td>2020-07-01</td>\n",
       "      <td>102900005115823</td>\n",
       "      <td>7.03</td>\n",
       "    </tr>\n",
       "    <tr>\n",
       "      <th>...</th>\n",
       "      <td>...</td>\n",
       "      <td>...</td>\n",
       "      <td>...</td>\n",
       "    </tr>\n",
       "    <tr>\n",
       "      <th>55977</th>\n",
       "      <td>2023-06-30</td>\n",
       "      <td>102900051000944</td>\n",
       "      <td>18.00</td>\n",
       "    </tr>\n",
       "    <tr>\n",
       "      <th>55978</th>\n",
       "      <td>2023-06-30</td>\n",
       "      <td>102900051004294</td>\n",
       "      <td>6.45</td>\n",
       "    </tr>\n",
       "    <tr>\n",
       "      <th>55979</th>\n",
       "      <td>2023-06-30</td>\n",
       "      <td>102900051010455</td>\n",
       "      <td>4.48</td>\n",
       "    </tr>\n",
       "    <tr>\n",
       "      <th>55980</th>\n",
       "      <td>2023-06-30</td>\n",
       "      <td>106949711300259</td>\n",
       "      <td>1.45</td>\n",
       "    </tr>\n",
       "    <tr>\n",
       "      <th>55981</th>\n",
       "      <td>2023-06-30</td>\n",
       "      <td>106971533450003</td>\n",
       "      <td>1.95</td>\n",
       "    </tr>\n",
       "  </tbody>\n",
       "</table>\n",
       "<p>55982 rows × 3 columns</p>\n",
       "</div>"
      ],
      "text/plain": [
       "             Date        Item Code  Wholesale Price (RMB/kg)\n",
       "0      2020-07-01  102900005115762                      3.88\n",
       "1      2020-07-01  102900005115779                      6.72\n",
       "2      2020-07-01  102900005115786                      3.19\n",
       "3      2020-07-01  102900005115793                      9.24\n",
       "4      2020-07-01  102900005115823                      7.03\n",
       "...           ...              ...                       ...\n",
       "55977  2023-06-30  102900051000944                     18.00\n",
       "55978  2023-06-30  102900051004294                      6.45\n",
       "55979  2023-06-30  102900051010455                      4.48\n",
       "55980  2023-06-30  106949711300259                      1.45\n",
       "55981  2023-06-30  106971533450003                      1.95\n",
       "\n",
       "[55982 rows x 3 columns]"
      ]
     },
     "execution_count": 1511,
     "metadata": {},
     "output_type": "execute_result"
    }
   ],
   "source": [
    "df3 = pd.read_csv('Dataset/annex3.csv')\n",
    "df3"
   ]
  },
  {
   "cell_type": "code",
   "execution_count": 1512,
   "id": "8c51e5a6",
   "metadata": {},
   "outputs": [
    {
     "data": {
      "text/html": [
       "<div>\n",
       "<style scoped>\n",
       "    .dataframe tbody tr th:only-of-type {\n",
       "        vertical-align: middle;\n",
       "    }\n",
       "\n",
       "    .dataframe tbody tr th {\n",
       "        vertical-align: top;\n",
       "    }\n",
       "\n",
       "    .dataframe thead th {\n",
       "        text-align: right;\n",
       "    }\n",
       "</style>\n",
       "<table border=\"1\" class=\"dataframe\">\n",
       "  <thead>\n",
       "    <tr style=\"text-align: right;\">\n",
       "      <th></th>\n",
       "      <th>Item Code</th>\n",
       "      <th>Item Name</th>\n",
       "      <th>Loss Rate (%)</th>\n",
       "    </tr>\n",
       "  </thead>\n",
       "  <tbody>\n",
       "    <tr>\n",
       "      <th>0</th>\n",
       "      <td>102900005115168</td>\n",
       "      <td>Niushou Shengcai</td>\n",
       "      <td>4.39</td>\n",
       "    </tr>\n",
       "    <tr>\n",
       "      <th>1</th>\n",
       "      <td>102900005115199</td>\n",
       "      <td>Sichuan Red Cedar</td>\n",
       "      <td>10.46</td>\n",
       "    </tr>\n",
       "    <tr>\n",
       "      <th>2</th>\n",
       "      <td>102900005115250</td>\n",
       "      <td>Xixia Black Mushroom (1)</td>\n",
       "      <td>10.80</td>\n",
       "    </tr>\n",
       "    <tr>\n",
       "      <th>3</th>\n",
       "      <td>102900005115625</td>\n",
       "      <td>Local Xiaomao Cabbage</td>\n",
       "      <td>0.18</td>\n",
       "    </tr>\n",
       "    <tr>\n",
       "      <th>4</th>\n",
       "      <td>102900005115748</td>\n",
       "      <td>White Caitai</td>\n",
       "      <td>8.78</td>\n",
       "    </tr>\n",
       "    <tr>\n",
       "      <th>...</th>\n",
       "      <td>...</td>\n",
       "      <td>...</td>\n",
       "      <td>...</td>\n",
       "    </tr>\n",
       "    <tr>\n",
       "      <th>246</th>\n",
       "      <td>106971533455008</td>\n",
       "      <td>Haixian Mushroom (Bag) (3)</td>\n",
       "      <td>1.30</td>\n",
       "    </tr>\n",
       "    <tr>\n",
       "      <th>247</th>\n",
       "      <td>106971563780002</td>\n",
       "      <td>Xianzongye (Bag) (2)</td>\n",
       "      <td>0.00</td>\n",
       "    </tr>\n",
       "    <tr>\n",
       "      <th>248</th>\n",
       "      <td>106972776821582</td>\n",
       "      <td>Xianzongye (Bag) (3)</td>\n",
       "      <td>9.43</td>\n",
       "    </tr>\n",
       "    <tr>\n",
       "      <th>249</th>\n",
       "      <td>106973223300667</td>\n",
       "      <td>Chinese Caterpillar Fungus Flowers (Box) (2)</td>\n",
       "      <td>11.13</td>\n",
       "    </tr>\n",
       "    <tr>\n",
       "      <th>250</th>\n",
       "      <td>106973990980123</td>\n",
       "      <td>Hfyg Haixian Mushroom (Bunch)</td>\n",
       "      <td>0.12</td>\n",
       "    </tr>\n",
       "  </tbody>\n",
       "</table>\n",
       "<p>251 rows × 3 columns</p>\n",
       "</div>"
      ],
      "text/plain": [
       "           Item Code                                     Item Name  \\\n",
       "0    102900005115168                              Niushou Shengcai   \n",
       "1    102900005115199                             Sichuan Red Cedar   \n",
       "2    102900005115250                      Xixia Black Mushroom (1)   \n",
       "3    102900005115625                         Local Xiaomao Cabbage   \n",
       "4    102900005115748                                  White Caitai   \n",
       "..               ...                                           ...   \n",
       "246  106971533455008                    Haixian Mushroom (Bag) (3)   \n",
       "247  106971563780002                          Xianzongye (Bag) (2)   \n",
       "248  106972776821582                          Xianzongye (Bag) (3)   \n",
       "249  106973223300667  Chinese Caterpillar Fungus Flowers (Box) (2)   \n",
       "250  106973990980123                 Hfyg Haixian Mushroom (Bunch)   \n",
       "\n",
       "     Loss Rate (%)  \n",
       "0             4.39  \n",
       "1            10.46  \n",
       "2            10.80  \n",
       "3             0.18  \n",
       "4             8.78  \n",
       "..             ...  \n",
       "246           1.30  \n",
       "247           0.00  \n",
       "248           9.43  \n",
       "249          11.13  \n",
       "250           0.12  \n",
       "\n",
       "[251 rows x 3 columns]"
      ]
     },
     "execution_count": 1512,
     "metadata": {},
     "output_type": "execute_result"
    }
   ],
   "source": [
    "df4 = pd.read_csv('Dataset/annex4.csv')\n",
    "df4"
   ]
  },
  {
   "cell_type": "markdown",
   "id": "efcb24d4",
   "metadata": {},
   "source": [
    "Merge all dataset become 1"
   ]
  },
  {
   "cell_type": "code",
   "execution_count": 1513,
   "id": "17eee310",
   "metadata": {},
   "outputs": [
    {
     "data": {
      "text/html": [
       "<div>\n",
       "<style scoped>\n",
       "    .dataframe tbody tr th:only-of-type {\n",
       "        vertical-align: middle;\n",
       "    }\n",
       "\n",
       "    .dataframe tbody tr th {\n",
       "        vertical-align: top;\n",
       "    }\n",
       "\n",
       "    .dataframe thead th {\n",
       "        text-align: right;\n",
       "    }\n",
       "</style>\n",
       "<table border=\"1\" class=\"dataframe\">\n",
       "  <thead>\n",
       "    <tr style=\"text-align: right;\">\n",
       "      <th></th>\n",
       "      <th>Date</th>\n",
       "      <th>Time</th>\n",
       "      <th>Item Code</th>\n",
       "      <th>Quantity Sold (kilo)</th>\n",
       "      <th>Unit Selling Price (RMB/kg)</th>\n",
       "      <th>Sale or Return</th>\n",
       "      <th>Discount (Yes/No)</th>\n",
       "      <th>Item Name</th>\n",
       "      <th>Category Name</th>\n",
       "      <th>Wholesale Price (RMB/kg)</th>\n",
       "      <th>Loss Rate (%)</th>\n",
       "    </tr>\n",
       "  </thead>\n",
       "  <tbody>\n",
       "    <tr>\n",
       "      <th>0</th>\n",
       "      <td>2020-07-01</td>\n",
       "      <td>09:15:07.924</td>\n",
       "      <td>102900005117056</td>\n",
       "      <td>0.396</td>\n",
       "      <td>7.6</td>\n",
       "      <td>sale</td>\n",
       "      <td>No</td>\n",
       "      <td>Paopaojiao (Jingpin)</td>\n",
       "      <td>Capsicum</td>\n",
       "      <td>4.32</td>\n",
       "      <td>7.08</td>\n",
       "    </tr>\n",
       "    <tr>\n",
       "      <th>1</th>\n",
       "      <td>2020-07-01</td>\n",
       "      <td>09:17:27.295</td>\n",
       "      <td>102900005115960</td>\n",
       "      <td>0.849</td>\n",
       "      <td>3.2</td>\n",
       "      <td>sale</td>\n",
       "      <td>No</td>\n",
       "      <td>Chinese Cabbage</td>\n",
       "      <td>Flower/Leaf Vegetables</td>\n",
       "      <td>2.10</td>\n",
       "      <td>22.27</td>\n",
       "    </tr>\n",
       "    <tr>\n",
       "      <th>2</th>\n",
       "      <td>2020-07-01</td>\n",
       "      <td>09:17:33.905</td>\n",
       "      <td>102900005117056</td>\n",
       "      <td>0.409</td>\n",
       "      <td>7.6</td>\n",
       "      <td>sale</td>\n",
       "      <td>No</td>\n",
       "      <td>Paopaojiao (Jingpin)</td>\n",
       "      <td>Capsicum</td>\n",
       "      <td>4.32</td>\n",
       "      <td>7.08</td>\n",
       "    </tr>\n",
       "    <tr>\n",
       "      <th>3</th>\n",
       "      <td>2020-07-01</td>\n",
       "      <td>09:19:45.450</td>\n",
       "      <td>102900005115823</td>\n",
       "      <td>0.421</td>\n",
       "      <td>10.0</td>\n",
       "      <td>sale</td>\n",
       "      <td>No</td>\n",
       "      <td>Shanghaiqing</td>\n",
       "      <td>Flower/Leaf Vegetables</td>\n",
       "      <td>7.03</td>\n",
       "      <td>14.43</td>\n",
       "    </tr>\n",
       "    <tr>\n",
       "      <th>4</th>\n",
       "      <td>2020-07-01</td>\n",
       "      <td>09:20:23.686</td>\n",
       "      <td>102900005115908</td>\n",
       "      <td>0.539</td>\n",
       "      <td>8.0</td>\n",
       "      <td>sale</td>\n",
       "      <td>No</td>\n",
       "      <td>Caixin</td>\n",
       "      <td>Flower/Leaf Vegetables</td>\n",
       "      <td>4.60</td>\n",
       "      <td>13.70</td>\n",
       "    </tr>\n",
       "    <tr>\n",
       "      <th>...</th>\n",
       "      <td>...</td>\n",
       "      <td>...</td>\n",
       "      <td>...</td>\n",
       "      <td>...</td>\n",
       "      <td>...</td>\n",
       "      <td>...</td>\n",
       "      <td>...</td>\n",
       "      <td>...</td>\n",
       "      <td>...</td>\n",
       "      <td>...</td>\n",
       "      <td>...</td>\n",
       "    </tr>\n",
       "    <tr>\n",
       "      <th>878498</th>\n",
       "      <td>2023-06-30</td>\n",
       "      <td>21:35:13.264</td>\n",
       "      <td>102900005115250</td>\n",
       "      <td>0.284</td>\n",
       "      <td>24.0</td>\n",
       "      <td>sale</td>\n",
       "      <td>No</td>\n",
       "      <td>Xixia Black Mushroom (1)</td>\n",
       "      <td>Edible Mushroom</td>\n",
       "      <td>15.60</td>\n",
       "      <td>10.80</td>\n",
       "    </tr>\n",
       "    <tr>\n",
       "      <th>878499</th>\n",
       "      <td>2023-06-30</td>\n",
       "      <td>21:35:14.358</td>\n",
       "      <td>102900011022764</td>\n",
       "      <td>0.669</td>\n",
       "      <td>12.0</td>\n",
       "      <td>sale</td>\n",
       "      <td>No</td>\n",
       "      <td>Changxianqie</td>\n",
       "      <td>Solanum</td>\n",
       "      <td>7.00</td>\n",
       "      <td>6.90</td>\n",
       "    </tr>\n",
       "    <tr>\n",
       "      <th>878500</th>\n",
       "      <td>2023-06-30</td>\n",
       "      <td>21:35:20.264</td>\n",
       "      <td>102900005115250</td>\n",
       "      <td>0.125</td>\n",
       "      <td>24.0</td>\n",
       "      <td>sale</td>\n",
       "      <td>No</td>\n",
       "      <td>Xixia Black Mushroom (1)</td>\n",
       "      <td>Edible Mushroom</td>\n",
       "      <td>15.60</td>\n",
       "      <td>10.80</td>\n",
       "    </tr>\n",
       "    <tr>\n",
       "      <th>878501</th>\n",
       "      <td>2023-06-30</td>\n",
       "      <td>21:35:21.509</td>\n",
       "      <td>102900011016701</td>\n",
       "      <td>0.252</td>\n",
       "      <td>5.2</td>\n",
       "      <td>sale</td>\n",
       "      <td>No</td>\n",
       "      <td>Wuhu Green Pepper (1)</td>\n",
       "      <td>Capsicum</td>\n",
       "      <td>3.63</td>\n",
       "      <td>5.70</td>\n",
       "    </tr>\n",
       "    <tr>\n",
       "      <th>878502</th>\n",
       "      <td>2023-06-30</td>\n",
       "      <td>21:40:48.248</td>\n",
       "      <td>102900011022764</td>\n",
       "      <td>0.803</td>\n",
       "      <td>12.0</td>\n",
       "      <td>sale</td>\n",
       "      <td>No</td>\n",
       "      <td>Changxianqie</td>\n",
       "      <td>Solanum</td>\n",
       "      <td>7.00</td>\n",
       "      <td>6.90</td>\n",
       "    </tr>\n",
       "  </tbody>\n",
       "</table>\n",
       "<p>878503 rows × 11 columns</p>\n",
       "</div>"
      ],
      "text/plain": [
       "              Date          Time        Item Code  Quantity Sold (kilo)  \\\n",
       "0       2020-07-01  09:15:07.924  102900005117056                 0.396   \n",
       "1       2020-07-01  09:17:27.295  102900005115960                 0.849   \n",
       "2       2020-07-01  09:17:33.905  102900005117056                 0.409   \n",
       "3       2020-07-01  09:19:45.450  102900005115823                 0.421   \n",
       "4       2020-07-01  09:20:23.686  102900005115908                 0.539   \n",
       "...            ...           ...              ...                   ...   \n",
       "878498  2023-06-30  21:35:13.264  102900005115250                 0.284   \n",
       "878499  2023-06-30  21:35:14.358  102900011022764                 0.669   \n",
       "878500  2023-06-30  21:35:20.264  102900005115250                 0.125   \n",
       "878501  2023-06-30  21:35:21.509  102900011016701                 0.252   \n",
       "878502  2023-06-30  21:40:48.248  102900011022764                 0.803   \n",
       "\n",
       "        Unit Selling Price (RMB/kg) Sale or Return Discount (Yes/No)  \\\n",
       "0                               7.6           sale                No   \n",
       "1                               3.2           sale                No   \n",
       "2                               7.6           sale                No   \n",
       "3                              10.0           sale                No   \n",
       "4                               8.0           sale                No   \n",
       "...                             ...            ...               ...   \n",
       "878498                         24.0           sale                No   \n",
       "878499                         12.0           sale                No   \n",
       "878500                         24.0           sale                No   \n",
       "878501                          5.2           sale                No   \n",
       "878502                         12.0           sale                No   \n",
       "\n",
       "                       Item Name           Category Name  \\\n",
       "0           Paopaojiao (Jingpin)                Capsicum   \n",
       "1                Chinese Cabbage  Flower/Leaf Vegetables   \n",
       "2           Paopaojiao (Jingpin)                Capsicum   \n",
       "3                   Shanghaiqing  Flower/Leaf Vegetables   \n",
       "4                         Caixin  Flower/Leaf Vegetables   \n",
       "...                          ...                     ...   \n",
       "878498  Xixia Black Mushroom (1)         Edible Mushroom   \n",
       "878499              Changxianqie                 Solanum   \n",
       "878500  Xixia Black Mushroom (1)         Edible Mushroom   \n",
       "878501     Wuhu Green Pepper (1)                Capsicum   \n",
       "878502              Changxianqie                 Solanum   \n",
       "\n",
       "        Wholesale Price (RMB/kg)  Loss Rate (%)  \n",
       "0                           4.32           7.08  \n",
       "1                           2.10          22.27  \n",
       "2                           4.32           7.08  \n",
       "3                           7.03          14.43  \n",
       "4                           4.60          13.70  \n",
       "...                          ...            ...  \n",
       "878498                     15.60          10.80  \n",
       "878499                      7.00           6.90  \n",
       "878500                     15.60          10.80  \n",
       "878501                      3.63           5.70  \n",
       "878502                      7.00           6.90  \n",
       "\n",
       "[878503 rows x 11 columns]"
      ]
     },
     "execution_count": 1513,
     "metadata": {},
     "output_type": "execute_result"
    }
   ],
   "source": [
    "df = df2.merge(df1[['Item Code','Item Name','Category Name']],on='Item Code',how='left')\n",
    "df = df.merge(df3,on=['Date','Item Code'],how='left')\n",
    "df = df.merge(df4[['Item Code','Loss Rate (%)']],on=['Item Code'],how='left')\n",
    "df"
   ]
  },
  {
   "cell_type": "code",
   "execution_count": 1514,
   "id": "54c9d848",
   "metadata": {},
   "outputs": [
    {
     "data": {
      "text/html": [
       "<div>\n",
       "<style scoped>\n",
       "    .dataframe tbody tr th:only-of-type {\n",
       "        vertical-align: middle;\n",
       "    }\n",
       "\n",
       "    .dataframe tbody tr th {\n",
       "        vertical-align: top;\n",
       "    }\n",
       "\n",
       "    .dataframe thead th {\n",
       "        text-align: right;\n",
       "    }\n",
       "</style>\n",
       "<table border=\"1\" class=\"dataframe\">\n",
       "  <thead>\n",
       "    <tr style=\"text-align: right;\">\n",
       "      <th></th>\n",
       "      <th>Date</th>\n",
       "      <th>Time</th>\n",
       "      <th>Item Code</th>\n",
       "      <th>Quantity Sold (kilo)</th>\n",
       "      <th>Unit Selling Price (RMB/kg)</th>\n",
       "      <th>Sale or Return</th>\n",
       "      <th>Discount (Yes/No)</th>\n",
       "      <th>Item Name</th>\n",
       "      <th>Category Name</th>\n",
       "      <th>Wholesale Price (RMB/kg)</th>\n",
       "      <th>Loss Rate (%)</th>\n",
       "      <th>day_of_week</th>\n",
       "      <th>Month</th>\n",
       "      <th>Year</th>\n",
       "      <th>Year/Month</th>\n",
       "      <th>Revenue</th>\n",
       "    </tr>\n",
       "  </thead>\n",
       "  <tbody>\n",
       "    <tr>\n",
       "      <th>0</th>\n",
       "      <td>2020-07-01</td>\n",
       "      <td>09:15:07.924</td>\n",
       "      <td>102900005117056</td>\n",
       "      <td>0.396</td>\n",
       "      <td>7.6</td>\n",
       "      <td>sale</td>\n",
       "      <td>No</td>\n",
       "      <td>Paopaojiao (Jingpin)</td>\n",
       "      <td>Capsicum</td>\n",
       "      <td>4.32</td>\n",
       "      <td>7.08</td>\n",
       "      <td>2</td>\n",
       "      <td>7</td>\n",
       "      <td>2020</td>\n",
       "      <td>20/07</td>\n",
       "      <td>3.0096</td>\n",
       "    </tr>\n",
       "    <tr>\n",
       "      <th>1</th>\n",
       "      <td>2020-07-01</td>\n",
       "      <td>09:17:27.295</td>\n",
       "      <td>102900005115960</td>\n",
       "      <td>0.849</td>\n",
       "      <td>3.2</td>\n",
       "      <td>sale</td>\n",
       "      <td>No</td>\n",
       "      <td>Chinese Cabbage</td>\n",
       "      <td>Flower/Leaf Vegetables</td>\n",
       "      <td>2.10</td>\n",
       "      <td>22.27</td>\n",
       "      <td>2</td>\n",
       "      <td>7</td>\n",
       "      <td>2020</td>\n",
       "      <td>20/07</td>\n",
       "      <td>2.7168</td>\n",
       "    </tr>\n",
       "    <tr>\n",
       "      <th>2</th>\n",
       "      <td>2020-07-01</td>\n",
       "      <td>09:17:33.905</td>\n",
       "      <td>102900005117056</td>\n",
       "      <td>0.409</td>\n",
       "      <td>7.6</td>\n",
       "      <td>sale</td>\n",
       "      <td>No</td>\n",
       "      <td>Paopaojiao (Jingpin)</td>\n",
       "      <td>Capsicum</td>\n",
       "      <td>4.32</td>\n",
       "      <td>7.08</td>\n",
       "      <td>2</td>\n",
       "      <td>7</td>\n",
       "      <td>2020</td>\n",
       "      <td>20/07</td>\n",
       "      <td>3.1084</td>\n",
       "    </tr>\n",
       "    <tr>\n",
       "      <th>3</th>\n",
       "      <td>2020-07-01</td>\n",
       "      <td>09:19:45.450</td>\n",
       "      <td>102900005115823</td>\n",
       "      <td>0.421</td>\n",
       "      <td>10.0</td>\n",
       "      <td>sale</td>\n",
       "      <td>No</td>\n",
       "      <td>Shanghaiqing</td>\n",
       "      <td>Flower/Leaf Vegetables</td>\n",
       "      <td>7.03</td>\n",
       "      <td>14.43</td>\n",
       "      <td>2</td>\n",
       "      <td>7</td>\n",
       "      <td>2020</td>\n",
       "      <td>20/07</td>\n",
       "      <td>4.2100</td>\n",
       "    </tr>\n",
       "    <tr>\n",
       "      <th>4</th>\n",
       "      <td>2020-07-01</td>\n",
       "      <td>09:20:23.686</td>\n",
       "      <td>102900005115908</td>\n",
       "      <td>0.539</td>\n",
       "      <td>8.0</td>\n",
       "      <td>sale</td>\n",
       "      <td>No</td>\n",
       "      <td>Caixin</td>\n",
       "      <td>Flower/Leaf Vegetables</td>\n",
       "      <td>4.60</td>\n",
       "      <td>13.70</td>\n",
       "      <td>2</td>\n",
       "      <td>7</td>\n",
       "      <td>2020</td>\n",
       "      <td>20/07</td>\n",
       "      <td>4.3120</td>\n",
       "    </tr>\n",
       "  </tbody>\n",
       "</table>\n",
       "</div>"
      ],
      "text/plain": [
       "        Date          Time        Item Code  Quantity Sold (kilo)  \\\n",
       "0 2020-07-01  09:15:07.924  102900005117056                 0.396   \n",
       "1 2020-07-01  09:17:27.295  102900005115960                 0.849   \n",
       "2 2020-07-01  09:17:33.905  102900005117056                 0.409   \n",
       "3 2020-07-01  09:19:45.450  102900005115823                 0.421   \n",
       "4 2020-07-01  09:20:23.686  102900005115908                 0.539   \n",
       "\n",
       "   Unit Selling Price (RMB/kg) Sale or Return Discount (Yes/No)  \\\n",
       "0                          7.6           sale                No   \n",
       "1                          3.2           sale                No   \n",
       "2                          7.6           sale                No   \n",
       "3                         10.0           sale                No   \n",
       "4                          8.0           sale                No   \n",
       "\n",
       "              Item Name           Category Name  Wholesale Price (RMB/kg)  \\\n",
       "0  Paopaojiao (Jingpin)                Capsicum                      4.32   \n",
       "1       Chinese Cabbage  Flower/Leaf Vegetables                      2.10   \n",
       "2  Paopaojiao (Jingpin)                Capsicum                      4.32   \n",
       "3          Shanghaiqing  Flower/Leaf Vegetables                      7.03   \n",
       "4                Caixin  Flower/Leaf Vegetables                      4.60   \n",
       "\n",
       "   Loss Rate (%)  day_of_week  Month  Year Year/Month  Revenue  \n",
       "0           7.08            2      7  2020      20/07   3.0096  \n",
       "1          22.27            2      7  2020      20/07   2.7168  \n",
       "2           7.08            2      7  2020      20/07   3.1084  \n",
       "3          14.43            2      7  2020      20/07   4.2100  \n",
       "4          13.70            2      7  2020      20/07   4.3120  "
      ]
     },
     "execution_count": 1514,
     "metadata": {},
     "output_type": "execute_result"
    }
   ],
   "source": [
    "df['Date'] = pd.to_datetime(df['Date'])\n",
    "df['day_of_week'] = df['Date'].dt.day_of_week\n",
    "df['Month'] = df['Date'].dt.month\n",
    "df['Year'] = df['Date'].dt.year\n",
    "df['Year/Month'] = df['Date'].dt.strftime(r'%y/%m')\n",
    "df['Revenue'] = df['Quantity Sold (kilo)']*df['Unit Selling Price (RMB/kg)']\n",
    "df.head()"
   ]
  },
  {
   "cell_type": "code",
   "execution_count": 1515,
   "id": "175dce75",
   "metadata": {},
   "outputs": [
    {
     "data": {
      "text/html": [
       "<div>\n",
       "<style scoped>\n",
       "    .dataframe tbody tr th:only-of-type {\n",
       "        vertical-align: middle;\n",
       "    }\n",
       "\n",
       "    .dataframe tbody tr th {\n",
       "        vertical-align: top;\n",
       "    }\n",
       "\n",
       "    .dataframe thead th {\n",
       "        text-align: right;\n",
       "    }\n",
       "</style>\n",
       "<table border=\"1\" class=\"dataframe\">\n",
       "  <thead>\n",
       "    <tr style=\"text-align: right;\">\n",
       "      <th></th>\n",
       "      <th>Year</th>\n",
       "      <th>Month</th>\n",
       "      <th>Unit Selling Price (RMB/kg)</th>\n",
       "    </tr>\n",
       "  </thead>\n",
       "  <tbody>\n",
       "    <tr>\n",
       "      <th>0</th>\n",
       "      <td>2020</td>\n",
       "      <td>7</td>\n",
       "      <td>[7.6, 8.0, 10.0, 9.0, 9.2, 9.1, 8.4, 8.9, 9.3,...</td>\n",
       "    </tr>\n",
       "    <tr>\n",
       "      <th>1</th>\n",
       "      <td>2020</td>\n",
       "      <td>8</td>\n",
       "      <td>[9.0, 7.9, 8.0, 10.0, 7.6, 6.0]</td>\n",
       "    </tr>\n",
       "    <tr>\n",
       "      <th>2</th>\n",
       "      <td>2020</td>\n",
       "      <td>9</td>\n",
       "      <td>[6.0, 8.0, 10.0, 12.0, 7.0, 11.0, 9.0]</td>\n",
       "    </tr>\n",
       "    <tr>\n",
       "      <th>3</th>\n",
       "      <td>2020</td>\n",
       "      <td>10</td>\n",
       "      <td>[8.0, 9.0, 10.0, 7.6]</td>\n",
       "    </tr>\n",
       "    <tr>\n",
       "      <th>4</th>\n",
       "      <td>2020</td>\n",
       "      <td>11</td>\n",
       "      <td>[7.0, 6.0, 6.6]</td>\n",
       "    </tr>\n",
       "    <tr>\n",
       "      <th>5</th>\n",
       "      <td>2020</td>\n",
       "      <td>12</td>\n",
       "      <td>[6.6, 7.0, 7.6, 9.0, 10.0, 12.0, 13.0, 14.0, 1...</td>\n",
       "    </tr>\n",
       "    <tr>\n",
       "      <th>6</th>\n",
       "      <td>2021</td>\n",
       "      <td>1</td>\n",
       "      <td>[18.0, 16.0, 14.0, 17.0, 19.8, 21.8]</td>\n",
       "    </tr>\n",
       "    <tr>\n",
       "      <th>7</th>\n",
       "      <td>2021</td>\n",
       "      <td>2</td>\n",
       "      <td>[14.0, 13.0, 11.0, 12.0]</td>\n",
       "    </tr>\n",
       "    <tr>\n",
       "      <th>8</th>\n",
       "      <td>2022</td>\n",
       "      <td>2</td>\n",
       "      <td>[12.0]</td>\n",
       "    </tr>\n",
       "  </tbody>\n",
       "</table>\n",
       "</div>"
      ],
      "text/plain": [
       "   Year  Month                        Unit Selling Price (RMB/kg)\n",
       "0  2020      7  [7.6, 8.0, 10.0, 9.0, 9.2, 9.1, 8.4, 8.9, 9.3,...\n",
       "1  2020      8                    [9.0, 7.9, 8.0, 10.0, 7.6, 6.0]\n",
       "2  2020      9             [6.0, 8.0, 10.0, 12.0, 7.0, 11.0, 9.0]\n",
       "3  2020     10                              [8.0, 9.0, 10.0, 7.6]\n",
       "4  2020     11                                    [7.0, 6.0, 6.6]\n",
       "5  2020     12  [6.6, 7.0, 7.6, 9.0, 10.0, 12.0, 13.0, 14.0, 1...\n",
       "6  2021      1               [18.0, 16.0, 14.0, 17.0, 19.8, 21.8]\n",
       "7  2021      2                           [14.0, 13.0, 11.0, 12.0]\n",
       "8  2022      2                                             [12.0]"
      ]
     },
     "execution_count": 1515,
     "metadata": {},
     "output_type": "execute_result"
    }
   ],
   "source": [
    "df[df['Item Code']==102900005117056].groupby(['Year','Month'])['Unit Selling Price (RMB/kg)'].unique().reset_index()"
   ]
  },
  {
   "cell_type": "markdown",
   "id": "4e1507ba",
   "metadata": {},
   "source": [
    "# **Cleaning Data**"
   ]
  },
  {
   "cell_type": "code",
   "execution_count": 1516,
   "id": "1993c0b1",
   "metadata": {},
   "outputs": [
    {
     "name": "stdout",
     "output_type": "stream",
     "text": [
      "No duplicated data found.\n"
     ]
    }
   ],
   "source": [
    "def check_duplicate(df):\n",
    "    if df.duplicated().sum() > 0:\n",
    "        total_duplicated = df.duplicated().sum()\n",
    "        total_percentage_duplicated = round(total_duplicated / df.shape[0] * 100, 2)\n",
    "        original_data = df.shape[0]\n",
    "        print(f'Total Duplicated Data: {total_duplicated} rows ({total_percentage_duplicated}% of overall data)')\n",
    "        duplicated_rows = df[df.duplicated()]\n",
    "        display(duplicated_rows)\n",
    "\n",
    "        if total_percentage_duplicated < 1:\n",
    "            user_input = input(\"Do you want to delete the duplicated data? (yes/no): \").strip().lower()\n",
    "            if user_input in (\"yes\", \"y\"):\n",
    "                df.drop_duplicates(inplace=True)\n",
    "                after_data = df.shape[0]\n",
    "                print(f'Duplicated data successfully deleted. Total deleted: {original_data - after_data}')\n",
    "            else:\n",
    "                print(\"No action taken. Duplicated data was not deleted.\")\n",
    "        else:\n",
    "            print(\"Duplicated data is more than 1% of the dataset. Please check manually.\")\n",
    "        return duplicated_rows.index\n",
    "    else:\n",
    "        print(\"No duplicated data found.\")\n",
    "        return None\n",
    "duplicated_index = check_duplicate(df)\n"
   ]
  },
  {
   "cell_type": "code",
   "execution_count": 1517,
   "id": "981d445a",
   "metadata": {},
   "outputs": [
    {
     "name": "stdout",
     "output_type": "stream",
     "text": [
      "=============== Data Summary ===============\n"
     ]
    },
    {
     "data": {
      "text/html": [
       "<div>\n",
       "<style scoped>\n",
       "    .dataframe tbody tr th:only-of-type {\n",
       "        vertical-align: middle;\n",
       "    }\n",
       "\n",
       "    .dataframe tbody tr th {\n",
       "        vertical-align: top;\n",
       "    }\n",
       "\n",
       "    .dataframe thead th {\n",
       "        text-align: right;\n",
       "    }\n",
       "</style>\n",
       "<table border=\"1\" class=\"dataframe\">\n",
       "  <thead>\n",
       "    <tr style=\"text-align: right;\">\n",
       "      <th></th>\n",
       "      <th>Column Name</th>\n",
       "      <th>Total NaN</th>\n",
       "      <th>Percentage NaN</th>\n",
       "      <th>Non-Null Count</th>\n",
       "      <th>Data Type</th>\n",
       "    </tr>\n",
       "  </thead>\n",
       "  <tbody>\n",
       "    <tr>\n",
       "      <th>0</th>\n",
       "      <td>Date</td>\n",
       "      <td>0</td>\n",
       "      <td>0.0</td>\n",
       "      <td>878503</td>\n",
       "      <td>datetime64[ns]</td>\n",
       "    </tr>\n",
       "    <tr>\n",
       "      <th>1</th>\n",
       "      <td>Time</td>\n",
       "      <td>0</td>\n",
       "      <td>0.0</td>\n",
       "      <td>878503</td>\n",
       "      <td>object</td>\n",
       "    </tr>\n",
       "    <tr>\n",
       "      <th>2</th>\n",
       "      <td>Item Code</td>\n",
       "      <td>0</td>\n",
       "      <td>0.0</td>\n",
       "      <td>878503</td>\n",
       "      <td>int64</td>\n",
       "    </tr>\n",
       "    <tr>\n",
       "      <th>3</th>\n",
       "      <td>Quantity Sold (kilo)</td>\n",
       "      <td>0</td>\n",
       "      <td>0.0</td>\n",
       "      <td>878503</td>\n",
       "      <td>float64</td>\n",
       "    </tr>\n",
       "    <tr>\n",
       "      <th>4</th>\n",
       "      <td>Unit Selling Price (RMB/kg)</td>\n",
       "      <td>0</td>\n",
       "      <td>0.0</td>\n",
       "      <td>878503</td>\n",
       "      <td>float64</td>\n",
       "    </tr>\n",
       "    <tr>\n",
       "      <th>5</th>\n",
       "      <td>Sale or Return</td>\n",
       "      <td>0</td>\n",
       "      <td>0.0</td>\n",
       "      <td>878503</td>\n",
       "      <td>object</td>\n",
       "    </tr>\n",
       "    <tr>\n",
       "      <th>6</th>\n",
       "      <td>Discount (Yes/No)</td>\n",
       "      <td>0</td>\n",
       "      <td>0.0</td>\n",
       "      <td>878503</td>\n",
       "      <td>object</td>\n",
       "    </tr>\n",
       "    <tr>\n",
       "      <th>7</th>\n",
       "      <td>Item Name</td>\n",
       "      <td>0</td>\n",
       "      <td>0.0</td>\n",
       "      <td>878503</td>\n",
       "      <td>object</td>\n",
       "    </tr>\n",
       "    <tr>\n",
       "      <th>8</th>\n",
       "      <td>Category Name</td>\n",
       "      <td>0</td>\n",
       "      <td>0.0</td>\n",
       "      <td>878503</td>\n",
       "      <td>object</td>\n",
       "    </tr>\n",
       "    <tr>\n",
       "      <th>9</th>\n",
       "      <td>Wholesale Price (RMB/kg)</td>\n",
       "      <td>0</td>\n",
       "      <td>0.0</td>\n",
       "      <td>878503</td>\n",
       "      <td>float64</td>\n",
       "    </tr>\n",
       "    <tr>\n",
       "      <th>10</th>\n",
       "      <td>Loss Rate (%)</td>\n",
       "      <td>0</td>\n",
       "      <td>0.0</td>\n",
       "      <td>878503</td>\n",
       "      <td>float64</td>\n",
       "    </tr>\n",
       "    <tr>\n",
       "      <th>11</th>\n",
       "      <td>day_of_week</td>\n",
       "      <td>0</td>\n",
       "      <td>0.0</td>\n",
       "      <td>878503</td>\n",
       "      <td>int32</td>\n",
       "    </tr>\n",
       "    <tr>\n",
       "      <th>12</th>\n",
       "      <td>Month</td>\n",
       "      <td>0</td>\n",
       "      <td>0.0</td>\n",
       "      <td>878503</td>\n",
       "      <td>int32</td>\n",
       "    </tr>\n",
       "    <tr>\n",
       "      <th>13</th>\n",
       "      <td>Year</td>\n",
       "      <td>0</td>\n",
       "      <td>0.0</td>\n",
       "      <td>878503</td>\n",
       "      <td>int32</td>\n",
       "    </tr>\n",
       "    <tr>\n",
       "      <th>14</th>\n",
       "      <td>Year/Month</td>\n",
       "      <td>0</td>\n",
       "      <td>0.0</td>\n",
       "      <td>878503</td>\n",
       "      <td>object</td>\n",
       "    </tr>\n",
       "    <tr>\n",
       "      <th>15</th>\n",
       "      <td>Revenue</td>\n",
       "      <td>0</td>\n",
       "      <td>0.0</td>\n",
       "      <td>878503</td>\n",
       "      <td>float64</td>\n",
       "    </tr>\n",
       "  </tbody>\n",
       "</table>\n",
       "</div>"
      ],
      "text/plain": [
       "                    Column Name  Total NaN  Percentage NaN  Non-Null Count  \\\n",
       "0                          Date          0             0.0          878503   \n",
       "1                          Time          0             0.0          878503   \n",
       "2                     Item Code          0             0.0          878503   \n",
       "3          Quantity Sold (kilo)          0             0.0          878503   \n",
       "4   Unit Selling Price (RMB/kg)          0             0.0          878503   \n",
       "5                Sale or Return          0             0.0          878503   \n",
       "6             Discount (Yes/No)          0             0.0          878503   \n",
       "7                     Item Name          0             0.0          878503   \n",
       "8                 Category Name          0             0.0          878503   \n",
       "9      Wholesale Price (RMB/kg)          0             0.0          878503   \n",
       "10                Loss Rate (%)          0             0.0          878503   \n",
       "11                  day_of_week          0             0.0          878503   \n",
       "12                        Month          0             0.0          878503   \n",
       "13                         Year          0             0.0          878503   \n",
       "14                   Year/Month          0             0.0          878503   \n",
       "15                      Revenue          0             0.0          878503   \n",
       "\n",
       "         Data Type  \n",
       "0   datetime64[ns]  \n",
       "1           object  \n",
       "2            int64  \n",
       "3          float64  \n",
       "4          float64  \n",
       "5           object  \n",
       "6           object  \n",
       "7           object  \n",
       "8           object  \n",
       "9          float64  \n",
       "10         float64  \n",
       "11           int32  \n",
       "12           int32  \n",
       "13           int32  \n",
       "14          object  \n",
       "15         float64  "
      ]
     },
     "metadata": {},
     "output_type": "display_data"
    }
   ],
   "source": [
    "def check_data_summary(df):\n",
    "    # Create DataFrame for NaN summary\n",
    "    nan_summary = pd.DataFrame({\n",
    "        'Total NaN': df.isna().sum(),\n",
    "        'Percentage NaN': round(df.isna().sum() / df.shape[0] * 100, 2),\n",
    "        'Non-Null Count': df.notnull().sum(),\n",
    "        'Data Type': df.dtypes\n",
    "    })\n",
    "\n",
    "    nan_summary = nan_summary.reset_index().rename(columns={'index': 'Column Name'})\n",
    "    nan_df = nan_summary.sort_values(by='Percentage NaN', ascending=False)\n",
    "    print('=============== Data Summary ===============')\n",
    "    display(nan_df)\n",
    "    return nan_df\n",
    "\n",
    "nan = check_data_summary(df)"
   ]
  },
  {
   "cell_type": "code",
   "execution_count": 1518,
   "id": "dcd2f93b",
   "metadata": {},
   "outputs": [
    {
     "name": "stdout",
     "output_type": "stream",
     "text": [
      "=============== Total NaN in each column ===============\n"
     ]
    },
    {
     "data": {
      "text/html": [
       "<div>\n",
       "<style scoped>\n",
       "    .dataframe tbody tr th:only-of-type {\n",
       "        vertical-align: middle;\n",
       "    }\n",
       "\n",
       "    .dataframe tbody tr th {\n",
       "        vertical-align: top;\n",
       "    }\n",
       "\n",
       "    .dataframe thead th {\n",
       "        text-align: right;\n",
       "    }\n",
       "</style>\n",
       "<table border=\"1\" class=\"dataframe\">\n",
       "  <thead>\n",
       "    <tr style=\"text-align: right;\">\n",
       "      <th></th>\n",
       "      <th>Total NaN</th>\n",
       "      <th>Percentage</th>\n",
       "    </tr>\n",
       "  </thead>\n",
       "  <tbody>\n",
       "    <tr>\n",
       "      <th>Date</th>\n",
       "      <td>0</td>\n",
       "      <td>0.0</td>\n",
       "    </tr>\n",
       "    <tr>\n",
       "      <th>Time</th>\n",
       "      <td>0</td>\n",
       "      <td>0.0</td>\n",
       "    </tr>\n",
       "    <tr>\n",
       "      <th>Item Code</th>\n",
       "      <td>0</td>\n",
       "      <td>0.0</td>\n",
       "    </tr>\n",
       "    <tr>\n",
       "      <th>Quantity Sold (kilo)</th>\n",
       "      <td>0</td>\n",
       "      <td>0.0</td>\n",
       "    </tr>\n",
       "    <tr>\n",
       "      <th>Unit Selling Price (RMB/kg)</th>\n",
       "      <td>0</td>\n",
       "      <td>0.0</td>\n",
       "    </tr>\n",
       "    <tr>\n",
       "      <th>Sale or Return</th>\n",
       "      <td>0</td>\n",
       "      <td>0.0</td>\n",
       "    </tr>\n",
       "    <tr>\n",
       "      <th>Discount (Yes/No)</th>\n",
       "      <td>0</td>\n",
       "      <td>0.0</td>\n",
       "    </tr>\n",
       "    <tr>\n",
       "      <th>Item Name</th>\n",
       "      <td>0</td>\n",
       "      <td>0.0</td>\n",
       "    </tr>\n",
       "    <tr>\n",
       "      <th>Category Name</th>\n",
       "      <td>0</td>\n",
       "      <td>0.0</td>\n",
       "    </tr>\n",
       "    <tr>\n",
       "      <th>Wholesale Price (RMB/kg)</th>\n",
       "      <td>0</td>\n",
       "      <td>0.0</td>\n",
       "    </tr>\n",
       "    <tr>\n",
       "      <th>Loss Rate (%)</th>\n",
       "      <td>0</td>\n",
       "      <td>0.0</td>\n",
       "    </tr>\n",
       "    <tr>\n",
       "      <th>day_of_week</th>\n",
       "      <td>0</td>\n",
       "      <td>0.0</td>\n",
       "    </tr>\n",
       "    <tr>\n",
       "      <th>Month</th>\n",
       "      <td>0</td>\n",
       "      <td>0.0</td>\n",
       "    </tr>\n",
       "    <tr>\n",
       "      <th>Year</th>\n",
       "      <td>0</td>\n",
       "      <td>0.0</td>\n",
       "    </tr>\n",
       "    <tr>\n",
       "      <th>Year/Month</th>\n",
       "      <td>0</td>\n",
       "      <td>0.0</td>\n",
       "    </tr>\n",
       "    <tr>\n",
       "      <th>Revenue</th>\n",
       "      <td>0</td>\n",
       "      <td>0.0</td>\n",
       "    </tr>\n",
       "  </tbody>\n",
       "</table>\n",
       "</div>"
      ],
      "text/plain": [
       "                             Total NaN  Percentage\n",
       "Date                                 0         0.0\n",
       "Time                                 0         0.0\n",
       "Item Code                            0         0.0\n",
       "Quantity Sold (kilo)                 0         0.0\n",
       "Unit Selling Price (RMB/kg)          0         0.0\n",
       "Sale or Return                       0         0.0\n",
       "Discount (Yes/No)                    0         0.0\n",
       "Item Name                            0         0.0\n",
       "Category Name                        0         0.0\n",
       "Wholesale Price (RMB/kg)             0         0.0\n",
       "Loss Rate (%)                        0         0.0\n",
       "day_of_week                          0         0.0\n",
       "Month                                0         0.0\n",
       "Year                                 0         0.0\n",
       "Year/Month                           0         0.0\n",
       "Revenue                              0         0.0"
      ]
     },
     "metadata": {},
     "output_type": "display_data"
    }
   ],
   "source": [
    "# Show how much NaN in each column\n",
    "def check_NaN_total(df):\n",
    "    percentage_nan = pd.DataFrame({\n",
    "    'Total NaN': df.isna().sum(),\n",
    "    'Percentage' : round(df.isna().sum()/df.shape[0]*100)\n",
    "    })\n",
    "    print('=============== Total NaN in each column ===============')\n",
    "    display(percentage_nan.sort_values(by='Percentage',ascending=False))\n",
    "\n",
    "check_NaN_total(df)"
   ]
  },
  {
   "cell_type": "code",
   "execution_count": 1519,
   "id": "a1b0c10c",
   "metadata": {},
   "outputs": [
    {
     "data": {
      "image/png": "[encoded data removed]",
      "text/plain": [
       "<Figure size 1500x750 with 4 Axes>"
      ]
     },
     "metadata": {},
     "output_type": "display_data"
    }
   ],
   "source": [
    "def plot_numerical_boxplots(df, drop_cols=None, num_cols=5, figsize=(15, 7.5), title='Distribution and Outliers of Numerical Features'):\n",
    "    \"\"\"\n",
    "    Plots boxplots of numerical features from a DataFrame.\n",
    "\n",
    "    Parameters:\n",
    "    - df: DataFrame\n",
    "    - drop_cols: List of columns to drop before selecting numerical columns\n",
    "    - num_cols: Number of plots per row\n",
    "    - figsize: Size of the full figure\n",
    "    - title: Title for the full plot\n",
    "    \"\"\"\n",
    "    if drop_cols is None:\n",
    "        drop_cols = []\n",
    "\n",
    "    # Select numerical columns\n",
    "    numerical_cols = df.drop(columns=drop_cols).select_dtypes(include=['number']).columns\n",
    "    num_rows = int(np.ceil(len(numerical_cols) / num_cols))\n",
    "\n",
    "    fig, axes = plt.subplots(nrows=num_rows, ncols=num_cols, figsize=figsize)\n",
    "    axes = axes.flatten()\n",
    "\n",
    "    for i, col in enumerate(numerical_cols):\n",
    "        sns.boxplot(data=df, x=col, ax=axes[i], color='cyan')\n",
    "        axes[i].set_title(col, fontsize=12)\n",
    "\n",
    "    # Turn off any empty subplots\n",
    "    for ax in axes[len(numerical_cols):]:\n",
    "        ax.axis('off')\n",
    "\n",
    "    # Add a big title\n",
    "    fig.suptitle(title, fontsize=18, fontweight='bold', y=1.02)\n",
    "    \n",
    "    plt.tight_layout()\n",
    "    plt.show()\n",
    "    \n",
    "plot_numerical_boxplots(df, drop_cols=['Date','Time','Item Code','Loss Rate (%)','day_of_week','Month','Year','Year/Month'], num_cols=2)\n"
   ]
  },
  {
   "cell_type": "markdown",
   "id": "9278e96b",
   "metadata": {},
   "source": [
    "### Quantity Sold\n",
    "\n",
    "We will drop this because the quantity is extreme"
   ]
  },
  {
   "cell_type": "code",
   "execution_count": 1520,
   "id": "e96b10e4",
   "metadata": {},
   "outputs": [
    {
     "data": {
      "text/html": [
       "<div>\n",
       "<style scoped>\n",
       "    .dataframe tbody tr th:only-of-type {\n",
       "        vertical-align: middle;\n",
       "    }\n",
       "\n",
       "    .dataframe tbody tr th {\n",
       "        vertical-align: top;\n",
       "    }\n",
       "\n",
       "    .dataframe thead th {\n",
       "        text-align: right;\n",
       "    }\n",
       "</style>\n",
       "<table border=\"1\" class=\"dataframe\">\n",
       "  <thead>\n",
       "    <tr style=\"text-align: right;\">\n",
       "      <th></th>\n",
       "      <th>Date</th>\n",
       "      <th>Time</th>\n",
       "      <th>Item Code</th>\n",
       "      <th>Quantity Sold (kilo)</th>\n",
       "      <th>Unit Selling Price (RMB/kg)</th>\n",
       "      <th>Sale or Return</th>\n",
       "      <th>Discount (Yes/No)</th>\n",
       "      <th>Item Name</th>\n",
       "      <th>Category Name</th>\n",
       "      <th>Wholesale Price (RMB/kg)</th>\n",
       "      <th>Loss Rate (%)</th>\n",
       "      <th>day_of_week</th>\n",
       "      <th>Month</th>\n",
       "      <th>Year</th>\n",
       "      <th>Year/Month</th>\n",
       "      <th>Revenue</th>\n",
       "    </tr>\n",
       "  </thead>\n",
       "  <tbody>\n",
       "    <tr>\n",
       "      <th>579907</th>\n",
       "      <td>2022-06-09</td>\n",
       "      <td>09:31:57.045</td>\n",
       "      <td>102900011034354</td>\n",
       "      <td>160.0</td>\n",
       "      <td>5.9</td>\n",
       "      <td>sale</td>\n",
       "      <td>No</td>\n",
       "      <td>Xianzongye (Bag) (1)</td>\n",
       "      <td>Flower/Leaf Vegetables</td>\n",
       "      <td>3.27</td>\n",
       "      <td>0.0</td>\n",
       "      <td>3</td>\n",
       "      <td>6</td>\n",
       "      <td>2022</td>\n",
       "      <td>22/06</td>\n",
       "      <td>944.0</td>\n",
       "    </tr>\n",
       "  </tbody>\n",
       "</table>\n",
       "</div>"
      ],
      "text/plain": [
       "             Date          Time        Item Code  Quantity Sold (kilo)  \\\n",
       "579907 2022-06-09  09:31:57.045  102900011034354                 160.0   \n",
       "\n",
       "        Unit Selling Price (RMB/kg) Sale or Return Discount (Yes/No)  \\\n",
       "579907                          5.9           sale                No   \n",
       "\n",
       "                   Item Name           Category Name  \\\n",
       "579907  Xianzongye (Bag) (1)  Flower/Leaf Vegetables   \n",
       "\n",
       "        Wholesale Price (RMB/kg)  Loss Rate (%)  day_of_week  Month  Year  \\\n",
       "579907                      3.27            0.0            3      6  2022   \n",
       "\n",
       "       Year/Month  Revenue  \n",
       "579907      22/06    944.0  "
      ]
     },
     "execution_count": 1520,
     "metadata": {},
     "output_type": "execute_result"
    }
   ],
   "source": [
    "df[df['Quantity Sold (kilo)']>50]"
   ]
  },
  {
   "cell_type": "code",
   "execution_count": 1521,
   "id": "3386f0c4",
   "metadata": {},
   "outputs": [],
   "source": [
    "df.drop(df[df['Quantity Sold (kilo)']>50].index,inplace=True)"
   ]
  },
  {
   "cell_type": "markdown",
   "id": "6c1121c9",
   "metadata": {},
   "source": [
    "## **Feature Enginering**"
   ]
  },
  {
   "cell_type": "markdown",
   "id": "3250133f",
   "metadata": {},
   "source": [
    "### Adjusted Profit\n",
    "\n",
    "$$\n",
    "\\text{Total Profit} = \\text{Quantity} \\times \\left( \\text{Unit Selling Price} - \\frac{\\text{Wholesale Price}}{1 - \\text{Loss Rate}} \\right)\n",
    "$$\n",
    "\n",
    "With this formula we can calculate the real cost of one product\n",
    "\n",
    "📉 Example\n",
    "\n",
    "The higher the loss rate, the more each surviving unit must \"carry\" the total cost burden — and your profit shrinks unless you raise prices.\n",
    "\n",
    "| Loss Rate | Sellable % | Adjusted Cost (`5.65 / (1 - loss)`) |\n",
    "| --------- | ---------- | ----------------------------------- |\n",
    "| 0%        | 100%       | 5.65 RMB/kg                         |\n",
    "| 10%       | 90%        | 6.28 RMB/kg                         |\n",
    "| 20%       | 80%        | 7.06 RMB/kg                         |\n",
    "| 29%       | 71%        | 7.96 RMB/kg                         |\n",
    "| 50%       | 50%        | 11.30 RMB/kg                        |\n",
    "| 70%       | 30%        | 18.83 RMB/kg                        |\n"
   ]
  },
  {
   "cell_type": "code",
   "execution_count": 1522,
   "id": "842185f1",
   "metadata": {},
   "outputs": [
    {
     "data": {
      "text/plain": [
       "1.16464"
      ]
     },
     "execution_count": 1522,
     "metadata": {},
     "output_type": "execute_result"
    }
   ],
   "source": [
    "loss_rate = 29/100\n",
    "sell_price = 10\n",
    "wholesale = 5.65\n",
    "\n",
    "# The higher loss rate, the bigger adjusted cost. This calculate the real cost of how much the product priced after loss\n",
    "adjusted_cost = wholesale / 1-(loss_rate)\n",
    "profit_per_kg = 10 - adjusted_cost\n",
    "predicted_quantity_sold = 0.251\n",
    "total_profit = profit_per_kg * predicted_quantity_sold\n",
    "total_profit"
   ]
  },
  {
   "cell_type": "code",
   "execution_count": 1523,
   "id": "31dcf89e",
   "metadata": {},
   "outputs": [
    {
     "data": {
      "text/html": [
       "<div>\n",
       "<style scoped>\n",
       "    .dataframe tbody tr th:only-of-type {\n",
       "        vertical-align: middle;\n",
       "    }\n",
       "\n",
       "    .dataframe tbody tr th {\n",
       "        vertical-align: top;\n",
       "    }\n",
       "\n",
       "    .dataframe thead th {\n",
       "        text-align: right;\n",
       "    }\n",
       "</style>\n",
       "<table border=\"1\" class=\"dataframe\">\n",
       "  <thead>\n",
       "    <tr style=\"text-align: right;\">\n",
       "      <th></th>\n",
       "      <th>Date</th>\n",
       "      <th>Time</th>\n",
       "      <th>Item Code</th>\n",
       "      <th>Quantity Sold (kilo)</th>\n",
       "      <th>Unit Selling Price (RMB/kg)</th>\n",
       "      <th>Sale or Return</th>\n",
       "      <th>Discount (Yes/No)</th>\n",
       "      <th>Item Name</th>\n",
       "      <th>Category Name</th>\n",
       "      <th>Wholesale Price (RMB/kg)</th>\n",
       "      <th>Loss Rate (%)</th>\n",
       "      <th>day_of_week</th>\n",
       "      <th>Month</th>\n",
       "      <th>Year</th>\n",
       "      <th>Year/Month</th>\n",
       "      <th>Revenue</th>\n",
       "      <th>Adjusted_profit</th>\n",
       "    </tr>\n",
       "  </thead>\n",
       "  <tbody>\n",
       "    <tr>\n",
       "      <th>0</th>\n",
       "      <td>2020-07-01</td>\n",
       "      <td>09:15:07.924</td>\n",
       "      <td>102900005117056</td>\n",
       "      <td>0.396</td>\n",
       "      <td>7.6</td>\n",
       "      <td>sale</td>\n",
       "      <td>No</td>\n",
       "      <td>Paopaojiao (Jingpin)</td>\n",
       "      <td>Capsicum</td>\n",
       "      <td>4.32</td>\n",
       "      <td>7.08</td>\n",
       "      <td>2</td>\n",
       "      <td>7</td>\n",
       "      <td>2020</td>\n",
       "      <td>20/07</td>\n",
       "      <td>3.0096</td>\n",
       "      <td>1.841068</td>\n",
       "    </tr>\n",
       "    <tr>\n",
       "      <th>1</th>\n",
       "      <td>2020-07-01</td>\n",
       "      <td>09:17:27.295</td>\n",
       "      <td>102900005115960</td>\n",
       "      <td>0.849</td>\n",
       "      <td>3.2</td>\n",
       "      <td>sale</td>\n",
       "      <td>No</td>\n",
       "      <td>Chinese Cabbage</td>\n",
       "      <td>Flower/Leaf Vegetables</td>\n",
       "      <td>2.10</td>\n",
       "      <td>22.27</td>\n",
       "      <td>2</td>\n",
       "      <td>7</td>\n",
       "      <td>2020</td>\n",
       "      <td>20/07</td>\n",
       "      <td>2.7168</td>\n",
       "      <td>2.293709</td>\n",
       "    </tr>\n",
       "    <tr>\n",
       "      <th>2</th>\n",
       "      <td>2020-07-01</td>\n",
       "      <td>09:17:33.905</td>\n",
       "      <td>102900005117056</td>\n",
       "      <td>0.409</td>\n",
       "      <td>7.6</td>\n",
       "      <td>sale</td>\n",
       "      <td>No</td>\n",
       "      <td>Paopaojiao (Jingpin)</td>\n",
       "      <td>Capsicum</td>\n",
       "      <td>4.32</td>\n",
       "      <td>7.08</td>\n",
       "      <td>2</td>\n",
       "      <td>7</td>\n",
       "      <td>2020</td>\n",
       "      <td>20/07</td>\n",
       "      <td>3.1084</td>\n",
       "      <td>1.901507</td>\n",
       "    </tr>\n",
       "    <tr>\n",
       "      <th>3</th>\n",
       "      <td>2020-07-01</td>\n",
       "      <td>09:19:45.450</td>\n",
       "      <td>102900005115823</td>\n",
       "      <td>0.421</td>\n",
       "      <td>10.0</td>\n",
       "      <td>sale</td>\n",
       "      <td>No</td>\n",
       "      <td>Shanghaiqing</td>\n",
       "      <td>Flower/Leaf Vegetables</td>\n",
       "      <td>7.03</td>\n",
       "      <td>14.43</td>\n",
       "      <td>2</td>\n",
       "      <td>7</td>\n",
       "      <td>2020</td>\n",
       "      <td>20/07</td>\n",
       "      <td>4.2100</td>\n",
       "      <td>3.458724</td>\n",
       "    </tr>\n",
       "    <tr>\n",
       "      <th>4</th>\n",
       "      <td>2020-07-01</td>\n",
       "      <td>09:20:23.686</td>\n",
       "      <td>102900005115908</td>\n",
       "      <td>0.539</td>\n",
       "      <td>8.0</td>\n",
       "      <td>sale</td>\n",
       "      <td>No</td>\n",
       "      <td>Caixin</td>\n",
       "      <td>Flower/Leaf Vegetables</td>\n",
       "      <td>4.60</td>\n",
       "      <td>13.70</td>\n",
       "      <td>2</td>\n",
       "      <td>7</td>\n",
       "      <td>2020</td>\n",
       "      <td>20/07</td>\n",
       "      <td>4.3120</td>\n",
       "      <td>2.873001</td>\n",
       "    </tr>\n",
       "  </tbody>\n",
       "</table>\n",
       "</div>"
      ],
      "text/plain": [
       "        Date          Time        Item Code  Quantity Sold (kilo)  \\\n",
       "0 2020-07-01  09:15:07.924  102900005117056                 0.396   \n",
       "1 2020-07-01  09:17:27.295  102900005115960                 0.849   \n",
       "2 2020-07-01  09:17:33.905  102900005117056                 0.409   \n",
       "3 2020-07-01  09:19:45.450  102900005115823                 0.421   \n",
       "4 2020-07-01  09:20:23.686  102900005115908                 0.539   \n",
       "\n",
       "   Unit Selling Price (RMB/kg) Sale or Return Discount (Yes/No)  \\\n",
       "0                          7.6           sale                No   \n",
       "1                          3.2           sale                No   \n",
       "2                          7.6           sale                No   \n",
       "3                         10.0           sale                No   \n",
       "4                          8.0           sale                No   \n",
       "\n",
       "              Item Name           Category Name  Wholesale Price (RMB/kg)  \\\n",
       "0  Paopaojiao (Jingpin)                Capsicum                      4.32   \n",
       "1       Chinese Cabbage  Flower/Leaf Vegetables                      2.10   \n",
       "2  Paopaojiao (Jingpin)                Capsicum                      4.32   \n",
       "3          Shanghaiqing  Flower/Leaf Vegetables                      7.03   \n",
       "4                Caixin  Flower/Leaf Vegetables                      4.60   \n",
       "\n",
       "   Loss Rate (%)  day_of_week  Month  Year Year/Month  Revenue  \\\n",
       "0           7.08            2      7  2020      20/07   3.0096   \n",
       "1          22.27            2      7  2020      20/07   2.7168   \n",
       "2           7.08            2      7  2020      20/07   3.1084   \n",
       "3          14.43            2      7  2020      20/07   4.2100   \n",
       "4          13.70            2      7  2020      20/07   4.3120   \n",
       "\n",
       "   Adjusted_profit  \n",
       "0         1.841068  \n",
       "1         2.293709  \n",
       "2         1.901507  \n",
       "3         3.458724  \n",
       "4         2.873001  "
      ]
     },
     "execution_count": 1523,
     "metadata": {},
     "output_type": "execute_result"
    }
   ],
   "source": [
    "df['Adjusted_profit'] = df['Quantity Sold (kilo)']*(df['Wholesale Price (RMB/kg)']/(1-(df['Loss Rate (%)']/100)))\n",
    "df.head()"
   ]
  },
  {
   "cell_type": "code",
   "execution_count": 1525,
   "id": "57cc3c07",
   "metadata": {},
   "outputs": [
    {
     "data": {
      "text/html": [
       "<div>\n",
       "<style scoped>\n",
       "    .dataframe tbody tr th:only-of-type {\n",
       "        vertical-align: middle;\n",
       "    }\n",
       "\n",
       "    .dataframe tbody tr th {\n",
       "        vertical-align: top;\n",
       "    }\n",
       "\n",
       "    .dataframe thead th {\n",
       "        text-align: right;\n",
       "    }\n",
       "</style>\n",
       "<table border=\"1\" class=\"dataframe\">\n",
       "  <thead>\n",
       "    <tr style=\"text-align: right;\">\n",
       "      <th></th>\n",
       "      <th>Item Code</th>\n",
       "      <th>Adjusted_profit</th>\n",
       "      <th>Item Name</th>\n",
       "      <th>Category Code</th>\n",
       "      <th>Category Name</th>\n",
       "    </tr>\n",
       "  </thead>\n",
       "  <tbody>\n",
       "    <tr>\n",
       "      <th>0</th>\n",
       "      <td>102900005116714</td>\n",
       "      <td>198082.0</td>\n",
       "      <td>Broccoli</td>\n",
       "      <td>1011010201</td>\n",
       "      <td>Cabbage</td>\n",
       "    </tr>\n",
       "    <tr>\n",
       "      <th>1</th>\n",
       "      <td>102900005116530</td>\n",
       "      <td>162135.0</td>\n",
       "      <td>Xixia Mushroom (1)</td>\n",
       "      <td>1011010801</td>\n",
       "      <td>Edible Mushroom</td>\n",
       "    </tr>\n",
       "    <tr>\n",
       "      <th>2</th>\n",
       "      <td>102900005116899</td>\n",
       "      <td>158069.0</td>\n",
       "      <td>Net Lotus Root (1)</td>\n",
       "      <td>1011010402</td>\n",
       "      <td>Aquatic Tuberous Vegetables</td>\n",
       "    </tr>\n",
       "    <tr>\n",
       "      <th>3</th>\n",
       "      <td>102900011016701</td>\n",
       "      <td>152407.0</td>\n",
       "      <td>Wuhu Green Pepper (1)</td>\n",
       "      <td>1011010504</td>\n",
       "      <td>Capsicum</td>\n",
       "    </tr>\n",
       "    <tr>\n",
       "      <th>4</th>\n",
       "      <td>102900005115779</td>\n",
       "      <td>94135.0</td>\n",
       "      <td>Yunnan Shengcai</td>\n",
       "      <td>1011010101</td>\n",
       "      <td>Flower/Leaf Vegetables</td>\n",
       "    </tr>\n",
       "  </tbody>\n",
       "</table>\n",
       "</div>"
      ],
      "text/plain": [
       "         Item Code  Adjusted_profit              Item Name  Category Code  \\\n",
       "0  102900005116714         198082.0               Broccoli     1011010201   \n",
       "1  102900005116530         162135.0     Xixia Mushroom (1)     1011010801   \n",
       "2  102900005116899         158069.0     Net Lotus Root (1)     1011010402   \n",
       "3  102900011016701         152407.0  Wuhu Green Pepper (1)     1011010504   \n",
       "4  102900005115779          94135.0        Yunnan Shengcai     1011010101   \n",
       "\n",
       "                 Category Name  \n",
       "0                      Cabbage  \n",
       "1              Edible Mushroom  \n",
       "2  Aquatic Tuberous Vegetables  \n",
       "3                     Capsicum  \n",
       "4       Flower/Leaf Vegetables  "
      ]
     },
     "execution_count": 1525,
     "metadata": {},
     "output_type": "execute_result"
    }
   ],
   "source": [
    "top_profit = df.groupby('Item Code')[['Adjusted_profit']].sum().sort_values(by='Adjusted_profit',ascending=False).reset_index()\n",
    "top_profit = top_profit.merge(df1,on='Item Code',how='left')\n",
    "top_profit['Adjusted_profit'] = round(top_profit['Adjusted_profit'])\n",
    "top_profit.head()"
   ]
  },
  {
   "cell_type": "code",
   "execution_count": 1526,
   "id": "10e91456",
   "metadata": {},
   "outputs": [
    {
     "data": {
      "application/vnd.plotly.v1+json": {
       "config": {
        "plotlyServerURL": "https://plot.ly"
       },
       "data": [
        {
         "alignmentgroup": "True",
         "hovertemplate": "Category Name=Cabbage<br>Adjusted_profit=%{x}<br>Item Name=%{y}<extra></extra>",
         "legendgroup": "Cabbage",
         "marker": {
          "color": "#636efa",
          "pattern": {
           "shape": ""
          }
         },
         "name": "Cabbage",
         "offsetgroup": "Cabbage",
         "orientation": "h",
         "showlegend": true,
         "textposition": "auto",
         "texttemplate": "%{x:.4s}",
         "type": "bar",
         "x": [
          198082
         ],
         "xaxis": "x",
         "y": [
          "Broccoli"
         ],
         "yaxis": "y"
        },
        {
         "alignmentgroup": "True",
         "hovertemplate": "Category Name=Edible Mushroom<br>Adjusted_profit=%{x}<br>Item Name=%{y}<extra></extra>",
         "legendgroup": "Edible Mushroom",
         "marker": {
          "color": "#EF553B",
          "pattern": {
           "shape": ""
          }
         },
         "name": "Edible Mushroom",
         "offsetgroup": "Edible Mushroom",
         "orientation": "h",
         "showlegend": true,
         "textposition": "auto",
         "texttemplate": "%{x:.4s}",
         "type": "bar",
         "x": [
          162135
         ],
         "xaxis": "x",
         "y": [
          "Xixia Mushroom (1)"
         ],
         "yaxis": "y"
        },
        {
         "alignmentgroup": "True",
         "hovertemplate": "Category Name=Aquatic Tuberous Vegetables<br>Adjusted_profit=%{x}<br>Item Name=%{y}<extra></extra>",
         "legendgroup": "Aquatic Tuberous Vegetables",
         "marker": {
          "color": "#00cc96",
          "pattern": {
           "shape": ""
          }
         },
         "name": "Aquatic Tuberous Vegetables",
         "offsetgroup": "Aquatic Tuberous Vegetables",
         "orientation": "h",
         "showlegend": true,
         "textposition": "auto",
         "texttemplate": "%{x:.4s}",
         "type": "bar",
         "x": [
          158069,
          50834
         ],
         "xaxis": "x",
         "y": [
          "Net Lotus Root (1)",
          "Honghu Lotus Root Powder (Fenou)"
         ],
         "yaxis": "y"
        },
        {
         "alignmentgroup": "True",
         "hovertemplate": "Category Name=Capsicum<br>Adjusted_profit=%{x}<br>Item Name=%{y}<extra></extra>",
         "legendgroup": "Capsicum",
         "marker": {
          "color": "#ab63fa",
          "pattern": {
           "shape": ""
          }
         },
         "name": "Capsicum",
         "offsetgroup": "Capsicum",
         "orientation": "h",
         "showlegend": true,
         "textposition": "auto",
         "texttemplate": "%{x:.4s}",
         "type": "bar",
         "x": [
          152407,
          74918,
          59922
         ],
         "xaxis": "x",
         "y": [
          "Wuhu Green Pepper (1)",
          "Paopaojiao (Jingpin)",
          "Luosi Pepper"
         ],
         "yaxis": "y"
        },
        {
         "alignmentgroup": "True",
         "hovertemplate": "Category Name=Flower/Leaf Vegetables<br>Adjusted_profit=%{x}<br>Item Name=%{y}<extra></extra>",
         "legendgroup": "Flower/Leaf Vegetables",
         "marker": {
          "color": "#FFA15A",
          "pattern": {
           "shape": ""
          }
         },
         "name": "Flower/Leaf Vegetables",
         "offsetgroup": "Flower/Leaf Vegetables",
         "orientation": "h",
         "showlegend": true,
         "textposition": "auto",
         "texttemplate": "%{x:.4s}",
         "type": "bar",
         "x": [
          94135,
          49057
         ],
         "xaxis": "x",
         "y": [
          "Yunnan Shengcai",
          "Yunnan Lettuces"
         ],
         "yaxis": "y"
        },
        {
         "alignmentgroup": "True",
         "hovertemplate": "Category Name=Solanum<br>Adjusted_profit=%{x}<br>Item Name=%{y}<extra></extra>",
         "legendgroup": "Solanum",
         "marker": {
          "color": "#19d3f3",
          "pattern": {
           "shape": ""
          }
         },
         "name": "Solanum",
         "offsetgroup": "Solanum",
         "orientation": "h",
         "showlegend": true,
         "textposition": "auto",
         "texttemplate": "%{x:.4s}",
         "type": "bar",
         "x": [
          82618
         ],
         "xaxis": "x",
         "y": [
          "Eggplant (2)"
         ],
         "yaxis": "y"
        }
       ],
       "layout": {
        "barmode": "relative",
        "legend": {
         "orientation": "h",
         "title": {
          "text": "Category Name"
         },
         "tracegroupgap": 0,
         "x": 0.5,
         "xanchor": "center",
         "y": -0.5,
         "yanchor": "bottom"
        },
        "template": {
         "data": {
          "bar": [
           {
            "error_x": {
             "color": "#2a3f5f"
            },
            "error_y": {
             "color": "#2a3f5f"
            },
            "marker": {
             "line": {
              "color": "#E5ECF6",
              "width": 0.5
             },
             "pattern": {
              "fillmode": "overlay",
              "size": 10,
              "solidity": 0.2
             }
            },
            "type": "bar"
           }
          ],
          "barpolar": [
           {
            "marker": {
             "line": {
              "color": "#E5ECF6",
              "width": 0.5
             },
             "pattern": {
              "fillmode": "overlay",
              "size": 10,
              "solidity": 0.2
             }
            },
            "type": "barpolar"
           }
          ],
          "carpet": [
           {
            "aaxis": {
             "endlinecolor": "#2a3f5f",
             "gridcolor": "white",
             "linecolor": "white",
             "minorgridcolor": "white",
             "startlinecolor": "#2a3f5f"
            },
            "baxis": {
             "endlinecolor": "#2a3f5f",
             "gridcolor": "white",
             "linecolor": "white",
             "minorgridcolor": "white",
             "startlinecolor": "#2a3f5f"
            },
            "type": "carpet"
           }
          ],
          "choropleth": [
           {
            "colorbar": {
             "outlinewidth": 0,
             "ticks": ""
            },
            "type": "choropleth"
           }
          ],
          "contour": [
           {
            "colorbar": {
             "outlinewidth": 0,
             "ticks": ""
            },
            "colorscale": [
             [
              0,
              "#0d0887"
             ],
             [
              0.1111111111111111,
              "#46039f"
             ],
             [
              0.2222222222222222,
              "#7201a8"
             ],
             [
              0.3333333333333333,
              "#9c179e"
             ],
             [
              0.4444444444444444,
              "#bd3786"
             ],
             [
              0.5555555555555556,
              "#d8576b"
             ],
             [
              0.6666666666666666,
              "#ed7953"
             ],
             [
              0.7777777777777778,
              "#fb9f3a"
             ],
             [
              0.8888888888888888,
              "#fdca26"
             ],
             [
              1,
              "#f0f921"
             ]
            ],
            "type": "contour"
           }
          ],
          "contourcarpet": [
           {
            "colorbar": {
             "outlinewidth": 0,
             "ticks": ""
            },
            "type": "contourcarpet"
           }
          ],
          "heatmap": [
           {
            "colorbar": {
             "outlinewidth": 0,
             "ticks": ""
            },
            "colorscale": [
             [
              0,
              "#0d0887"
             ],
             [
              0.1111111111111111,
              "#46039f"
             ],
             [
              0.2222222222222222,
              "#7201a8"
             ],
             [
              0.3333333333333333,
              "#9c179e"
             ],
             [
              0.4444444444444444,
              "#bd3786"
             ],
             [
              0.5555555555555556,
              "#d8576b"
             ],
             [
              0.6666666666666666,
              "#ed7953"
             ],
             [
              0.7777777777777778,
              "#fb9f3a"
             ],
             [
              0.8888888888888888,
              "#fdca26"
             ],
             [
              1,
              "#f0f921"
             ]
            ],
            "type": "heatmap"
           }
          ],
          "heatmapgl": [
           {
            "colorbar": {
             "outlinewidth": 0,
             "ticks": ""
            },
            "colorscale": [
             [
              0,
              "#0d0887"
             ],
             [
              0.1111111111111111,
              "#46039f"
             ],
             [
              0.2222222222222222,
              "#7201a8"
             ],
             [
              0.3333333333333333,
              "#9c179e"
             ],
             [
              0.4444444444444444,
              "#bd3786"
             ],
             [
              0.5555555555555556,
              "#d8576b"
             ],
             [
              0.6666666666666666,
              "#ed7953"
             ],
             [
              0.7777777777777778,
              "#fb9f3a"
             ],
             [
              0.8888888888888888,
              "#fdca26"
             ],
             [
              1,
              "#f0f921"
             ]
            ],
            "type": "heatmapgl"
           }
          ],
          "histogram": [
           {
            "marker": {
             "pattern": {
              "fillmode": "overlay",
              "size": 10,
              "solidity": 0.2
             }
            },
            "type": "histogram"
           }
          ],
          "histogram2d": [
           {
            "colorbar": {
             "outlinewidth": 0,
             "ticks": ""
            },
            "colorscale": [
             [
              0,
              "#0d0887"
             ],
             [
              0.1111111111111111,
              "#46039f"
             ],
             [
              0.2222222222222222,
              "#7201a8"
             ],
             [
              0.3333333333333333,
              "#9c179e"
             ],
             [
              0.4444444444444444,
              "#bd3786"
             ],
             [
              0.5555555555555556,
              "#d8576b"
             ],
             [
              0.6666666666666666,
              "#ed7953"
             ],
             [
              0.7777777777777778,
              "#fb9f3a"
             ],
             [
              0.8888888888888888,
              "#fdca26"
             ],
             [
              1,
              "#f0f921"
             ]
            ],
            "type": "histogram2d"
           }
          ],
          "histogram2dcontour": [
           {
            "colorbar": {
             "outlinewidth": 0,
             "ticks": ""
            },
            "colorscale": [
             [
              0,
              "#0d0887"
             ],
             [
              0.1111111111111111,
              "#46039f"
             ],
             [
              0.2222222222222222,
              "#7201a8"
             ],
             [
              0.3333333333333333,
              "#9c179e"
             ],
             [
              0.4444444444444444,
              "#bd3786"
             ],
             [
              0.5555555555555556,
              "#d8576b"
             ],
             [
              0.6666666666666666,
              "#ed7953"
             ],
             [
              0.7777777777777778,
              "#fb9f3a"
             ],
             [
              0.8888888888888888,
              "#fdca26"
             ],
             [
              1,
              "#f0f921"
             ]
            ],
            "type": "histogram2dcontour"
           }
          ],
          "mesh3d": [
           {
            "colorbar": {
             "outlinewidth": 0,
             "ticks": ""
            },
            "type": "mesh3d"
           }
          ],
          "parcoords": [
           {
            "line": {
             "colorbar": {
              "outlinewidth": 0,
              "ticks": ""
             }
            },
            "type": "parcoords"
           }
          ],
          "pie": [
           {
            "automargin": true,
            "type": "pie"
           }
          ],
          "scatter": [
           {
            "fillpattern": {
             "fillmode": "overlay",
             "size": 10,
             "solidity": 0.2
            },
            "type": "scatter"
           }
          ],
          "scatter3d": [
           {
            "line": {
             "colorbar": {
              "outlinewidth": 0,
              "ticks": ""
             }
            },
            "marker": {
             "colorbar": {
              "outlinewidth": 0,
              "ticks": ""
             }
            },
            "type": "scatter3d"
           }
          ],
          "scattercarpet": [
           {
            "marker": {
             "colorbar": {
              "outlinewidth": 0,
              "ticks": ""
             }
            },
            "type": "scattercarpet"
           }
          ],
          "scattergeo": [
           {
            "marker": {
             "colorbar": {
              "outlinewidth": 0,
              "ticks": ""
             }
            },
            "type": "scattergeo"
           }
          ],
          "scattergl": [
           {
            "marker": {
             "colorbar": {
              "outlinewidth": 0,
              "ticks": ""
             }
            },
            "type": "scattergl"
           }
          ],
          "scattermapbox": [
           {
            "marker": {
             "colorbar": {
              "outlinewidth": 0,
              "ticks": ""
             }
            },
            "type": "scattermapbox"
           }
          ],
          "scatterpolar": [
           {
            "marker": {
             "colorbar": {
              "outlinewidth": 0,
              "ticks": ""
             }
            },
            "type": "scatterpolar"
           }
          ],
          "scatterpolargl": [
           {
            "marker": {
             "colorbar": {
              "outlinewidth": 0,
              "ticks": ""
             }
            },
            "type": "scatterpolargl"
           }
          ],
          "scatterternary": [
           {
            "marker": {
             "colorbar": {
              "outlinewidth": 0,
              "ticks": ""
             }
            },
            "type": "scatterternary"
           }
          ],
          "surface": [
           {
            "colorbar": {
             "outlinewidth": 0,
             "ticks": ""
            },
            "colorscale": [
             [
              0,
              "#0d0887"
             ],
             [
              0.1111111111111111,
              "#46039f"
             ],
             [
              0.2222222222222222,
              "#7201a8"
             ],
             [
              0.3333333333333333,
              "#9c179e"
             ],
             [
              0.4444444444444444,
              "#bd3786"
             ],
             [
              0.5555555555555556,
              "#d8576b"
             ],
             [
              0.6666666666666666,
              "#ed7953"
             ],
             [
              0.7777777777777778,
              "#fb9f3a"
             ],
             [
              0.8888888888888888,
              "#fdca26"
             ],
             [
              1,
              "#f0f921"
             ]
            ],
            "type": "surface"
           }
          ],
          "table": [
           {
            "cells": {
             "fill": {
              "color": "#EBF0F8"
             },
             "line": {
              "color": "white"
             }
            },
            "header": {
             "fill": {
              "color": "#C8D4E3"
             },
             "line": {
              "color": "white"
             }
            },
            "type": "table"
           }
          ]
         },
         "layout": {
          "annotationdefaults": {
           "arrowcolor": "#2a3f5f",
           "arrowhead": 0,
           "arrowwidth": 1
          },
          "autotypenumbers": "strict",
          "coloraxis": {
           "colorbar": {
            "outlinewidth": 0,
            "ticks": ""
           }
          },
          "colorscale": {
           "diverging": [
            [
             0,
             "#8e0152"
            ],
            [
             0.1,
             "#c51b7d"
            ],
            [
             0.2,
             "#de77ae"
            ],
            [
             0.3,
             "#f1b6da"
            ],
            [
             0.4,
             "#fde0ef"
            ],
            [
             0.5,
             "#f7f7f7"
            ],
            [
             0.6,
             "#e6f5d0"
            ],
            [
             0.7,
             "#b8e186"
            ],
            [
             0.8,
             "#7fbc41"
            ],
            [
             0.9,
             "#4d9221"
            ],
            [
             1,
             "#276419"
            ]
           ],
           "sequential": [
            [
             0,
             "#0d0887"
            ],
            [
             0.1111111111111111,
             "#46039f"
            ],
            [
             0.2222222222222222,
             "#7201a8"
            ],
            [
             0.3333333333333333,
             "#9c179e"
            ],
            [
             0.4444444444444444,
             "#bd3786"
            ],
            [
             0.5555555555555556,
             "#d8576b"
            ],
            [
             0.6666666666666666,
             "#ed7953"
            ],
            [
             0.7777777777777778,
             "#fb9f3a"
            ],
            [
             0.8888888888888888,
             "#fdca26"
            ],
            [
             1,
             "#f0f921"
            ]
           ],
           "sequentialminus": [
            [
             0,
             "#0d0887"
            ],
            [
             0.1111111111111111,
             "#46039f"
            ],
            [
             0.2222222222222222,
             "#7201a8"
            ],
            [
             0.3333333333333333,
             "#9c179e"
            ],
            [
             0.4444444444444444,
             "#bd3786"
            ],
            [
             0.5555555555555556,
             "#d8576b"
            ],
            [
             0.6666666666666666,
             "#ed7953"
            ],
            [
             0.7777777777777778,
             "#fb9f3a"
            ],
            [
             0.8888888888888888,
             "#fdca26"
            ],
            [
             1,
             "#f0f921"
            ]
           ]
          },
          "colorway": [
           "#636efa",
           "#EF553B",
           "#00cc96",
           "#ab63fa",
           "#FFA15A",
           "#19d3f3",
           "#FF6692",
           "#B6E880",
           "#FF97FF",
           "#FECB52"
          ],
          "font": {
           "color": "#2a3f5f"
          },
          "geo": {
           "bgcolor": "white",
           "lakecolor": "white",
           "landcolor": "#E5ECF6",
           "showlakes": true,
           "showland": true,
           "subunitcolor": "white"
          },
          "hoverlabel": {
           "align": "left"
          },
          "hovermode": "closest",
          "mapbox": {
           "style": "light"
          },
          "paper_bgcolor": "white",
          "plot_bgcolor": "#E5ECF6",
          "polar": {
           "angularaxis": {
            "gridcolor": "white",
            "linecolor": "white",
            "ticks": ""
           },
           "bgcolor": "#E5ECF6",
           "radialaxis": {
            "gridcolor": "white",
            "linecolor": "white",
            "ticks": ""
           }
          },
          "scene": {
           "xaxis": {
            "backgroundcolor": "#E5ECF6",
            "gridcolor": "white",
            "gridwidth": 2,
            "linecolor": "white",
            "showbackground": true,
            "ticks": "",
            "zerolinecolor": "white"
           },
           "yaxis": {
            "backgroundcolor": "#E5ECF6",
            "gridcolor": "white",
            "gridwidth": 2,
            "linecolor": "white",
            "showbackground": true,
            "ticks": "",
            "zerolinecolor": "white"
           },
           "zaxis": {
            "backgroundcolor": "#E5ECF6",
            "gridcolor": "white",
            "gridwidth": 2,
            "linecolor": "white",
            "showbackground": true,
            "ticks": "",
            "zerolinecolor": "white"
           }
          },
          "shapedefaults": {
           "line": {
            "color": "#2a3f5f"
           }
          },
          "ternary": {
           "aaxis": {
            "gridcolor": "white",
            "linecolor": "white",
            "ticks": ""
           },
           "baxis": {
            "gridcolor": "white",
            "linecolor": "white",
            "ticks": ""
           },
           "bgcolor": "#E5ECF6",
           "caxis": {
            "gridcolor": "white",
            "linecolor": "white",
            "ticks": ""
           }
          },
          "title": {
           "x": 0.05
          },
          "xaxis": {
           "automargin": true,
           "gridcolor": "white",
           "linecolor": "white",
           "ticks": "",
           "title": {
            "standoff": 15
           },
           "zerolinecolor": "white",
           "zerolinewidth": 2
          },
          "yaxis": {
           "automargin": true,
           "gridcolor": "white",
           "linecolor": "white",
           "ticks": "",
           "title": {
            "standoff": 15
           },
           "zerolinecolor": "white",
           "zerolinewidth": 2
          }
         }
        },
        "title": {
         "text": "Top 10 with Most Adjusted Profit"
        },
        "xaxis": {
         "anchor": "y",
         "domain": [
          0,
          1
         ],
         "title": {
          "text": "Adjusted_profit"
         }
        },
        "yaxis": {
         "anchor": "x",
         "autorange": true,
         "categoryarray": [
          "Yunnan Lettuces",
          "Honghu Lotus Root Powder (Fenou)",
          "Luosi Pepper",
          "Paopaojiao (Jingpin)",
          "Eggplant (2)",
          "Yunnan Shengcai",
          "Wuhu Green Pepper (1)",
          "Net Lotus Root (1)",
          "Xixia Mushroom (1)",
          "Broccoli"
         ],
         "categoryorder": "array",
         "domain": [
          0,
          1
         ],
         "title": {
          "text": "Item Name"
         }
        }
       }
      }
     },
     "metadata": {},
     "output_type": "display_data"
    }
   ],
   "source": [
    "import plotly.express as px\n",
    "\n",
    "# Sort the data by Adjusted_profit descending\n",
    "sorted_df = top_profit.sort_values('Adjusted_profit', ascending=False).head(10)\n",
    "\n",
    "fig = px.bar(\n",
    "    sorted_df,\n",
    "    x='Adjusted_profit',\n",
    "    y='Item Name',\n",
    "    text_auto='.4s',\n",
    "    color='Category Name',\n",
    "    title=\"Top 10 with Most Adjusted Profit\",\n",
    "    category_orders={'Item Name': sorted_df['Item Name'].tolist()}\n",
    ")\n",
    "\n",
    "fig.update_yaxes(autorange=True)\n",
    "\n",
    "# Move legend clearly above the chart\n",
    "fig.update_layout(\n",
    "    legend=dict(\n",
    "        orientation=\"h\",\n",
    "        yanchor=\"bottom\",\n",
    "        y=-0.5,        # Move legend above the plot\n",
    "        xanchor=\"center\",\n",
    "        x=0.5\n",
    "    )\n",
    ")\n",
    "\n",
    "fig.show()\n"
   ]
  },
  {
   "cell_type": "markdown",
   "id": "0eb2e594",
   "metadata": {},
   "source": [
    "### **Event Flag**"
   ]
  },
  {
   "cell_type": "code",
   "execution_count": 1527,
   "id": "6362c030",
   "metadata": {},
   "outputs": [
    {
     "data": {
      "application/vnd.plotly.v1+json": {
       "config": {
        "plotlyServerURL": "https://plot.ly"
       },
       "data": [
        {
         "marker": {
          "color": "blue",
          "size": 6
         },
         "mode": "markers",
         "name": "Data Points",
         "opacity": 0.6,
         "type": "scatter",
         "x": [
          "20/07",
          "20/08",
          "20/09",
          "20/10",
          "20/11",
          "20/12",
          "21/01",
          "21/02",
          "21/03",
          "21/04",
          "21/05",
          "21/06",
          "21/07",
          "21/08",
          "21/09",
          "21/10",
          "21/11",
          "21/12",
          "22/01",
          "22/02",
          "22/03",
          "22/04",
          "22/05",
          "22/06",
          "22/07",
          "22/08",
          "22/09",
          "22/10",
          "22/11",
          "22/12",
          "23/01",
          "23/02",
          "23/03",
          "23/04",
          "23/05",
          "23/06"
         ],
         "y": [
          122550.2935,
          133930.3319,
          106520.8334,
          122685.2828,
          84574.692,
          99267.8393,
          135735.115,
          178817.904,
          92091.7412,
          74633.4324,
          68115.3604,
          66851.8856,
          83136.9524,
          108694.5554,
          91217.3984,
          84693.8128,
          57670.3175,
          58704.1788,
          114624.3682,
          80479.2356,
          75969.6413,
          66158.1451,
          55437.7304,
          51989.3625,
          91660.6354,
          119016.8562,
          112140.5012,
          119405.154,
          73256.4008,
          75690.37240000001,
          156731.8232,
          91944.2837,
          91557.7159,
          74779.4013,
          77993.4051,
          70095.5177
         ]
        },
        {
         "line": {
          "color": "orange",
          "width": 2
         },
         "mode": "lines",
         "name": "Revenue Trend",
         "type": "scatter",
         "x": [
          "20/07",
          "20/08",
          "20/09",
          "20/10",
          "20/11",
          "20/12",
          "21/01",
          "21/02",
          "21/03",
          "21/04",
          "21/05",
          "21/06",
          "21/07",
          "21/08",
          "21/09",
          "21/10",
          "21/11",
          "21/12",
          "22/01",
          "22/02",
          "22/03",
          "22/04",
          "22/05",
          "22/06",
          "22/07",
          "22/08",
          "22/09",
          "22/10",
          "22/11",
          "22/12",
          "23/01",
          "23/02",
          "23/03",
          "23/04",
          "23/05",
          "23/06"
         ],
         "y": [
          122550.2935,
          133930.3319,
          106520.8334,
          122685.2828,
          84574.692,
          99267.8393,
          135735.115,
          178817.904,
          92091.7412,
          74633.4324,
          68115.3604,
          66851.8856,
          83136.9524,
          108694.5554,
          91217.3984,
          84693.8128,
          57670.3175,
          58704.1788,
          114624.3682,
          80479.2356,
          75969.6413,
          66158.1451,
          55437.7304,
          51989.3625,
          91660.6354,
          119016.8562,
          112140.5012,
          119405.154,
          73256.4008,
          75690.37240000001,
          156731.8232,
          91944.2837,
          91557.7159,
          74779.4013,
          77993.4051,
          70095.5177
         ]
        }
       ],
       "layout": {
        "template": {
         "data": {
          "bar": [
           {
            "error_x": {
             "color": "#2a3f5f"
            },
            "error_y": {
             "color": "#2a3f5f"
            },
            "marker": {
             "line": {
              "color": "white",
              "width": 0.5
             },
             "pattern": {
              "fillmode": "overlay",
              "size": 10,
              "solidity": 0.2
             }
            },
            "type": "bar"
           }
          ],
          "barpolar": [
           {
            "marker": {
             "line": {
              "color": "white",
              "width": 0.5
             },
             "pattern": {
              "fillmode": "overlay",
              "size": 10,
              "solidity": 0.2
             }
            },
            "type": "barpolar"
           }
          ],
          "carpet": [
           {
            "aaxis": {
             "endlinecolor": "#2a3f5f",
             "gridcolor": "#C8D4E3",
             "linecolor": "#C8D4E3",
             "minorgridcolor": "#C8D4E3",
             "startlinecolor": "#2a3f5f"
            },
            "baxis": {
             "endlinecolor": "#2a3f5f",
             "gridcolor": "#C8D4E3",
             "linecolor": "#C8D4E3",
             "minorgridcolor": "#C8D4E3",
             "startlinecolor": "#2a3f5f"
            },
            "type": "carpet"
           }
          ],
          "choropleth": [
           {
            "colorbar": {
             "outlinewidth": 0,
             "ticks": ""
            },
            "type": "choropleth"
           }
          ],
          "contour": [
           {
            "colorbar": {
             "outlinewidth": 0,
             "ticks": ""
            },
            "colorscale": [
             [
              0,
              "#0d0887"
             ],
             [
              0.1111111111111111,
              "#46039f"
             ],
             [
              0.2222222222222222,
              "#7201a8"
             ],
             [
              0.3333333333333333,
              "#9c179e"
             ],
             [
              0.4444444444444444,
              "#bd3786"
             ],
             [
              0.5555555555555556,
              "#d8576b"
             ],
             [
              0.6666666666666666,
              "#ed7953"
             ],
             [
              0.7777777777777778,
              "#fb9f3a"
             ],
             [
              0.8888888888888888,
              "#fdca26"
             ],
             [
              1,
              "#f0f921"
             ]
            ],
            "type": "contour"
           }
          ],
          "contourcarpet": [
           {
            "colorbar": {
             "outlinewidth": 0,
             "ticks": ""
            },
            "type": "contourcarpet"
           }
          ],
          "heatmap": [
           {
            "colorbar": {
             "outlinewidth": 0,
             "ticks": ""
            },
            "colorscale": [
             [
              0,
              "#0d0887"
             ],
             [
              0.1111111111111111,
              "#46039f"
             ],
             [
              0.2222222222222222,
              "#7201a8"
             ],
             [
              0.3333333333333333,
              "#9c179e"
             ],
             [
              0.4444444444444444,
              "#bd3786"
             ],
             [
              0.5555555555555556,
              "#d8576b"
             ],
             [
              0.6666666666666666,
              "#ed7953"
             ],
             [
              0.7777777777777778,
              "#fb9f3a"
             ],
             [
              0.8888888888888888,
              "#fdca26"
             ],
             [
              1,
              "#f0f921"
             ]
            ],
            "type": "heatmap"
           }
          ],
          "heatmapgl": [
           {
            "colorbar": {
             "outlinewidth": 0,
             "ticks": ""
            },
            "colorscale": [
             [
              0,
              "#0d0887"
             ],
             [
              0.1111111111111111,
              "#46039f"
             ],
             [
              0.2222222222222222,
              "#7201a8"
             ],
             [
              0.3333333333333333,
              "#9c179e"
             ],
             [
              0.4444444444444444,
              "#bd3786"
             ],
             [
              0.5555555555555556,
              "#d8576b"
             ],
             [
              0.6666666666666666,
              "#ed7953"
             ],
             [
              0.7777777777777778,
              "#fb9f3a"
             ],
             [
              0.8888888888888888,
              "#fdca26"
             ],
             [
              1,
              "#f0f921"
             ]
            ],
            "type": "heatmapgl"
           }
          ],
          "histogram": [
           {
            "marker": {
             "pattern": {
              "fillmode": "overlay",
              "size": 10,
              "solidity": 0.2
             }
            },
            "type": "histogram"
           }
          ],
          "histogram2d": [
           {
            "colorbar": {
             "outlinewidth": 0,
             "ticks": ""
            },
            "colorscale": [
             [
              0,
              "#0d0887"
             ],
             [
              0.1111111111111111,
              "#46039f"
             ],
             [
              0.2222222222222222,
              "#7201a8"
             ],
             [
              0.3333333333333333,
              "#9c179e"
             ],
             [
              0.4444444444444444,
              "#bd3786"
             ],
             [
              0.5555555555555556,
              "#d8576b"
             ],
             [
              0.6666666666666666,
              "#ed7953"
             ],
             [
              0.7777777777777778,
              "#fb9f3a"
             ],
             [
              0.8888888888888888,
              "#fdca26"
             ],
             [
              1,
              "#f0f921"
             ]
            ],
            "type": "histogram2d"
           }
          ],
          "histogram2dcontour": [
           {
            "colorbar": {
             "outlinewidth": 0,
             "ticks": ""
            },
            "colorscale": [
             [
              0,
              "#0d0887"
             ],
             [
              0.1111111111111111,
              "#46039f"
             ],
             [
              0.2222222222222222,
              "#7201a8"
             ],
             [
              0.3333333333333333,
              "#9c179e"
             ],
             [
              0.4444444444444444,
              "#bd3786"
             ],
             [
              0.5555555555555556,
              "#d8576b"
             ],
             [
              0.6666666666666666,
              "#ed7953"
             ],
             [
              0.7777777777777778,
              "#fb9f3a"
             ],
             [
              0.8888888888888888,
              "#fdca26"
             ],
             [
              1,
              "#f0f921"
             ]
            ],
            "type": "histogram2dcontour"
           }
          ],
          "mesh3d": [
           {
            "colorbar": {
             "outlinewidth": 0,
             "ticks": ""
            },
            "type": "mesh3d"
           }
          ],
          "parcoords": [
           {
            "line": {
             "colorbar": {
              "outlinewidth": 0,
              "ticks": ""
             }
            },
            "type": "parcoords"
           }
          ],
          "pie": [
           {
            "automargin": true,
            "type": "pie"
           }
          ],
          "scatter": [
           {
            "fillpattern": {
             "fillmode": "overlay",
             "size": 10,
             "solidity": 0.2
            },
            "type": "scatter"
           }
          ],
          "scatter3d": [
           {
            "line": {
             "colorbar": {
              "outlinewidth": 0,
              "ticks": ""
             }
            },
            "marker": {
             "colorbar": {
              "outlinewidth": 0,
              "ticks": ""
             }
            },
            "type": "scatter3d"
           }
          ],
          "scattercarpet": [
           {
            "marker": {
             "colorbar": {
              "outlinewidth": 0,
              "ticks": ""
             }
            },
            "type": "scattercarpet"
           }
          ],
          "scattergeo": [
           {
            "marker": {
             "colorbar": {
              "outlinewidth": 0,
              "ticks": ""
             }
            },
            "type": "scattergeo"
           }
          ],
          "scattergl": [
           {
            "marker": {
             "colorbar": {
              "outlinewidth": 0,
              "ticks": ""
             }
            },
            "type": "scattergl"
           }
          ],
          "scattermapbox": [
           {
            "marker": {
             "colorbar": {
              "outlinewidth": 0,
              "ticks": ""
             }
            },
            "type": "scattermapbox"
           }
          ],
          "scatterpolar": [
           {
            "marker": {
             "colorbar": {
              "outlinewidth": 0,
              "ticks": ""
             }
            },
            "type": "scatterpolar"
           }
          ],
          "scatterpolargl": [
           {
            "marker": {
             "colorbar": {
              "outlinewidth": 0,
              "ticks": ""
             }
            },
            "type": "scatterpolargl"
           }
          ],
          "scatterternary": [
           {
            "marker": {
             "colorbar": {
              "outlinewidth": 0,
              "ticks": ""
             }
            },
            "type": "scatterternary"
           }
          ],
          "surface": [
           {
            "colorbar": {
             "outlinewidth": 0,
             "ticks": ""
            },
            "colorscale": [
             [
              0,
              "#0d0887"
             ],
             [
              0.1111111111111111,
              "#46039f"
             ],
             [
              0.2222222222222222,
              "#7201a8"
             ],
             [
              0.3333333333333333,
              "#9c179e"
             ],
             [
              0.4444444444444444,
              "#bd3786"
             ],
             [
              0.5555555555555556,
              "#d8576b"
             ],
             [
              0.6666666666666666,
              "#ed7953"
             ],
             [
              0.7777777777777778,
              "#fb9f3a"
             ],
             [
              0.8888888888888888,
              "#fdca26"
             ],
             [
              1,
              "#f0f921"
             ]
            ],
            "type": "surface"
           }
          ],
          "table": [
           {
            "cells": {
             "fill": {
              "color": "#EBF0F8"
             },
             "line": {
              "color": "white"
             }
            },
            "header": {
             "fill": {
              "color": "#C8D4E3"
             },
             "line": {
              "color": "white"
             }
            },
            "type": "table"
           }
          ]
         },
         "layout": {
          "annotationdefaults": {
           "arrowcolor": "#2a3f5f",
           "arrowhead": 0,
           "arrowwidth": 1
          },
          "autotypenumbers": "strict",
          "coloraxis": {
           "colorbar": {
            "outlinewidth": 0,
            "ticks": ""
           }
          },
          "colorscale": {
           "diverging": [
            [
             0,
             "#8e0152"
            ],
            [
             0.1,
             "#c51b7d"
            ],
            [
             0.2,
             "#de77ae"
            ],
            [
             0.3,
             "#f1b6da"
            ],
            [
             0.4,
             "#fde0ef"
            ],
            [
             0.5,
             "#f7f7f7"
            ],
            [
             0.6,
             "#e6f5d0"
            ],
            [
             0.7,
             "#b8e186"
            ],
            [
             0.8,
             "#7fbc41"
            ],
            [
             0.9,
             "#4d9221"
            ],
            [
             1,
             "#276419"
            ]
           ],
           "sequential": [
            [
             0,
             "#0d0887"
            ],
            [
             0.1111111111111111,
             "#46039f"
            ],
            [
             0.2222222222222222,
             "#7201a8"
            ],
            [
             0.3333333333333333,
             "#9c179e"
            ],
            [
             0.4444444444444444,
             "#bd3786"
            ],
            [
             0.5555555555555556,
             "#d8576b"
            ],
            [
             0.6666666666666666,
             "#ed7953"
            ],
            [
             0.7777777777777778,
             "#fb9f3a"
            ],
            [
             0.8888888888888888,
             "#fdca26"
            ],
            [
             1,
             "#f0f921"
            ]
           ],
           "sequentialminus": [
            [
             0,
             "#0d0887"
            ],
            [
             0.1111111111111111,
             "#46039f"
            ],
            [
             0.2222222222222222,
             "#7201a8"
            ],
            [
             0.3333333333333333,
             "#9c179e"
            ],
            [
             0.4444444444444444,
             "#bd3786"
            ],
            [
             0.5555555555555556,
             "#d8576b"
            ],
            [
             0.6666666666666666,
             "#ed7953"
            ],
            [
             0.7777777777777778,
             "#fb9f3a"
            ],
            [
             0.8888888888888888,
             "#fdca26"
            ],
            [
             1,
             "#f0f921"
            ]
           ]
          },
          "colorway": [
           "#636efa",
           "#EF553B",
           "#00cc96",
           "#ab63fa",
           "#FFA15A",
           "#19d3f3",
           "#FF6692",
           "#B6E880",
           "#FF97FF",
           "#FECB52"
          ],
          "font": {
           "color": "#2a3f5f"
          },
          "geo": {
           "bgcolor": "white",
           "lakecolor": "white",
           "landcolor": "white",
           "showlakes": true,
           "showland": true,
           "subunitcolor": "#C8D4E3"
          },
          "hoverlabel": {
           "align": "left"
          },
          "hovermode": "closest",
          "mapbox": {
           "style": "light"
          },
          "paper_bgcolor": "white",
          "plot_bgcolor": "white",
          "polar": {
           "angularaxis": {
            "gridcolor": "#EBF0F8",
            "linecolor": "#EBF0F8",
            "ticks": ""
           },
           "bgcolor": "white",
           "radialaxis": {
            "gridcolor": "#EBF0F8",
            "linecolor": "#EBF0F8",
            "ticks": ""
           }
          },
          "scene": {
           "xaxis": {
            "backgroundcolor": "white",
            "gridcolor": "#DFE8F3",
            "gridwidth": 2,
            "linecolor": "#EBF0F8",
            "showbackground": true,
            "ticks": "",
            "zerolinecolor": "#EBF0F8"
           },
           "yaxis": {
            "backgroundcolor": "white",
            "gridcolor": "#DFE8F3",
            "gridwidth": 2,
            "linecolor": "#EBF0F8",
            "showbackground": true,
            "ticks": "",
            "zerolinecolor": "#EBF0F8"
           },
           "zaxis": {
            "backgroundcolor": "white",
            "gridcolor": "#DFE8F3",
            "gridwidth": 2,
            "linecolor": "#EBF0F8",
            "showbackground": true,
            "ticks": "",
            "zerolinecolor": "#EBF0F8"
           }
          },
          "shapedefaults": {
           "line": {
            "color": "#2a3f5f"
           }
          },
          "ternary": {
           "aaxis": {
            "gridcolor": "#DFE8F3",
            "linecolor": "#A2B1C6",
            "ticks": ""
           },
           "baxis": {
            "gridcolor": "#DFE8F3",
            "linecolor": "#A2B1C6",
            "ticks": ""
           },
           "bgcolor": "white",
           "caxis": {
            "gridcolor": "#DFE8F3",
            "linecolor": "#A2B1C6",
            "ticks": ""
           }
          },
          "title": {
           "x": 0.05
          },
          "xaxis": {
           "automargin": true,
           "gridcolor": "#EBF0F8",
           "linecolor": "#EBF0F8",
           "ticks": "",
           "title": {
            "standoff": 15
           },
           "zerolinecolor": "#EBF0F8",
           "zerolinewidth": 2
          },
          "yaxis": {
           "automargin": true,
           "gridcolor": "#EBF0F8",
           "linecolor": "#EBF0F8",
           "ticks": "",
           "title": {
            "standoff": 15
           },
           "zerolinecolor": "#EBF0F8",
           "zerolinewidth": 2
          }
         }
        },
        "title": {
         "text": "Monthly Revenue Trend"
        },
        "xaxis": {
         "title": {
          "text": "Year/Month"
         }
        },
        "yaxis": {
         "title": {
          "text": "Revenue"
         }
        }
       }
      }
     },
     "metadata": {},
     "output_type": "display_data"
    }
   ],
   "source": [
    "import plotly.express as px\n",
    "import plotly.graph_objects as go\n",
    "df_date = df.groupby('Year/Month')['Revenue'].sum().reset_index()\n",
    "# Scatter (regression-like) + line plot\n",
    "fig = go.Figure()\n",
    "\n",
    "# Add scatter plot (similar to regplot without CI)\n",
    "fig.add_trace(go.Scatter(\n",
    "    x=df_date['Year/Month'],\n",
    "    y=df_date['Revenue'],\n",
    "    mode='markers',\n",
    "    name='Data Points',\n",
    "    marker=dict(color='blue', size=6),\n",
    "    opacity=0.6\n",
    "))\n",
    "\n",
    "# Add trend line (fit using rolling mean or lowess if you want)\n",
    "fig.add_trace(go.Scatter(\n",
    "    x=df_date['Year/Month'],\n",
    "    y=df_date['Revenue'],\n",
    "    mode='lines',\n",
    "    name='Revenue Trend',\n",
    "    line=dict(color='orange', width=2)\n",
    "))\n",
    "\n",
    "# Update layout\n",
    "fig.update_layout(\n",
    "    title='Monthly Revenue Trend',\n",
    "    xaxis_title='Year/Month',\n",
    "    yaxis_title='Revenue',\n",
    "    # width=1200,\n",
    "    # height=500,\n",
    "    template='plotly_white'\n",
    ")\n",
    "\n",
    "fig.show()\n"
   ]
  },
  {
   "cell_type": "code",
   "execution_count": 1528,
   "id": "3464290b",
   "metadata": {},
   "outputs": [
    {
     "data": {
      "application/vnd.plotly.v1+json": {
       "config": {
        "plotlyServerURL": "https://plot.ly"
       },
       "data": [
        {
         "hovertemplate": "Year=2020<br>Month=%{x}<br>Revenue=%{y}<extra></extra>",
         "legendgroup": "2020",
         "line": {
          "color": "#636efa",
          "dash": "solid"
         },
         "marker": {
          "symbol": "circle"
         },
         "mode": "lines+markers",
         "name": "2020",
         "orientation": "v",
         "showlegend": true,
         "type": "scatter",
         "x": [
          7,
          8,
          9,
          10,
          11,
          12
         ],
         "xaxis": "x",
         "y": [
          33596,
          36578,
          28153,
          31884,
          28045,
          27576
         ],
         "yaxis": "y"
        },
        {
         "hovertemplate": "Year=2021<br>Month=%{x}<br>Revenue=%{y}<extra></extra>",
         "legendgroup": "2021",
         "line": {
          "color": "#EF553B",
          "dash": "solid"
         },
         "marker": {
          "symbol": "circle"
         },
         "mode": "lines+markers",
         "name": "2021",
         "orientation": "v",
         "showlegend": true,
         "type": "scatter",
         "x": [
          1,
          2,
          3,
          4,
          5,
          6,
          7,
          8,
          9,
          10,
          11,
          12
         ],
         "xaxis": "x",
         "y": [
          28648,
          33508,
          26368,
          23372,
          25411,
          24124,
          26794,
          30922,
          24436,
          22526,
          14745,
          17915
         ],
         "yaxis": "y"
        },
        {
         "hovertemplate": "Year=2022<br>Month=%{x}<br>Revenue=%{y}<extra></extra>",
         "legendgroup": "2022",
         "line": {
          "color": "#00cc96",
          "dash": "solid"
         },
         "marker": {
          "symbol": "circle"
         },
         "mode": "lines+markers",
         "name": "2022",
         "orientation": "v",
         "showlegend": true,
         "type": "scatter",
         "x": [
          1,
          2,
          3,
          4,
          5,
          6,
          7,
          8,
          9,
          10,
          11,
          12
         ],
         "xaxis": "x",
         "y": [
          24029,
          17418,
          16486,
          15437,
          17234,
          18267,
          25229,
          31722,
          24040,
          29731,
          22595,
          21764
         ],
         "yaxis": "y"
        },
        {
         "hovertemplate": "Year=2023<br>Month=%{x}<br>Revenue=%{y}<extra></extra>",
         "legendgroup": "2023",
         "line": {
          "color": "#ab63fa",
          "dash": "solid"
         },
         "marker": {
          "symbol": "circle"
         },
         "mode": "lines+markers",
         "name": "2023",
         "orientation": "v",
         "showlegend": true,
         "type": "scatter",
         "x": [
          1,
          2,
          3,
          4,
          5,
          6
         ],
         "xaxis": "x",
         "y": [
          31246,
          20658,
          21335,
          19119,
          19767,
          17824
         ],
         "yaxis": "y"
        }
       ],
       "layout": {
        "legend": {
         "title": {
          "text": "Year"
         },
         "tracegroupgap": 0
        },
        "template": {
         "data": {
          "bar": [
           {
            "error_x": {
             "color": "#2a3f5f"
            },
            "error_y": {
             "color": "#2a3f5f"
            },
            "marker": {
             "line": {
              "color": "#E5ECF6",
              "width": 0.5
             },
             "pattern": {
              "fillmode": "overlay",
              "size": 10,
              "solidity": 0.2
             }
            },
            "type": "bar"
           }
          ],
          "barpolar": [
           {
            "marker": {
             "line": {
              "color": "#E5ECF6",
              "width": 0.5
             },
             "pattern": {
              "fillmode": "overlay",
              "size": 10,
              "solidity": 0.2
             }
            },
            "type": "barpolar"
           }
          ],
          "carpet": [
           {
            "aaxis": {
             "endlinecolor": "#2a3f5f",
             "gridcolor": "white",
             "linecolor": "white",
             "minorgridcolor": "white",
             "startlinecolor": "#2a3f5f"
            },
            "baxis": {
             "endlinecolor": "#2a3f5f",
             "gridcolor": "white",
             "linecolor": "white",
             "minorgridcolor": "white",
             "startlinecolor": "#2a3f5f"
            },
            "type": "carpet"
           }
          ],
          "choropleth": [
           {
            "colorbar": {
             "outlinewidth": 0,
             "ticks": ""
            },
            "type": "choropleth"
           }
          ],
          "contour": [
           {
            "colorbar": {
             "outlinewidth": 0,
             "ticks": ""
            },
            "colorscale": [
             [
              0,
              "#0d0887"
             ],
             [
              0.1111111111111111,
              "#46039f"
             ],
             [
              0.2222222222222222,
              "#7201a8"
             ],
             [
              0.3333333333333333,
              "#9c179e"
             ],
             [
              0.4444444444444444,
              "#bd3786"
             ],
             [
              0.5555555555555556,
              "#d8576b"
             ],
             [
              0.6666666666666666,
              "#ed7953"
             ],
             [
              0.7777777777777778,
              "#fb9f3a"
             ],
             [
              0.8888888888888888,
              "#fdca26"
             ],
             [
              1,
              "#f0f921"
             ]
            ],
            "type": "contour"
           }
          ],
          "contourcarpet": [
           {
            "colorbar": {
             "outlinewidth": 0,
             "ticks": ""
            },
            "type": "contourcarpet"
           }
          ],
          "heatmap": [
           {
            "colorbar": {
             "outlinewidth": 0,
             "ticks": ""
            },
            "colorscale": [
             [
              0,
              "#0d0887"
             ],
             [
              0.1111111111111111,
              "#46039f"
             ],
             [
              0.2222222222222222,
              "#7201a8"
             ],
             [
              0.3333333333333333,
              "#9c179e"
             ],
             [
              0.4444444444444444,
              "#bd3786"
             ],
             [
              0.5555555555555556,
              "#d8576b"
             ],
             [
              0.6666666666666666,
              "#ed7953"
             ],
             [
              0.7777777777777778,
              "#fb9f3a"
             ],
             [
              0.8888888888888888,
              "#fdca26"
             ],
             [
              1,
              "#f0f921"
             ]
            ],
            "type": "heatmap"
           }
          ],
          "heatmapgl": [
           {
            "colorbar": {
             "outlinewidth": 0,
             "ticks": ""
            },
            "colorscale": [
             [
              0,
              "#0d0887"
             ],
             [
              0.1111111111111111,
              "#46039f"
             ],
             [
              0.2222222222222222,
              "#7201a8"
             ],
             [
              0.3333333333333333,
              "#9c179e"
             ],
             [
              0.4444444444444444,
              "#bd3786"
             ],
             [
              0.5555555555555556,
              "#d8576b"
             ],
             [
              0.6666666666666666,
              "#ed7953"
             ],
             [
              0.7777777777777778,
              "#fb9f3a"
             ],
             [
              0.8888888888888888,
              "#fdca26"
             ],
             [
              1,
              "#f0f921"
             ]
            ],
            "type": "heatmapgl"
           }
          ],
          "histogram": [
           {
            "marker": {
             "pattern": {
              "fillmode": "overlay",
              "size": 10,
              "solidity": 0.2
             }
            },
            "type": "histogram"
           }
          ],
          "histogram2d": [
           {
            "colorbar": {
             "outlinewidth": 0,
             "ticks": ""
            },
            "colorscale": [
             [
              0,
              "#0d0887"
             ],
             [
              0.1111111111111111,
              "#46039f"
             ],
             [
              0.2222222222222222,
              "#7201a8"
             ],
             [
              0.3333333333333333,
              "#9c179e"
             ],
             [
              0.4444444444444444,
              "#bd3786"
             ],
             [
              0.5555555555555556,
              "#d8576b"
             ],
             [
              0.6666666666666666,
              "#ed7953"
             ],
             [
              0.7777777777777778,
              "#fb9f3a"
             ],
             [
              0.8888888888888888,
              "#fdca26"
             ],
             [
              1,
              "#f0f921"
             ]
            ],
            "type": "histogram2d"
           }
          ],
          "histogram2dcontour": [
           {
            "colorbar": {
             "outlinewidth": 0,
             "ticks": ""
            },
            "colorscale": [
             [
              0,
              "#0d0887"
             ],
             [
              0.1111111111111111,
              "#46039f"
             ],
             [
              0.2222222222222222,
              "#7201a8"
             ],
             [
              0.3333333333333333,
              "#9c179e"
             ],
             [
              0.4444444444444444,
              "#bd3786"
             ],
             [
              0.5555555555555556,
              "#d8576b"
             ],
             [
              0.6666666666666666,
              "#ed7953"
             ],
             [
              0.7777777777777778,
              "#fb9f3a"
             ],
             [
              0.8888888888888888,
              "#fdca26"
             ],
             [
              1,
              "#f0f921"
             ]
            ],
            "type": "histogram2dcontour"
           }
          ],
          "mesh3d": [
           {
            "colorbar": {
             "outlinewidth": 0,
             "ticks": ""
            },
            "type": "mesh3d"
           }
          ],
          "parcoords": [
           {
            "line": {
             "colorbar": {
              "outlinewidth": 0,
              "ticks": ""
             }
            },
            "type": "parcoords"
           }
          ],
          "pie": [
           {
            "automargin": true,
            "type": "pie"
           }
          ],
          "scatter": [
           {
            "fillpattern": {
             "fillmode": "overlay",
             "size": 10,
             "solidity": 0.2
            },
            "type": "scatter"
           }
          ],
          "scatter3d": [
           {
            "line": {
             "colorbar": {
              "outlinewidth": 0,
              "ticks": ""
             }
            },
            "marker": {
             "colorbar": {
              "outlinewidth": 0,
              "ticks": ""
             }
            },
            "type": "scatter3d"
           }
          ],
          "scattercarpet": [
           {
            "marker": {
             "colorbar": {
              "outlinewidth": 0,
              "ticks": ""
             }
            },
            "type": "scattercarpet"
           }
          ],
          "scattergeo": [
           {
            "marker": {
             "colorbar": {
              "outlinewidth": 0,
              "ticks": ""
             }
            },
            "type": "scattergeo"
           }
          ],
          "scattergl": [
           {
            "marker": {
             "colorbar": {
              "outlinewidth": 0,
              "ticks": ""
             }
            },
            "type": "scattergl"
           }
          ],
          "scattermapbox": [
           {
            "marker": {
             "colorbar": {
              "outlinewidth": 0,
              "ticks": ""
             }
            },
            "type": "scattermapbox"
           }
          ],
          "scatterpolar": [
           {
            "marker": {
             "colorbar": {
              "outlinewidth": 0,
              "ticks": ""
             }
            },
            "type": "scatterpolar"
           }
          ],
          "scatterpolargl": [
           {
            "marker": {
             "colorbar": {
              "outlinewidth": 0,
              "ticks": ""
             }
            },
            "type": "scatterpolargl"
           }
          ],
          "scatterternary": [
           {
            "marker": {
             "colorbar": {
              "outlinewidth": 0,
              "ticks": ""
             }
            },
            "type": "scatterternary"
           }
          ],
          "surface": [
           {
            "colorbar": {
             "outlinewidth": 0,
             "ticks": ""
            },
            "colorscale": [
             [
              0,
              "#0d0887"
             ],
             [
              0.1111111111111111,
              "#46039f"
             ],
             [
              0.2222222222222222,
              "#7201a8"
             ],
             [
              0.3333333333333333,
              "#9c179e"
             ],
             [
              0.4444444444444444,
              "#bd3786"
             ],
             [
              0.5555555555555556,
              "#d8576b"
             ],
             [
              0.6666666666666666,
              "#ed7953"
             ],
             [
              0.7777777777777778,
              "#fb9f3a"
             ],
             [
              0.8888888888888888,
              "#fdca26"
             ],
             [
              1,
              "#f0f921"
             ]
            ],
            "type": "surface"
           }
          ],
          "table": [
           {
            "cells": {
             "fill": {
              "color": "#EBF0F8"
             },
             "line": {
              "color": "white"
             }
            },
            "header": {
             "fill": {
              "color": "#C8D4E3"
             },
             "line": {
              "color": "white"
             }
            },
            "type": "table"
           }
          ]
         },
         "layout": {
          "annotationdefaults": {
           "arrowcolor": "#2a3f5f",
           "arrowhead": 0,
           "arrowwidth": 1
          },
          "autotypenumbers": "strict",
          "coloraxis": {
           "colorbar": {
            "outlinewidth": 0,
            "ticks": ""
           }
          },
          "colorscale": {
           "diverging": [
            [
             0,
             "#8e0152"
            ],
            [
             0.1,
             "#c51b7d"
            ],
            [
             0.2,
             "#de77ae"
            ],
            [
             0.3,
             "#f1b6da"
            ],
            [
             0.4,
             "#fde0ef"
            ],
            [
             0.5,
             "#f7f7f7"
            ],
            [
             0.6,
             "#e6f5d0"
            ],
            [
             0.7,
             "#b8e186"
            ],
            [
             0.8,
             "#7fbc41"
            ],
            [
             0.9,
             "#4d9221"
            ],
            [
             1,
             "#276419"
            ]
           ],
           "sequential": [
            [
             0,
             "#0d0887"
            ],
            [
             0.1111111111111111,
             "#46039f"
            ],
            [
             0.2222222222222222,
             "#7201a8"
            ],
            [
             0.3333333333333333,
             "#9c179e"
            ],
            [
             0.4444444444444444,
             "#bd3786"
            ],
            [
             0.5555555555555556,
             "#d8576b"
            ],
            [
             0.6666666666666666,
             "#ed7953"
            ],
            [
             0.7777777777777778,
             "#fb9f3a"
            ],
            [
             0.8888888888888888,
             "#fdca26"
            ],
            [
             1,
             "#f0f921"
            ]
           ],
           "sequentialminus": [
            [
             0,
             "#0d0887"
            ],
            [
             0.1111111111111111,
             "#46039f"
            ],
            [
             0.2222222222222222,
             "#7201a8"
            ],
            [
             0.3333333333333333,
             "#9c179e"
            ],
            [
             0.4444444444444444,
             "#bd3786"
            ],
            [
             0.5555555555555556,
             "#d8576b"
            ],
            [
             0.6666666666666666,
             "#ed7953"
            ],
            [
             0.7777777777777778,
             "#fb9f3a"
            ],
            [
             0.8888888888888888,
             "#fdca26"
            ],
            [
             1,
             "#f0f921"
            ]
           ]
          },
          "colorway": [
           "#636efa",
           "#EF553B",
           "#00cc96",
           "#ab63fa",
           "#FFA15A",
           "#19d3f3",
           "#FF6692",
           "#B6E880",
           "#FF97FF",
           "#FECB52"
          ],
          "font": {
           "color": "#2a3f5f"
          },
          "geo": {
           "bgcolor": "white",
           "lakecolor": "white",
           "landcolor": "#E5ECF6",
           "showlakes": true,
           "showland": true,
           "subunitcolor": "white"
          },
          "hoverlabel": {
           "align": "left"
          },
          "hovermode": "closest",
          "mapbox": {
           "style": "light"
          },
          "paper_bgcolor": "white",
          "plot_bgcolor": "#E5ECF6",
          "polar": {
           "angularaxis": {
            "gridcolor": "white",
            "linecolor": "white",
            "ticks": ""
           },
           "bgcolor": "#E5ECF6",
           "radialaxis": {
            "gridcolor": "white",
            "linecolor": "white",
            "ticks": ""
           }
          },
          "scene": {
           "xaxis": {
            "backgroundcolor": "#E5ECF6",
            "gridcolor": "white",
            "gridwidth": 2,
            "linecolor": "white",
            "showbackground": true,
            "ticks": "",
            "zerolinecolor": "white"
           },
           "yaxis": {
            "backgroundcolor": "#E5ECF6",
            "gridcolor": "white",
            "gridwidth": 2,
            "linecolor": "white",
            "showbackground": true,
            "ticks": "",
            "zerolinecolor": "white"
           },
           "zaxis": {
            "backgroundcolor": "#E5ECF6",
            "gridcolor": "white",
            "gridwidth": 2,
            "linecolor": "white",
            "showbackground": true,
            "ticks": "",
            "zerolinecolor": "white"
           }
          },
          "shapedefaults": {
           "line": {
            "color": "#2a3f5f"
           }
          },
          "ternary": {
           "aaxis": {
            "gridcolor": "white",
            "linecolor": "white",
            "ticks": ""
           },
           "baxis": {
            "gridcolor": "white",
            "linecolor": "white",
            "ticks": ""
           },
           "bgcolor": "#E5ECF6",
           "caxis": {
            "gridcolor": "white",
            "linecolor": "white",
            "ticks": ""
           }
          },
          "title": {
           "x": 0.05
          },
          "xaxis": {
           "automargin": true,
           "gridcolor": "white",
           "linecolor": "white",
           "ticks": "",
           "title": {
            "standoff": 15
           },
           "zerolinecolor": "white",
           "zerolinewidth": 2
          },
          "yaxis": {
           "automargin": true,
           "gridcolor": "white",
           "linecolor": "white",
           "ticks": "",
           "title": {
            "standoff": 15
           },
           "zerolinecolor": "white",
           "zerolinewidth": 2
          }
         }
        },
        "title": {
         "text": "Monthly Revenue Counts by Year"
        },
        "xaxis": {
         "anchor": "y",
         "domain": [
          0,
          1
         ],
         "title": {
          "text": "Month"
         }
        },
        "yaxis": {
         "anchor": "x",
         "domain": [
          0,
          1
         ],
         "title": {
          "text": "Revenue"
         }
        }
       }
      }
     },
     "metadata": {},
     "output_type": "display_data"
    }
   ],
   "source": [
    "df_date_month_year = df.groupby(['Year','Month'])[['Revenue']].count().reset_index()\n",
    "import plotly.express as px\n",
    "\n",
    "fig = px.line(\n",
    "    df_date_month_year,\n",
    "    x='Month',\n",
    "    y='Revenue',\n",
    "    color='Year',   # this creates separate lines by Year\n",
    "    markers=True,\n",
    "    title='Monthly Revenue Counts by Year'\n",
    ")\n",
    "\n",
    "fig.show()\n"
   ]
  },
  {
   "cell_type": "markdown",
   "id": "92688500",
   "metadata": {},
   "source": [
    "The trend is always go up in August and New Year\n",
    "\n",
    "After research I get why :\n",
    "\n",
    "- January : Lunar New Year on February 2021, February 2022, Jan 2023\n",
    "- August : Summer Promo\n",
    "- Oktober : Mid-Autumn Festival\n",
    "\n",
    "Idea for Model : `Create a flag for event`\n",
    "\n",
    "Next we will find out which product customer buy"
   ]
  },
  {
   "cell_type": "code",
   "execution_count": null,
   "id": "b199d0af",
   "metadata": {},
   "outputs": [],
   "source": [
    "df['Event'] = \"None\""
   ]
  },
  {
   "cell_type": "code",
   "execution_count": 1530,
   "id": "98336216",
   "metadata": {},
   "outputs": [
    {
     "data": {
      "text/plain": [
       "(array([2021, 2022, 2023], dtype=int32), array([2, 1], dtype=int32))"
      ]
     },
     "execution_count": 1530,
     "metadata": {},
     "output_type": "execute_result"
    }
   ],
   "source": [
    "# Lunar New Year\n",
    "df.loc[(df['Month']==2)&((df['Year']==2021)|(df['Year']==2022)),'Event']='Lunar New Year'\n",
    "df.loc[(df['Month']==1)&(df['Year']==2023),'Event']='Lunar New Year'\n",
    "df[df['Event']=='Lunar New Year']['Year'].unique(),df[df['Event']=='Lunar New Year']['Month'].unique()"
   ]
  },
  {
   "cell_type": "code",
   "execution_count": 1531,
   "id": "22a17a58",
   "metadata": {},
   "outputs": [],
   "source": [
    "# Summer Promo\n",
    "df.loc[(df['Month']==8),'Event']='Summer Promo'\n",
    "\n",
    "# Summer Promo\n",
    "df.loc[(df['Month']==10),'Event']='Mid-Autumn Festival'"
   ]
  },
  {
   "cell_type": "code",
   "execution_count": 1532,
   "id": "6954f2ef",
   "metadata": {},
   "outputs": [
    {
     "data": {
      "text/plain": [
       "array(['None', 'Summer Promo', 'Mid-Autumn Festival', 'Lunar New Year'],\n",
       "      dtype=object)"
      ]
     },
     "execution_count": 1532,
     "metadata": {},
     "output_type": "execute_result"
    }
   ],
   "source": [
    "df['Event'].unique()"
   ]
  },
  {
   "cell_type": "markdown",
   "id": "6d04ffb1",
   "metadata": {},
   "source": [
    "## **Event Specific Focus**\n",
    "\n",
    "We will see which product with the best revenue generated"
   ]
  },
  {
   "cell_type": "code",
   "execution_count": 1533,
   "id": "efa63d13",
   "metadata": {},
   "outputs": [
    {
     "data": {
      "application/vnd.plotly.v1+json": {
       "config": {
        "plotlyServerURL": "https://plot.ly"
       },
       "data": [
        {
         "alignmentgroup": "True",
         "hovertemplate": "Category Name=Capsicum<br>Total Profit=%{x}<br>Product Name=%{y}<extra></extra>",
         "legendgroup": "Capsicum",
         "marker": {
          "color": "#636efa",
          "pattern": {
           "shape": ""
          }
         },
         "name": "Capsicum",
         "offsetgroup": "Capsicum",
         "orientation": "h",
         "showlegend": true,
         "textposition": "auto",
         "texttemplate": "%{x}",
         "type": "bar",
         "x": [
          9600,
          7142,
          4158
         ],
         "xaxis": "x",
         "y": [
          "Wuhu Green Pepper (1)",
          "Red Pepper (1)",
          "Millet Pepper"
         ],
         "yaxis": "y"
        },
        {
         "alignmentgroup": "True",
         "hovertemplate": "Category Name=Aquatic Tuberous Vegetables<br>Total Profit=%{x}<br>Product Name=%{y}<extra></extra>",
         "legendgroup": "Aquatic Tuberous Vegetables",
         "marker": {
          "color": "#EF553B",
          "pattern": {
           "shape": ""
          }
         },
         "name": "Aquatic Tuberous Vegetables",
         "offsetgroup": "Aquatic Tuberous Vegetables",
         "orientation": "h",
         "showlegend": true,
         "textposition": "auto",
         "texttemplate": "%{x}",
         "type": "bar",
         "x": [
          8178,
          3990
         ],
         "xaxis": "x",
         "y": [
          "Net Lotus Root (1)",
          "Honghu Lotus Root Powder (Fenou)"
         ],
         "yaxis": "y"
        },
        {
         "alignmentgroup": "True",
         "hovertemplate": "Category Name=Cabbage<br>Total Profit=%{x}<br>Product Name=%{y}<extra></extra>",
         "legendgroup": "Cabbage",
         "marker": {
          "color": "#00cc96",
          "pattern": {
           "shape": ""
          }
         },
         "name": "Cabbage",
         "offsetgroup": "Cabbage",
         "orientation": "h",
         "showlegend": true,
         "textposition": "auto",
         "texttemplate": "%{x}",
         "type": "bar",
         "x": [
          7656
         ],
         "xaxis": "x",
         "y": [
          "Broccoli"
         ],
         "yaxis": "y"
        },
        {
         "alignmentgroup": "True",
         "hovertemplate": "Category Name=Solanum<br>Total Profit=%{x}<br>Product Name=%{y}<extra></extra>",
         "legendgroup": "Solanum",
         "marker": {
          "color": "#ab63fa",
          "pattern": {
           "shape": ""
          }
         },
         "name": "Solanum",
         "offsetgroup": "Solanum",
         "orientation": "h",
         "showlegend": true,
         "textposition": "auto",
         "texttemplate": "%{x}",
         "type": "bar",
         "x": [
          5291
         ],
         "xaxis": "x",
         "y": [
          "Eggplant (2)"
         ],
         "yaxis": "y"
        },
        {
         "alignmentgroup": "True",
         "hovertemplate": "Category Name=Edible Mushroom<br>Total Profit=%{x}<br>Product Name=%{y}<extra></extra>",
         "legendgroup": "Edible Mushroom",
         "marker": {
          "color": "#FFA15A",
          "pattern": {
           "shape": ""
          }
         },
         "name": "Edible Mushroom",
         "offsetgroup": "Edible Mushroom",
         "orientation": "h",
         "showlegend": true,
         "textposition": "auto",
         "texttemplate": "%{x}",
         "type": "bar",
         "x": [
          4775,
          4484,
          3877
         ],
         "xaxis": "x",
         "y": [
          "Xixia Mushroom (1)",
          "Needle Mushroom (Box)",
          "Xixia Black Mushroom (1)"
         ],
         "yaxis": "y"
        }
       ],
       "layout": {
        "barmode": "relative",
        "legend": {
         "title": {
          "text": "Category Name"
         },
         "tracegroupgap": 0
        },
        "template": {
         "data": {
          "bar": [
           {
            "error_x": {
             "color": "#2a3f5f"
            },
            "error_y": {
             "color": "#2a3f5f"
            },
            "marker": {
             "line": {
              "color": "#E5ECF6",
              "width": 0.5
             },
             "pattern": {
              "fillmode": "overlay",
              "size": 10,
              "solidity": 0.2
             }
            },
            "type": "bar"
           }
          ],
          "barpolar": [
           {
            "marker": {
             "line": {
              "color": "#E5ECF6",
              "width": 0.5
             },
             "pattern": {
              "fillmode": "overlay",
              "size": 10,
              "solidity": 0.2
             }
            },
            "type": "barpolar"
           }
          ],
          "carpet": [
           {
            "aaxis": {
             "endlinecolor": "#2a3f5f",
             "gridcolor": "white",
             "linecolor": "white",
             "minorgridcolor": "white",
             "startlinecolor": "#2a3f5f"
            },
            "baxis": {
             "endlinecolor": "#2a3f5f",
             "gridcolor": "white",
             "linecolor": "white",
             "minorgridcolor": "white",
             "startlinecolor": "#2a3f5f"
            },
            "type": "carpet"
           }
          ],
          "choropleth": [
           {
            "colorbar": {
             "outlinewidth": 0,
             "ticks": ""
            },
            "type": "choropleth"
           }
          ],
          "contour": [
           {
            "colorbar": {
             "outlinewidth": 0,
             "ticks": ""
            },
            "colorscale": [
             [
              0,
              "#0d0887"
             ],
             [
              0.1111111111111111,
              "#46039f"
             ],
             [
              0.2222222222222222,
              "#7201a8"
             ],
             [
              0.3333333333333333,
              "#9c179e"
             ],
             [
              0.4444444444444444,
              "#bd3786"
             ],
             [
              0.5555555555555556,
              "#d8576b"
             ],
             [
              0.6666666666666666,
              "#ed7953"
             ],
             [
              0.7777777777777778,
              "#fb9f3a"
             ],
             [
              0.8888888888888888,
              "#fdca26"
             ],
             [
              1,
              "#f0f921"
             ]
            ],
            "type": "contour"
           }
          ],
          "contourcarpet": [
           {
            "colorbar": {
             "outlinewidth": 0,
             "ticks": ""
            },
            "type": "contourcarpet"
           }
          ],
          "heatmap": [
           {
            "colorbar": {
             "outlinewidth": 0,
             "ticks": ""
            },
            "colorscale": [
             [
              0,
              "#0d0887"
             ],
             [
              0.1111111111111111,
              "#46039f"
             ],
             [
              0.2222222222222222,
              "#7201a8"
             ],
             [
              0.3333333333333333,
              "#9c179e"
             ],
             [
              0.4444444444444444,
              "#bd3786"
             ],
             [
              0.5555555555555556,
              "#d8576b"
             ],
             [
              0.6666666666666666,
              "#ed7953"
             ],
             [
              0.7777777777777778,
              "#fb9f3a"
             ],
             [
              0.8888888888888888,
              "#fdca26"
             ],
             [
              1,
              "#f0f921"
             ]
            ],
            "type": "heatmap"
           }
          ],
          "heatmapgl": [
           {
            "colorbar": {
             "outlinewidth": 0,
             "ticks": ""
            },
            "colorscale": [
             [
              0,
              "#0d0887"
             ],
             [
              0.1111111111111111,
              "#46039f"
             ],
             [
              0.2222222222222222,
              "#7201a8"
             ],
             [
              0.3333333333333333,
              "#9c179e"
             ],
             [
              0.4444444444444444,
              "#bd3786"
             ],
             [
              0.5555555555555556,
              "#d8576b"
             ],
             [
              0.6666666666666666,
              "#ed7953"
             ],
             [
              0.7777777777777778,
              "#fb9f3a"
             ],
             [
              0.8888888888888888,
              "#fdca26"
             ],
             [
              1,
              "#f0f921"
             ]
            ],
            "type": "heatmapgl"
           }
          ],
          "histogram": [
           {
            "marker": {
             "pattern": {
              "fillmode": "overlay",
              "size": 10,
              "solidity": 0.2
             }
            },
            "type": "histogram"
           }
          ],
          "histogram2d": [
           {
            "colorbar": {
             "outlinewidth": 0,
             "ticks": ""
            },
            "colorscale": [
             [
              0,
              "#0d0887"
             ],
             [
              0.1111111111111111,
              "#46039f"
             ],
             [
              0.2222222222222222,
              "#7201a8"
             ],
             [
              0.3333333333333333,
              "#9c179e"
             ],
             [
              0.4444444444444444,
              "#bd3786"
             ],
             [
              0.5555555555555556,
              "#d8576b"
             ],
             [
              0.6666666666666666,
              "#ed7953"
             ],
             [
              0.7777777777777778,
              "#fb9f3a"
             ],
             [
              0.8888888888888888,
              "#fdca26"
             ],
             [
              1,
              "#f0f921"
             ]
            ],
            "type": "histogram2d"
           }
          ],
          "histogram2dcontour": [
           {
            "colorbar": {
             "outlinewidth": 0,
             "ticks": ""
            },
            "colorscale": [
             [
              0,
              "#0d0887"
             ],
             [
              0.1111111111111111,
              "#46039f"
             ],
             [
              0.2222222222222222,
              "#7201a8"
             ],
             [
              0.3333333333333333,
              "#9c179e"
             ],
             [
              0.4444444444444444,
              "#bd3786"
             ],
             [
              0.5555555555555556,
              "#d8576b"
             ],
             [
              0.6666666666666666,
              "#ed7953"
             ],
             [
              0.7777777777777778,
              "#fb9f3a"
             ],
             [
              0.8888888888888888,
              "#fdca26"
             ],
             [
              1,
              "#f0f921"
             ]
            ],
            "type": "histogram2dcontour"
           }
          ],
          "mesh3d": [
           {
            "colorbar": {
             "outlinewidth": 0,
             "ticks": ""
            },
            "type": "mesh3d"
           }
          ],
          "parcoords": [
           {
            "line": {
             "colorbar": {
              "outlinewidth": 0,
              "ticks": ""
             }
            },
            "type": "parcoords"
           }
          ],
          "pie": [
           {
            "automargin": true,
            "type": "pie"
           }
          ],
          "scatter": [
           {
            "fillpattern": {
             "fillmode": "overlay",
             "size": 10,
             "solidity": 0.2
            },
            "type": "scatter"
           }
          ],
          "scatter3d": [
           {
            "line": {
             "colorbar": {
              "outlinewidth": 0,
              "ticks": ""
             }
            },
            "marker": {
             "colorbar": {
              "outlinewidth": 0,
              "ticks": ""
             }
            },
            "type": "scatter3d"
           }
          ],
          "scattercarpet": [
           {
            "marker": {
             "colorbar": {
              "outlinewidth": 0,
              "ticks": ""
             }
            },
            "type": "scattercarpet"
           }
          ],
          "scattergeo": [
           {
            "marker": {
             "colorbar": {
              "outlinewidth": 0,
              "ticks": ""
             }
            },
            "type": "scattergeo"
           }
          ],
          "scattergl": [
           {
            "marker": {
             "colorbar": {
              "outlinewidth": 0,
              "ticks": ""
             }
            },
            "type": "scattergl"
           }
          ],
          "scattermapbox": [
           {
            "marker": {
             "colorbar": {
              "outlinewidth": 0,
              "ticks": ""
             }
            },
            "type": "scattermapbox"
           }
          ],
          "scatterpolar": [
           {
            "marker": {
             "colorbar": {
              "outlinewidth": 0,
              "ticks": ""
             }
            },
            "type": "scatterpolar"
           }
          ],
          "scatterpolargl": [
           {
            "marker": {
             "colorbar": {
              "outlinewidth": 0,
              "ticks": ""
             }
            },
            "type": "scatterpolargl"
           }
          ],
          "scatterternary": [
           {
            "marker": {
             "colorbar": {
              "outlinewidth": 0,
              "ticks": ""
             }
            },
            "type": "scatterternary"
           }
          ],
          "surface": [
           {
            "colorbar": {
             "outlinewidth": 0,
             "ticks": ""
            },
            "colorscale": [
             [
              0,
              "#0d0887"
             ],
             [
              0.1111111111111111,
              "#46039f"
             ],
             [
              0.2222222222222222,
              "#7201a8"
             ],
             [
              0.3333333333333333,
              "#9c179e"
             ],
             [
              0.4444444444444444,
              "#bd3786"
             ],
             [
              0.5555555555555556,
              "#d8576b"
             ],
             [
              0.6666666666666666,
              "#ed7953"
             ],
             [
              0.7777777777777778,
              "#fb9f3a"
             ],
             [
              0.8888888888888888,
              "#fdca26"
             ],
             [
              1,
              "#f0f921"
             ]
            ],
            "type": "surface"
           }
          ],
          "table": [
           {
            "cells": {
             "fill": {
              "color": "#EBF0F8"
             },
             "line": {
              "color": "white"
             }
            },
            "header": {
             "fill": {
              "color": "#C8D4E3"
             },
             "line": {
              "color": "white"
             }
            },
            "type": "table"
           }
          ]
         },
         "layout": {
          "annotationdefaults": {
           "arrowcolor": "#2a3f5f",
           "arrowhead": 0,
           "arrowwidth": 1
          },
          "autotypenumbers": "strict",
          "coloraxis": {
           "colorbar": {
            "outlinewidth": 0,
            "ticks": ""
           }
          },
          "colorscale": {
           "diverging": [
            [
             0,
             "#8e0152"
            ],
            [
             0.1,
             "#c51b7d"
            ],
            [
             0.2,
             "#de77ae"
            ],
            [
             0.3,
             "#f1b6da"
            ],
            [
             0.4,
             "#fde0ef"
            ],
            [
             0.5,
             "#f7f7f7"
            ],
            [
             0.6,
             "#e6f5d0"
            ],
            [
             0.7,
             "#b8e186"
            ],
            [
             0.8,
             "#7fbc41"
            ],
            [
             0.9,
             "#4d9221"
            ],
            [
             1,
             "#276419"
            ]
           ],
           "sequential": [
            [
             0,
             "#0d0887"
            ],
            [
             0.1111111111111111,
             "#46039f"
            ],
            [
             0.2222222222222222,
             "#7201a8"
            ],
            [
             0.3333333333333333,
             "#9c179e"
            ],
            [
             0.4444444444444444,
             "#bd3786"
            ],
            [
             0.5555555555555556,
             "#d8576b"
            ],
            [
             0.6666666666666666,
             "#ed7953"
            ],
            [
             0.7777777777777778,
             "#fb9f3a"
            ],
            [
             0.8888888888888888,
             "#fdca26"
            ],
            [
             1,
             "#f0f921"
            ]
           ],
           "sequentialminus": [
            [
             0,
             "#0d0887"
            ],
            [
             0.1111111111111111,
             "#46039f"
            ],
            [
             0.2222222222222222,
             "#7201a8"
            ],
            [
             0.3333333333333333,
             "#9c179e"
            ],
            [
             0.4444444444444444,
             "#bd3786"
            ],
            [
             0.5555555555555556,
             "#d8576b"
            ],
            [
             0.6666666666666666,
             "#ed7953"
            ],
            [
             0.7777777777777778,
             "#fb9f3a"
            ],
            [
             0.8888888888888888,
             "#fdca26"
            ],
            [
             1,
             "#f0f921"
            ]
           ]
          },
          "colorway": [
           "#636efa",
           "#EF553B",
           "#00cc96",
           "#ab63fa",
           "#FFA15A",
           "#19d3f3",
           "#FF6692",
           "#B6E880",
           "#FF97FF",
           "#FECB52"
          ],
          "font": {
           "color": "#2a3f5f"
          },
          "geo": {
           "bgcolor": "white",
           "lakecolor": "white",
           "landcolor": "#E5ECF6",
           "showlakes": true,
           "showland": true,
           "subunitcolor": "white"
          },
          "hoverlabel": {
           "align": "left"
          },
          "hovermode": "closest",
          "mapbox": {
           "style": "light"
          },
          "paper_bgcolor": "white",
          "plot_bgcolor": "#E5ECF6",
          "polar": {
           "angularaxis": {
            "gridcolor": "white",
            "linecolor": "white",
            "ticks": ""
           },
           "bgcolor": "#E5ECF6",
           "radialaxis": {
            "gridcolor": "white",
            "linecolor": "white",
            "ticks": ""
           }
          },
          "scene": {
           "xaxis": {
            "backgroundcolor": "#E5ECF6",
            "gridcolor": "white",
            "gridwidth": 2,
            "linecolor": "white",
            "showbackground": true,
            "ticks": "",
            "zerolinecolor": "white"
           },
           "yaxis": {
            "backgroundcolor": "#E5ECF6",
            "gridcolor": "white",
            "gridwidth": 2,
            "linecolor": "white",
            "showbackground": true,
            "ticks": "",
            "zerolinecolor": "white"
           },
           "zaxis": {
            "backgroundcolor": "#E5ECF6",
            "gridcolor": "white",
            "gridwidth": 2,
            "linecolor": "white",
            "showbackground": true,
            "ticks": "",
            "zerolinecolor": "white"
           }
          },
          "shapedefaults": {
           "line": {
            "color": "#2a3f5f"
           }
          },
          "ternary": {
           "aaxis": {
            "gridcolor": "white",
            "linecolor": "white",
            "ticks": ""
           },
           "baxis": {
            "gridcolor": "white",
            "linecolor": "white",
            "ticks": ""
           },
           "bgcolor": "#E5ECF6",
           "caxis": {
            "gridcolor": "white",
            "linecolor": "white",
            "ticks": ""
           }
          },
          "title": {
           "x": 0.05
          },
          "xaxis": {
           "automargin": true,
           "gridcolor": "white",
           "linecolor": "white",
           "ticks": "",
           "title": {
            "standoff": 15
           },
           "zerolinecolor": "white",
           "zerolinewidth": 2
          },
          "yaxis": {
           "automargin": true,
           "gridcolor": "white",
           "linecolor": "white",
           "ticks": "",
           "title": {
            "standoff": 15
           },
           "zerolinecolor": "white",
           "zerolinewidth": 2
          }
         }
        },
        "title": {
         "text": "Top 10 Product with the Best Profit Adjusted in Lunar New Year Period"
        },
        "xaxis": {
         "anchor": "y",
         "domain": [
          0,
          1
         ],
         "title": {
          "text": "Total Profit"
         }
        },
        "yaxis": {
         "anchor": "x",
         "categoryarray": [
          "Xixia Black Mushroom (1)",
          "Honghu Lotus Root Powder (Fenou)",
          "Millet Pepper",
          "Needle Mushroom (Box)",
          "Xixia Mushroom (1)",
          "Eggplant (2)",
          "Red Pepper (1)",
          "Broccoli",
          "Net Lotus Root (1)",
          "Wuhu Green Pepper (1)"
         ],
         "categoryorder": "array",
         "domain": [
          0,
          1
         ],
         "title": {
          "text": "Product Name"
         }
        }
       }
      }
     },
     "metadata": {},
     "output_type": "display_data"
    }
   ],
   "source": [
    "def get_top_products_by_profit(df, df1, event_name, top_n=10):\n",
    "    # Filter data for the specific event and sales\n",
    "    df_event = df[(df['Event'] == event_name) & (df['Sale or Return'] == 'sale')].copy()\n",
    "\n",
    "    # Count orders and aggregate revenue\n",
    "    df_popular = df_event['Item Code'].value_counts().reset_index()\n",
    "    df_popular.columns = ['Item Code', 'total_order']\n",
    "\n",
    "    df_revenue = df_event.groupby('Item Code')['Revenue'].sum().reset_index()\n",
    "    df_revenue['Revenue'] = df_revenue['Revenue'].round()\n",
    "\n",
    "    # Merge with item details\n",
    "    df_all = df_popular.merge(df_revenue, on='Item Code', how='left')\n",
    "    df_all = df_all.merge(df1[['Item Code', 'Item Name', 'Category Name']], on='Item Code', how='left')\n",
    "\n",
    "    # Calculate net profit\n",
    "    df_event['Adjusted_cost'] = df_event['Wholesale Price (RMB/kg)'] / (1 - df_event['Loss Rate (%)'] / 100)\n",
    "    df_event['net_profit'] = df_event['Quantity Sold (kilo)'] * (\n",
    "        df_event['Unit Selling Price (RMB/kg)'] - df_event['Adjusted_cost']\n",
    "    )\n",
    "\n",
    "    df_profit = df_event.groupby('Item Code')['net_profit'].sum().reset_index()\n",
    "    df_profit['net_profit'] = df_profit['net_profit'].round()\n",
    "\n",
    "    # Final merge\n",
    "    df_final = df_all.merge(df_profit, on='Item Code', how='left')\n",
    "    df_final = df_final[['Item Name', 'Category Name', 'total_order', 'Revenue', 'net_profit']]\n",
    "    df_final = df_final.sort_values(by='net_profit', ascending=False).head(top_n)\n",
    "    import plotly.express as px\n",
    "    fig = px.bar(\n",
    "        df_final.head(10),\n",
    "        x='net_profit',\n",
    "        y='Item Name',\n",
    "        color=\"Category Name\",\n",
    "        text_auto=True,\n",
    "        title=\"Top 10 Product with the Best Profit Adjusted in Lunar New Year Period\",\n",
    "        labels={\n",
    "            'Item Name': 'Product Name',\n",
    "            'net_profit': 'Total Profit'\n",
    "        },\n",
    "            category_orders={'Item Name': df_final['Item Name'].tolist()}  # enforce custom order\n",
    ")\n",
    "    fig.show()\n",
    "    return df_final\n",
    "\n",
    "df_top_lunar = get_top_products_by_profit(df, df1, \"Lunar New Year\")\n",
    "\n",
    "#['None', 'Summer Promo', 'Mid-Autumn Festival', 'Lunar New Year']\n"
   ]
  },
  {
   "cell_type": "markdown",
   "id": "d0002850",
   "metadata": {},
   "source": [
    "# Price Optimization Model\n",
    "\n",
    "We predict for each year, each product\n",
    "\n",
    "We will exclude return and not discount"
   ]
  },
  {
   "cell_type": "markdown",
   "id": "67059688",
   "metadata": {},
   "source": [
    "**What is pyGAM?**\n",
    "\n",
    "pygam is a Python library that helps you build smooth curves through your data using a model called a Generalized Additive Model (GAM).\n",
    "\n",
    "Imagine you're trying to draw a smooth line that best fits your data points—pygam helps you do that while keeping it flexible and interpretable.\n",
    "\n",
    "What is usually predicted as a straight line can be made more flexible using GAM.\n",
    "\n",
    "**🧪 How does ExpectileGAM work?**\n",
    "\n",
    "Let’s say you want to model how quantity sold depends on price, but you want:\n",
    "\n",
    "* One curve for the lower bound (25th percentile or expectile)\n",
    "* One curve for the middle (50th = median)\n",
    "* One for the upper bound (75th percentile or expectile)\n",
    "\n",
    "\n",
    "**🧑‍🔬 Analogy:**\n",
    "Imagine you're trying to draw 3 curves to show:\n",
    "\n",
    "- Worst-case demand (bottom curve)\n",
    "- Typical demand (middle curve)\n",
    "- Best-case demand (top curve)\n",
    "\n",
    "ExpectileGAM helps you draw these curves in a smooth way, automatically learning the shape from the data.\n",
    "\n",
    "**What it create?**\n",
    "\n",
    "After we train the model, the model try to predict for each data point the 3 curve that suit the best."
   ]
  },
  {
   "cell_type": "code",
   "execution_count": 1534,
   "id": "54ab9ad6",
   "metadata": {},
   "outputs": [
    {
     "data": {
      "text/html": [
       "<div>\n",
       "<style scoped>\n",
       "    .dataframe tbody tr th:only-of-type {\n",
       "        vertical-align: middle;\n",
       "    }\n",
       "\n",
       "    .dataframe tbody tr th {\n",
       "        vertical-align: top;\n",
       "    }\n",
       "\n",
       "    .dataframe thead th {\n",
       "        text-align: right;\n",
       "    }\n",
       "</style>\n",
       "<table border=\"1\" class=\"dataframe\">\n",
       "  <thead>\n",
       "    <tr style=\"text-align: right;\">\n",
       "      <th></th>\n",
       "      <th>Date</th>\n",
       "      <th>Time</th>\n",
       "      <th>Item Code</th>\n",
       "      <th>Quantity Sold (kilo)</th>\n",
       "      <th>Unit Selling Price (RMB/kg)</th>\n",
       "      <th>Sale or Return</th>\n",
       "      <th>Discount (Yes/No)</th>\n",
       "      <th>Item Name</th>\n",
       "      <th>Category Name</th>\n",
       "      <th>Wholesale Price (RMB/kg)</th>\n",
       "      <th>Loss Rate (%)</th>\n",
       "      <th>day_of_week</th>\n",
       "      <th>Month</th>\n",
       "      <th>Year</th>\n",
       "      <th>Year/Month</th>\n",
       "      <th>Revenue</th>\n",
       "      <th>Adjusted_profit</th>\n",
       "      <th>Event</th>\n",
       "    </tr>\n",
       "  </thead>\n",
       "  <tbody>\n",
       "    <tr>\n",
       "      <th>0</th>\n",
       "      <td>2020-07-01</td>\n",
       "      <td>09:15:07.924</td>\n",
       "      <td>102900005117056</td>\n",
       "      <td>0.396</td>\n",
       "      <td>7.6</td>\n",
       "      <td>sale</td>\n",
       "      <td>No</td>\n",
       "      <td>Paopaojiao (Jingpin)</td>\n",
       "      <td>Capsicum</td>\n",
       "      <td>4.32</td>\n",
       "      <td>7.08</td>\n",
       "      <td>2</td>\n",
       "      <td>7</td>\n",
       "      <td>2020</td>\n",
       "      <td>20/07</td>\n",
       "      <td>3.0096</td>\n",
       "      <td>1.841068</td>\n",
       "      <td>None</td>\n",
       "    </tr>\n",
       "    <tr>\n",
       "      <th>1</th>\n",
       "      <td>2020-07-01</td>\n",
       "      <td>09:17:27.295</td>\n",
       "      <td>102900005115960</td>\n",
       "      <td>0.849</td>\n",
       "      <td>3.2</td>\n",
       "      <td>sale</td>\n",
       "      <td>No</td>\n",
       "      <td>Chinese Cabbage</td>\n",
       "      <td>Flower/Leaf Vegetables</td>\n",
       "      <td>2.10</td>\n",
       "      <td>22.27</td>\n",
       "      <td>2</td>\n",
       "      <td>7</td>\n",
       "      <td>2020</td>\n",
       "      <td>20/07</td>\n",
       "      <td>2.7168</td>\n",
       "      <td>2.293709</td>\n",
       "      <td>None</td>\n",
       "    </tr>\n",
       "    <tr>\n",
       "      <th>2</th>\n",
       "      <td>2020-07-01</td>\n",
       "      <td>09:17:33.905</td>\n",
       "      <td>102900005117056</td>\n",
       "      <td>0.409</td>\n",
       "      <td>7.6</td>\n",
       "      <td>sale</td>\n",
       "      <td>No</td>\n",
       "      <td>Paopaojiao (Jingpin)</td>\n",
       "      <td>Capsicum</td>\n",
       "      <td>4.32</td>\n",
       "      <td>7.08</td>\n",
       "      <td>2</td>\n",
       "      <td>7</td>\n",
       "      <td>2020</td>\n",
       "      <td>20/07</td>\n",
       "      <td>3.1084</td>\n",
       "      <td>1.901507</td>\n",
       "      <td>None</td>\n",
       "    </tr>\n",
       "    <tr>\n",
       "      <th>3</th>\n",
       "      <td>2020-07-01</td>\n",
       "      <td>09:19:45.450</td>\n",
       "      <td>102900005115823</td>\n",
       "      <td>0.421</td>\n",
       "      <td>10.0</td>\n",
       "      <td>sale</td>\n",
       "      <td>No</td>\n",
       "      <td>Shanghaiqing</td>\n",
       "      <td>Flower/Leaf Vegetables</td>\n",
       "      <td>7.03</td>\n",
       "      <td>14.43</td>\n",
       "      <td>2</td>\n",
       "      <td>7</td>\n",
       "      <td>2020</td>\n",
       "      <td>20/07</td>\n",
       "      <td>4.2100</td>\n",
       "      <td>3.458724</td>\n",
       "      <td>None</td>\n",
       "    </tr>\n",
       "    <tr>\n",
       "      <th>4</th>\n",
       "      <td>2020-07-01</td>\n",
       "      <td>09:20:23.686</td>\n",
       "      <td>102900005115908</td>\n",
       "      <td>0.539</td>\n",
       "      <td>8.0</td>\n",
       "      <td>sale</td>\n",
       "      <td>No</td>\n",
       "      <td>Caixin</td>\n",
       "      <td>Flower/Leaf Vegetables</td>\n",
       "      <td>4.60</td>\n",
       "      <td>13.70</td>\n",
       "      <td>2</td>\n",
       "      <td>7</td>\n",
       "      <td>2020</td>\n",
       "      <td>20/07</td>\n",
       "      <td>4.3120</td>\n",
       "      <td>2.873001</td>\n",
       "      <td>None</td>\n",
       "    </tr>\n",
       "    <tr>\n",
       "      <th>...</th>\n",
       "      <td>...</td>\n",
       "      <td>...</td>\n",
       "      <td>...</td>\n",
       "      <td>...</td>\n",
       "      <td>...</td>\n",
       "      <td>...</td>\n",
       "      <td>...</td>\n",
       "      <td>...</td>\n",
       "      <td>...</td>\n",
       "      <td>...</td>\n",
       "      <td>...</td>\n",
       "      <td>...</td>\n",
       "      <td>...</td>\n",
       "      <td>...</td>\n",
       "      <td>...</td>\n",
       "      <td>...</td>\n",
       "      <td>...</td>\n",
       "      <td>...</td>\n",
       "    </tr>\n",
       "    <tr>\n",
       "      <th>878498</th>\n",
       "      <td>2023-06-30</td>\n",
       "      <td>21:35:13.264</td>\n",
       "      <td>102900005115250</td>\n",
       "      <td>0.284</td>\n",
       "      <td>24.0</td>\n",
       "      <td>sale</td>\n",
       "      <td>No</td>\n",
       "      <td>Xixia Black Mushroom (1)</td>\n",
       "      <td>Edible Mushroom</td>\n",
       "      <td>15.60</td>\n",
       "      <td>10.80</td>\n",
       "      <td>4</td>\n",
       "      <td>6</td>\n",
       "      <td>2023</td>\n",
       "      <td>23/06</td>\n",
       "      <td>6.8160</td>\n",
       "      <td>4.966816</td>\n",
       "      <td>None</td>\n",
       "    </tr>\n",
       "    <tr>\n",
       "      <th>878499</th>\n",
       "      <td>2023-06-30</td>\n",
       "      <td>21:35:14.358</td>\n",
       "      <td>102900011022764</td>\n",
       "      <td>0.669</td>\n",
       "      <td>12.0</td>\n",
       "      <td>sale</td>\n",
       "      <td>No</td>\n",
       "      <td>Changxianqie</td>\n",
       "      <td>Solanum</td>\n",
       "      <td>7.00</td>\n",
       "      <td>6.90</td>\n",
       "      <td>4</td>\n",
       "      <td>6</td>\n",
       "      <td>2023</td>\n",
       "      <td>23/06</td>\n",
       "      <td>8.0280</td>\n",
       "      <td>5.030075</td>\n",
       "      <td>None</td>\n",
       "    </tr>\n",
       "    <tr>\n",
       "      <th>878500</th>\n",
       "      <td>2023-06-30</td>\n",
       "      <td>21:35:20.264</td>\n",
       "      <td>102900005115250</td>\n",
       "      <td>0.125</td>\n",
       "      <td>24.0</td>\n",
       "      <td>sale</td>\n",
       "      <td>No</td>\n",
       "      <td>Xixia Black Mushroom (1)</td>\n",
       "      <td>Edible Mushroom</td>\n",
       "      <td>15.60</td>\n",
       "      <td>10.80</td>\n",
       "      <td>4</td>\n",
       "      <td>6</td>\n",
       "      <td>2023</td>\n",
       "      <td>23/06</td>\n",
       "      <td>3.0000</td>\n",
       "      <td>2.186099</td>\n",
       "      <td>None</td>\n",
       "    </tr>\n",
       "    <tr>\n",
       "      <th>878501</th>\n",
       "      <td>2023-06-30</td>\n",
       "      <td>21:35:21.509</td>\n",
       "      <td>102900011016701</td>\n",
       "      <td>0.252</td>\n",
       "      <td>5.2</td>\n",
       "      <td>sale</td>\n",
       "      <td>No</td>\n",
       "      <td>Wuhu Green Pepper (1)</td>\n",
       "      <td>Capsicum</td>\n",
       "      <td>3.63</td>\n",
       "      <td>5.70</td>\n",
       "      <td>4</td>\n",
       "      <td>6</td>\n",
       "      <td>2023</td>\n",
       "      <td>23/06</td>\n",
       "      <td>1.3104</td>\n",
       "      <td>0.970053</td>\n",
       "      <td>None</td>\n",
       "    </tr>\n",
       "    <tr>\n",
       "      <th>878502</th>\n",
       "      <td>2023-06-30</td>\n",
       "      <td>21:40:48.248</td>\n",
       "      <td>102900011022764</td>\n",
       "      <td>0.803</td>\n",
       "      <td>12.0</td>\n",
       "      <td>sale</td>\n",
       "      <td>No</td>\n",
       "      <td>Changxianqie</td>\n",
       "      <td>Solanum</td>\n",
       "      <td>7.00</td>\n",
       "      <td>6.90</td>\n",
       "      <td>4</td>\n",
       "      <td>6</td>\n",
       "      <td>2023</td>\n",
       "      <td>23/06</td>\n",
       "      <td>9.6360</td>\n",
       "      <td>6.037594</td>\n",
       "      <td>None</td>\n",
       "    </tr>\n",
       "  </tbody>\n",
       "</table>\n",
       "<p>878502 rows × 18 columns</p>\n",
       "</div>"
      ],
      "text/plain": [
       "             Date          Time        Item Code  Quantity Sold (kilo)  \\\n",
       "0      2020-07-01  09:15:07.924  102900005117056                 0.396   \n",
       "1      2020-07-01  09:17:27.295  102900005115960                 0.849   \n",
       "2      2020-07-01  09:17:33.905  102900005117056                 0.409   \n",
       "3      2020-07-01  09:19:45.450  102900005115823                 0.421   \n",
       "4      2020-07-01  09:20:23.686  102900005115908                 0.539   \n",
       "...           ...           ...              ...                   ...   \n",
       "878498 2023-06-30  21:35:13.264  102900005115250                 0.284   \n",
       "878499 2023-06-30  21:35:14.358  102900011022764                 0.669   \n",
       "878500 2023-06-30  21:35:20.264  102900005115250                 0.125   \n",
       "878501 2023-06-30  21:35:21.509  102900011016701                 0.252   \n",
       "878502 2023-06-30  21:40:48.248  102900011022764                 0.803   \n",
       "\n",
       "        Unit Selling Price (RMB/kg) Sale or Return Discount (Yes/No)  \\\n",
       "0                               7.6           sale                No   \n",
       "1                               3.2           sale                No   \n",
       "2                               7.6           sale                No   \n",
       "3                              10.0           sale                No   \n",
       "4                               8.0           sale                No   \n",
       "...                             ...            ...               ...   \n",
       "878498                         24.0           sale                No   \n",
       "878499                         12.0           sale                No   \n",
       "878500                         24.0           sale                No   \n",
       "878501                          5.2           sale                No   \n",
       "878502                         12.0           sale                No   \n",
       "\n",
       "                       Item Name           Category Name  \\\n",
       "0           Paopaojiao (Jingpin)                Capsicum   \n",
       "1                Chinese Cabbage  Flower/Leaf Vegetables   \n",
       "2           Paopaojiao (Jingpin)                Capsicum   \n",
       "3                   Shanghaiqing  Flower/Leaf Vegetables   \n",
       "4                         Caixin  Flower/Leaf Vegetables   \n",
       "...                          ...                     ...   \n",
       "878498  Xixia Black Mushroom (1)         Edible Mushroom   \n",
       "878499              Changxianqie                 Solanum   \n",
       "878500  Xixia Black Mushroom (1)         Edible Mushroom   \n",
       "878501     Wuhu Green Pepper (1)                Capsicum   \n",
       "878502              Changxianqie                 Solanum   \n",
       "\n",
       "        Wholesale Price (RMB/kg)  Loss Rate (%)  day_of_week  Month  Year  \\\n",
       "0                           4.32           7.08            2      7  2020   \n",
       "1                           2.10          22.27            2      7  2020   \n",
       "2                           4.32           7.08            2      7  2020   \n",
       "3                           7.03          14.43            2      7  2020   \n",
       "4                           4.60          13.70            2      7  2020   \n",
       "...                          ...            ...          ...    ...   ...   \n",
       "878498                     15.60          10.80            4      6  2023   \n",
       "878499                      7.00           6.90            4      6  2023   \n",
       "878500                     15.60          10.80            4      6  2023   \n",
       "878501                      3.63           5.70            4      6  2023   \n",
       "878502                      7.00           6.90            4      6  2023   \n",
       "\n",
       "       Year/Month  Revenue  Adjusted_profit Event  \n",
       "0           20/07   3.0096         1.841068  None  \n",
       "1           20/07   2.7168         2.293709  None  \n",
       "2           20/07   3.1084         1.901507  None  \n",
       "3           20/07   4.2100         3.458724  None  \n",
       "4           20/07   4.3120         2.873001  None  \n",
       "...           ...      ...              ...   ...  \n",
       "878498      23/06   6.8160         4.966816  None  \n",
       "878499      23/06   8.0280         5.030075  None  \n",
       "878500      23/06   3.0000         2.186099  None  \n",
       "878501      23/06   1.3104         0.970053  None  \n",
       "878502      23/06   9.6360         6.037594  None  \n",
       "\n",
       "[878502 rows x 18 columns]"
      ]
     },
     "execution_count": 1534,
     "metadata": {},
     "output_type": "execute_result"
    }
   ],
   "source": [
    "df"
   ]
  },
  {
   "cell_type": "code",
   "execution_count": null,
   "id": "983d4e7f",
   "metadata": {},
   "outputs": [],
   "source": [
    "df[(df['Sale or Return']=='sale')&(df['Discount (Yes/No)']=='No')].drop(columns=['Date','Time','Item Code','Sale or Return','Discount (Yes/No)','day_of_week']).to_csv('Dataset/clean_df.csv',index=False)"
   ]
  },
  {
   "cell_type": "code",
   "execution_count": 1560,
   "id": "992838c7",
   "metadata": {},
   "outputs": [],
   "source": [
    "year = [2023]\n",
    "df_filtered = df[(df['Sale or Return']=='sale')&(df['Discount (Yes/No)']=='No')&(df['Year'].isin(year))].copy()"
   ]
  },
  {
   "cell_type": "code",
   "execution_count": 1580,
   "id": "1e0eedae",
   "metadata": {},
   "outputs": [
    {
     "data": {
      "text/html": [
       "<div>\n",
       "<style scoped>\n",
       "    .dataframe tbody tr th:only-of-type {\n",
       "        vertical-align: middle;\n",
       "    }\n",
       "\n",
       "    .dataframe tbody tr th {\n",
       "        vertical-align: top;\n",
       "    }\n",
       "\n",
       "    .dataframe thead th {\n",
       "        text-align: right;\n",
       "    }\n",
       "</style>\n",
       "<table border=\"1\" class=\"dataframe\">\n",
       "  <thead>\n",
       "    <tr style=\"text-align: right;\">\n",
       "      <th></th>\n",
       "      <th>Item Code</th>\n",
       "      <th>count</th>\n",
       "    </tr>\n",
       "  </thead>\n",
       "  <tbody>\n",
       "    <tr>\n",
       "      <th>117</th>\n",
       "      <td>102900011018132</td>\n",
       "      <td>6</td>\n",
       "    </tr>\n",
       "    <tr>\n",
       "      <th>118</th>\n",
       "      <td>102900011021675</td>\n",
       "      <td>6</td>\n",
       "    </tr>\n",
       "    <tr>\n",
       "      <th>119</th>\n",
       "      <td>102900011008485</td>\n",
       "      <td>6</td>\n",
       "    </tr>\n",
       "    <tr>\n",
       "      <th>120</th>\n",
       "      <td>102900011002414</td>\n",
       "      <td>4</td>\n",
       "    </tr>\n",
       "    <tr>\n",
       "      <th>121</th>\n",
       "      <td>102900051010790</td>\n",
       "      <td>4</td>\n",
       "    </tr>\n",
       "    <tr>\n",
       "      <th>122</th>\n",
       "      <td>102900011030912</td>\n",
       "      <td>3</td>\n",
       "    </tr>\n",
       "    <tr>\n",
       "      <th>123</th>\n",
       "      <td>102900011036266</td>\n",
       "      <td>3</td>\n",
       "    </tr>\n",
       "    <tr>\n",
       "      <th>124</th>\n",
       "      <td>102900011034538</td>\n",
       "      <td>3</td>\n",
       "    </tr>\n",
       "    <tr>\n",
       "      <th>125</th>\n",
       "      <td>102900011034705</td>\n",
       "      <td>3</td>\n",
       "    </tr>\n",
       "    <tr>\n",
       "      <th>126</th>\n",
       "      <td>102900011008133</td>\n",
       "      <td>3</td>\n",
       "    </tr>\n",
       "    <tr>\n",
       "      <th>127</th>\n",
       "      <td>102900011030608</td>\n",
       "      <td>2</td>\n",
       "    </tr>\n",
       "    <tr>\n",
       "      <th>128</th>\n",
       "      <td>102900005116219</td>\n",
       "      <td>2</td>\n",
       "    </tr>\n",
       "    <tr>\n",
       "      <th>129</th>\n",
       "      <td>102900011008676</td>\n",
       "      <td>1</td>\n",
       "    </tr>\n",
       "    <tr>\n",
       "      <th>130</th>\n",
       "      <td>102900005116837</td>\n",
       "      <td>1</td>\n",
       "    </tr>\n",
       "    <tr>\n",
       "      <th>131</th>\n",
       "      <td>102900011001806</td>\n",
       "      <td>1</td>\n",
       "    </tr>\n",
       "  </tbody>\n",
       "</table>\n",
       "</div>"
      ],
      "text/plain": [
       "           Item Code  count\n",
       "117  102900011018132      6\n",
       "118  102900011021675      6\n",
       "119  102900011008485      6\n",
       "120  102900011002414      4\n",
       "121  102900051010790      4\n",
       "122  102900011030912      3\n",
       "123  102900011036266      3\n",
       "124  102900011034538      3\n",
       "125  102900011034705      3\n",
       "126  102900011008133      3\n",
       "127  102900011030608      2\n",
       "128  102900005116219      2\n",
       "129  102900011008676      1\n",
       "130  102900005116837      1\n",
       "131  102900011001806      1"
      ]
     },
     "execution_count": 1580,
     "metadata": {},
     "output_type": "execute_result"
    }
   ],
   "source": [
    "df_filtered['Item Code'].value_counts().reset_index().tail(15)"
   ]
  },
  {
   "cell_type": "code",
   "execution_count": 1586,
   "id": "8226055d",
   "metadata": {},
   "outputs": [
    {
     "name": "stdout",
     "output_type": "stream",
     "text": [
      "Loss Rate : 6.57\n",
      "Total Data 5\n"
     ]
    },
    {
     "data": {
      "text/html": [
       "<div>\n",
       "<style scoped>\n",
       "    .dataframe tbody tr th:only-of-type {\n",
       "        vertical-align: middle;\n",
       "    }\n",
       "\n",
       "    .dataframe tbody tr th {\n",
       "        vertical-align: top;\n",
       "    }\n",
       "\n",
       "    .dataframe thead th {\n",
       "        text-align: right;\n",
       "    }\n",
       "</style>\n",
       "<table border=\"1\" class=\"dataframe\">\n",
       "  <thead>\n",
       "    <tr style=\"text-align: right;\">\n",
       "      <th></th>\n",
       "      <th>Item Name</th>\n",
       "      <th>Category Name</th>\n",
       "      <th>Event</th>\n",
       "      <th>Unit Selling Price (RMB/kg)</th>\n",
       "      <th>Quantity Sold (kilo)</th>\n",
       "      <th>Wholesale Price (RMB/kg)</th>\n",
       "    </tr>\n",
       "  </thead>\n",
       "  <tbody>\n",
       "    <tr>\n",
       "      <th>0</th>\n",
       "      <td>The White Mushroom (Bag)</td>\n",
       "      <td>Edible Mushroom</td>\n",
       "      <td>Lunar New Year</td>\n",
       "      <td>8.8</td>\n",
       "      <td>125.0</td>\n",
       "      <td>6.055840</td>\n",
       "    </tr>\n",
       "    <tr>\n",
       "      <th>1</th>\n",
       "      <td>The White Mushroom (Bag)</td>\n",
       "      <td>Edible Mushroom</td>\n",
       "      <td>Lunar New Year</td>\n",
       "      <td>8.9</td>\n",
       "      <td>33.0</td>\n",
       "      <td>4.807879</td>\n",
       "    </tr>\n",
       "    <tr>\n",
       "      <th>2</th>\n",
       "      <td>The White Mushroom (Bag)</td>\n",
       "      <td>Edible Mushroom</td>\n",
       "      <td>None</td>\n",
       "      <td>6.8</td>\n",
       "      <td>51.0</td>\n",
       "      <td>4.155490</td>\n",
       "    </tr>\n",
       "    <tr>\n",
       "      <th>3</th>\n",
       "      <td>The White Mushroom (Bag)</td>\n",
       "      <td>Edible Mushroom</td>\n",
       "      <td>None</td>\n",
       "      <td>7.8</td>\n",
       "      <td>25.0</td>\n",
       "      <td>4.178400</td>\n",
       "    </tr>\n",
       "    <tr>\n",
       "      <th>4</th>\n",
       "      <td>The White Mushroom (Bag)</td>\n",
       "      <td>Edible Mushroom</td>\n",
       "      <td>None</td>\n",
       "      <td>8.8</td>\n",
       "      <td>240.0</td>\n",
       "      <td>5.395875</td>\n",
       "    </tr>\n",
       "  </tbody>\n",
       "</table>\n",
       "</div>"
      ],
      "text/plain": [
       "                  Item Name    Category Name           Event  \\\n",
       "0  The White Mushroom (Bag)  Edible Mushroom  Lunar New Year   \n",
       "1  The White Mushroom (Bag)  Edible Mushroom  Lunar New Year   \n",
       "2  The White Mushroom (Bag)  Edible Mushroom            None   \n",
       "3  The White Mushroom (Bag)  Edible Mushroom            None   \n",
       "4  The White Mushroom (Bag)  Edible Mushroom            None   \n",
       "\n",
       "   Unit Selling Price (RMB/kg)  Quantity Sold (kilo)  Wholesale Price (RMB/kg)  \n",
       "0                          8.8                 125.0                  6.055840  \n",
       "1                          8.9                  33.0                  4.807879  \n",
       "2                          6.8                  51.0                  4.155490  \n",
       "3                          7.8                  25.0                  4.178400  \n",
       "4                          8.8                 240.0                  5.395875  "
      ]
     },
     "execution_count": 1586,
     "metadata": {},
     "output_type": "execute_result"
    }
   ],
   "source": [
    "product = 102900011013274\n",
    "loss_rate_selected = df4.loc[df4['Item Code']==product,'Loss Rate (%)'].iloc[0]\n",
    "df_selected =  df_filtered[df_filtered['Item Code']==product][['Quantity Sold (kilo)','Unit Selling Price (RMB/kg)', 'Item Name', 'Category Name', 'Month', 'Event','Wholesale Price (RMB/kg)']]\n",
    "\n",
    "print(f'Loss Rate : {loss_rate_selected}')\n",
    "df_selected\n",
    "\n",
    "df_grouped = (\n",
    "    df_selected\n",
    "    .groupby(\n",
    "        ['Item Name', 'Category Name', 'Event', 'Unit Selling Price (RMB/kg)'], # add month here\n",
    "        as_index=False\n",
    "    )\n",
    "    .agg({\n",
    "        'Quantity Sold (kilo)': 'sum',\n",
    "        'Wholesale Price (RMB/kg)': 'mean'\n",
    "    })\n",
    ")\n",
    "\n",
    "df_grouped.head()\n",
    "print(f'Total Data {df_grouped.shape[0]}')\n",
    "df_grouped.head()\n"
   ]
  },
  {
   "cell_type": "code",
   "execution_count": 1587,
   "id": "266e637e",
   "metadata": {},
   "outputs": [
    {
     "data": {
      "text/plain": [
       "<Axes: xlabel='Unit Selling Price (RMB/kg)', ylabel='Quantity Sold (kilo)'>"
      ]
     },
     "execution_count": 1587,
     "metadata": {},
     "output_type": "execute_result"
    },
    {
     "data": {
      "image/png": "[encoded data removed]",
      "text/plain": [
       "<Figure size 640x480 with 1 Axes>"
      ]
     },
     "metadata": {},
     "output_type": "display_data"
    }
   ],
   "source": [
    "sns.regplot(df_grouped[df_grouped['Event']=='None'],y='Quantity Sold (kilo)',x='Unit Selling Price (RMB/kg)')\n"
   ]
  },
  {
   "cell_type": "code",
   "execution_count": 1588,
   "id": "4f8184ab",
   "metadata": {},
   "outputs": [
    {
     "data": {
      "text/plain": [
       "[6.8, 7.8, 8.8, 8.9]"
      ]
     },
     "execution_count": 1588,
     "metadata": {},
     "output_type": "execute_result"
    }
   ],
   "source": [
    "sorted(df_grouped['Unit Selling Price (RMB/kg)'].unique())"
   ]
  },
  {
   "cell_type": "code",
   "execution_count": 1589,
   "id": "645839cc",
   "metadata": {},
   "outputs": [
    {
     "data": {
      "text/plain": [
       "array(['Lunar New Year', 'None'], dtype=object)"
      ]
     },
     "execution_count": 1589,
     "metadata": {},
     "output_type": "execute_result"
    }
   ],
   "source": [
    "df_grouped['Event'].unique()"
   ]
  },
  {
   "cell_type": "code",
   "execution_count": 1590,
   "id": "a1501f23",
   "metadata": {},
   "outputs": [
    {
     "name": "stdout",
     "output_type": "stream",
     "text": [
      "\n",
      "Grid searching for expectile: 0.25\n",
      "lam: 0.1, n_splines: 10 - Score: 0.3568\n",
      "lam: 0.1, n_splines: 20 - Score: 0.3385\n",
      "lam: 0.1, n_splines: 30 - Score: 0.4432\n",
      "lam: 1, n_splines: 10 - Score: 1.0372\n",
      "lam: 1, n_splines: 20 - Score: 1.0511\n",
      "lam: 1, n_splines: 30 - Score: 1.0517\n",
      "lam: 100, n_splines: 10 - Score: 1.0528\n",
      "lam: 100, n_splines: 20 - Score: 1.0528\n",
      "lam: 100, n_splines: 30 - Score: 1.0528\n",
      "Best params for expectile 0.25: {'lam': 0.1, 'n_splines': 20}\n",
      "\n",
      "Grid searching for expectile: 0.5\n",
      "lam: 0.1, n_splines: 10 - Score: 0.4445\n",
      "lam: 0.1, n_splines: 20 - Score: 0.4251\n",
      "lam: 0.1, n_splines: 30 - Score: 0.4629\n",
      "lam: 1, n_splines: 10 - Score: 1.9443\n",
      "lam: 1, n_splines: 20 - Score: 2.0970\n",
      "lam: 1, n_splines: 30 - Score: 2.1002\n",
      "lam: 100, n_splines: 10 - Score: 2.1054\n",
      "lam: 100, n_splines: 20 - Score: 2.1056\n",
      "lam: 100, n_splines: 30 - Score: 2.1056\n",
      "Best params for expectile 0.5: {'lam': 0.1, 'n_splines': 20}\n",
      "\n",
      "Grid searching for expectile: 0.75\n",
      "did not converge\n",
      "lam: 0.1, n_splines: 10 - Score: 0.5705\n",
      "did not converge\n",
      "did not converge\n",
      "did not converge\n",
      "lam: 0.1, n_splines: 20 - Score: 0.5495\n",
      "did not converge\n",
      "did not converge\n",
      "did not converge\n",
      "did not converge\n",
      "lam: 0.1, n_splines: 30 - Score: 0.4536\n",
      "lam: 1, n_splines: 10 - Score: 2.0847\n",
      "lam: 1, n_splines: 20 - Score: 3.1335\n",
      "lam: 1, n_splines: 30 - Score: 3.1433\n",
      "lam: 100, n_splines: 10 - Score: 3.1578\n",
      "lam: 100, n_splines: 20 - Score: 3.1584\n",
      "lam: 100, n_splines: 30 - Score: 3.1584\n",
      "Best params for expectile 0.75: {'lam': 0.1, 'n_splines': 30}\n",
      "\n",
      "Event Effects Analysis (Median Expectile):\n",
      "Lunar New Year: 2.19 kg uplift\n",
      "None: 2.82 kg uplift\n",
      "\n",
      "Best parameters found:\n",
      "{0.25: {'lam': 0.1, 'n_splines': 20}, 0.5: {'lam': 0.1, 'n_splines': 20}, 0.75: {'lam': 0.1, 'n_splines': 30}}\n"
     ]
    },
    {
     "data": {
      "text/html": [
       "<div>\n",
       "<style scoped>\n",
       "    .dataframe tbody tr th:only-of-type {\n",
       "        vertical-align: middle;\n",
       "    }\n",
       "\n",
       "    .dataframe tbody tr th {\n",
       "        vertical-align: top;\n",
       "    }\n",
       "\n",
       "    .dataframe thead th {\n",
       "        text-align: right;\n",
       "    }\n",
       "</style>\n",
       "<table border=\"1\" class=\"dataframe\">\n",
       "  <thead>\n",
       "    <tr style=\"text-align: right;\">\n",
       "      <th></th>\n",
       "      <th>Unit Selling Price (RMB/kg)</th>\n",
       "      <th>Item Name</th>\n",
       "      <th>Category Name</th>\n",
       "      <th>Event</th>\n",
       "      <th>Wholesale Price (RMB/kg)</th>\n",
       "      <th>pred_0.25</th>\n",
       "      <th>pred_0.5</th>\n",
       "      <th>pred_0.75</th>\n",
       "    </tr>\n",
       "  </thead>\n",
       "  <tbody>\n",
       "    <tr>\n",
       "      <th>0</th>\n",
       "      <td>8.8</td>\n",
       "      <td>The White Mushroom (Bag)</td>\n",
       "      <td>Edible Mushroom</td>\n",
       "      <td>Lunar New Year</td>\n",
       "      <td>6.055840</td>\n",
       "      <td>44.865712</td>\n",
       "      <td>72.531036</td>\n",
       "      <td>103.942746</td>\n",
       "    </tr>\n",
       "    <tr>\n",
       "      <th>1</th>\n",
       "      <td>8.9</td>\n",
       "      <td>The White Mushroom (Bag)</td>\n",
       "      <td>Edible Mushroom</td>\n",
       "      <td>Lunar New Year</td>\n",
       "      <td>4.807879</td>\n",
       "      <td>47.485177</td>\n",
       "      <td>57.404174</td>\n",
       "      <td>65.773005</td>\n",
       "    </tr>\n",
       "    <tr>\n",
       "      <th>2</th>\n",
       "      <td>6.8</td>\n",
       "      <td>The White Mushroom (Bag)</td>\n",
       "      <td>Edible Mushroom</td>\n",
       "      <td>None</td>\n",
       "      <td>4.155490</td>\n",
       "      <td>33.609278</td>\n",
       "      <td>52.955265</td>\n",
       "      <td>64.857414</td>\n",
       "    </tr>\n",
       "    <tr>\n",
       "      <th>3</th>\n",
       "      <td>7.8</td>\n",
       "      <td>The White Mushroom (Bag)</td>\n",
       "      <td>Edible Mushroom</td>\n",
       "      <td>None</td>\n",
       "      <td>4.178400</td>\n",
       "      <td>41.365919</td>\n",
       "      <td>52.006582</td>\n",
       "      <td>64.027992</td>\n",
       "    </tr>\n",
       "    <tr>\n",
       "      <th>4</th>\n",
       "      <td>8.8</td>\n",
       "      <td>The White Mushroom (Bag)</td>\n",
       "      <td>Edible Mushroom</td>\n",
       "      <td>None</td>\n",
       "      <td>5.395875</td>\n",
       "      <td>49.823807</td>\n",
       "      <td>87.079384</td>\n",
       "      <td>144.798572</td>\n",
       "    </tr>\n",
       "  </tbody>\n",
       "</table>\n",
       "</div>"
      ],
      "text/plain": [
       "   Unit Selling Price (RMB/kg)                 Item Name    Category Name  \\\n",
       "0                          8.8  The White Mushroom (Bag)  Edible Mushroom   \n",
       "1                          8.9  The White Mushroom (Bag)  Edible Mushroom   \n",
       "2                          6.8  The White Mushroom (Bag)  Edible Mushroom   \n",
       "3                          7.8  The White Mushroom (Bag)  Edible Mushroom   \n",
       "4                          8.8  The White Mushroom (Bag)  Edible Mushroom   \n",
       "\n",
       "            Event  Wholesale Price (RMB/kg)  pred_0.25   pred_0.5   pred_0.75  \n",
       "0  Lunar New Year                  6.055840  44.865712  72.531036  103.942746  \n",
       "1  Lunar New Year                  4.807879  47.485177  57.404174   65.773005  \n",
       "2            None                  4.155490  33.609278  52.955265   64.857414  \n",
       "3            None                  4.178400  41.365919  52.006582   64.027992  \n",
       "4            None                  5.395875  49.823807  87.079384  144.798572  "
      ]
     },
     "execution_count": 1590,
     "metadata": {},
     "output_type": "execute_result"
    }
   ],
   "source": [
    "from pygam import ExpectileGAM, s, f\n",
    "from sklearn.model_selection import train_test_split, KFold\n",
    "from sklearn.preprocessing import LabelEncoder\n",
    "import numpy as np\n",
    "import pandas as pd\n",
    "from itertools import product\n",
    "\n",
    "# Prepare your data\n",
    "X_price = df_grouped[['Unit Selling Price (RMB/kg)']].values\n",
    "X_event = df_grouped['Event'].values\n",
    "\n",
    "# Encode categorical events\n",
    "event_encoder = LabelEncoder()\n",
    "X_event_encoded = event_encoder.fit_transform(X_event).reshape(-1, 1)\n",
    "\n",
    "# Combine features\n",
    "X = np.column_stack([X_price, X_event_encoded])\n",
    "y_raw = df_grouped['Quantity Sold (kilo)'].values\n",
    "y = np.log1p(y_raw)  # Log-transform target\n",
    "\n",
    "# Define parameter grid for grid search\n",
    "param_grid = {\n",
    "    'lam': [0.1, 1, 100],\n",
    "    'n_splines': [10, 20, 30],\n",
    "    'expectile': [0.25, 0.5, 0.75]\n",
    "}\n",
    "\n",
    "# Custom scoring function for expectile regression\n",
    "def expectile_score(y_true, y_pred, expectile):\n",
    "    residuals = y_true - y_pred\n",
    "    return np.mean(np.where(residuals >= 0, \n",
    "                         expectile * residuals, \n",
    "                         (expectile - 1) * residuals))\n",
    "\n",
    "# K-Fold cross-validation\n",
    "def grid_search_cv(X, y, param_grid, n_splits=5):\n",
    "    cv = KFold(n_splits=n_splits, shuffle=True, random_state=42)\n",
    "    best_params = {}\n",
    "    \n",
    "    for expectile in param_grid['expectile']:\n",
    "        print(f\"\\nGrid searching for expectile: {expectile}\")\n",
    "        best_score = np.inf\n",
    "        current_best_params = None\n",
    "        \n",
    "        for lam, n_splines in product(param_grid['lam'], param_grid['n_splines']):\n",
    "            scores = []\n",
    "            \n",
    "            for train_idx, val_idx in cv.split(X):\n",
    "                X_train, X_val = X[train_idx], X[val_idx]\n",
    "                y_train, y_val = y[train_idx], y[val_idx]\n",
    "                \n",
    "                # Create GAM with both spline and factor terms\n",
    "                gam = ExpectileGAM(\n",
    "                    s(0, n_splines=n_splines) + f(1),  # s(0) for price, f(1) for event\n",
    "                    lam=lam,\n",
    "                    expectile=expectile\n",
    "                )\n",
    "                gam.fit(X_train, y_train)\n",
    "                \n",
    "                y_pred = gam.predict(X_val)\n",
    "                score = expectile_score(y_val, y_pred, expectile)\n",
    "                scores.append(score)\n",
    "            \n",
    "            mean_score = np.mean(scores)\n",
    "            print(f\"lam: {lam}, n_splines: {n_splines} - Score: {mean_score:.4f}\")\n",
    "            \n",
    "            if mean_score < best_score:\n",
    "                best_score = mean_score\n",
    "                current_best_params = {'lam': lam, 'n_splines': n_splines}\n",
    "        \n",
    "        best_params[expectile] = current_best_params\n",
    "        print(f\"Best params for expectile {expectile}: {current_best_params}\")\n",
    "    \n",
    "    return best_params\n",
    "\n",
    "# Run grid search\n",
    "best_params = grid_search_cv(X, y, param_grid)\n",
    "\n",
    "# Fit final models with best parameters\n",
    "final_gam_results = {}\n",
    "for expectile in best_params.keys():\n",
    "    params = best_params[expectile]\n",
    "    gam = ExpectileGAM(\n",
    "        s(0, n_splines=params['n_splines']) + f(1),  # Price + Event\n",
    "        lam=params['lam'],\n",
    "        expectile=expectile\n",
    "    )\n",
    "    gam.fit(X, y)\n",
    "    \n",
    "    # Predict and inverse transform\n",
    "    y_pred_log = gam.predict(X)\n",
    "    y_pred = np.expm1(y_pred_log)\n",
    "    final_gam_results[f'pred_{expectile}'] = y_pred\n",
    "\n",
    "# Create final dataframe\n",
    "prediction_gam_df = pd.concat(\n",
    "    [df_grouped, pd.DataFrame(final_gam_results, index=df_grouped.index)],\n",
    "    axis=1\n",
    ")[[\n",
    "    'Unit Selling Price (RMB/kg)', 'Item Name', 'Category Name', 'Event', 'Wholesale Price (RMB/kg)',\n",
    "    'pred_0.25', 'pred_0.5', 'pred_0.75'\n",
    "]]\n",
    "\n",
    "# Enforce monotonicity\n",
    "def enforce_monotonicity(row):\n",
    "    preds = sorted([row['pred_0.25'], row['pred_0.5'], row['pred_0.75']])\n",
    "    row['pred_0.25'], row['pred_0.5'], row['pred_0.75'] = preds\n",
    "    return row\n",
    "\n",
    "prediction_gam_df = prediction_gam_df.apply(enforce_monotonicity, axis=1)\n",
    "\n",
    "# Add model objects to results\n",
    "final_models = {\n",
    "    expectile: ExpectileGAM(\n",
    "        s(0, n_splines=best_params[expectile]['n_splines']) + f(1),\n",
    "        lam=best_params[expectile]['lam'],\n",
    "        expectile=expectile\n",
    "    ).fit(X, y)\n",
    "    for expectile in best_params.keys()\n",
    "}\n",
    "\n",
    "# Calculate event effects\n",
    "event_levels = event_encoder.classes_\n",
    "event_effects = {\n",
    "    event: {\n",
    "        'effect': np.expm1(final_models[0.5].partial_dependence(term=1, X=np.array([[0, i]]))[0]),\n",
    "        'encoded_value': i\n",
    "    }\n",
    "    for i, event in enumerate(event_levels)\n",
    "}\n",
    "\n",
    "print(\"\\nEvent Effects Analysis (Median Expectile):\")\n",
    "for event, effect_info in event_effects.items():\n",
    "    print(f\"{event}: {effect_info['effect']:.2f} kg uplift\")\n",
    "\n",
    "print(\"\\nBest parameters found:\")\n",
    "print(best_params)\n",
    "prediction_gam_df.head()"
   ]
  },
  {
   "cell_type": "code",
   "execution_count": 1591,
   "id": "07e30734",
   "metadata": {},
   "outputs": [
    {
     "data": {
      "text/html": [
       "<div>\n",
       "<style scoped>\n",
       "    .dataframe tbody tr th:only-of-type {\n",
       "        vertical-align: middle;\n",
       "    }\n",
       "\n",
       "    .dataframe tbody tr th {\n",
       "        vertical-align: top;\n",
       "    }\n",
       "\n",
       "    .dataframe thead th {\n",
       "        text-align: right;\n",
       "    }\n",
       "</style>\n",
       "<table border=\"1\" class=\"dataframe\">\n",
       "  <thead>\n",
       "    <tr style=\"text-align: right;\">\n",
       "      <th></th>\n",
       "      <th>Unit Selling Price (RMB/kg)</th>\n",
       "      <th>Item Name</th>\n",
       "      <th>Category Name</th>\n",
       "      <th>Event</th>\n",
       "      <th>Wholesale Price (RMB/kg)</th>\n",
       "      <th>pred_0.25</th>\n",
       "      <th>pred_0.5</th>\n",
       "      <th>pred_0.75</th>\n",
       "      <th>Real Quantity</th>\n",
       "    </tr>\n",
       "  </thead>\n",
       "  <tbody>\n",
       "    <tr>\n",
       "      <th>0</th>\n",
       "      <td>8.8</td>\n",
       "      <td>The White Mushroom (Bag)</td>\n",
       "      <td>Edible Mushroom</td>\n",
       "      <td>Lunar New Year</td>\n",
       "      <td>6.055840</td>\n",
       "      <td>44.865712</td>\n",
       "      <td>72.531036</td>\n",
       "      <td>103.942746</td>\n",
       "      <td>125.0</td>\n",
       "    </tr>\n",
       "    <tr>\n",
       "      <th>1</th>\n",
       "      <td>8.9</td>\n",
       "      <td>The White Mushroom (Bag)</td>\n",
       "      <td>Edible Mushroom</td>\n",
       "      <td>Lunar New Year</td>\n",
       "      <td>4.807879</td>\n",
       "      <td>47.485177</td>\n",
       "      <td>57.404174</td>\n",
       "      <td>65.773005</td>\n",
       "      <td>33.0</td>\n",
       "    </tr>\n",
       "    <tr>\n",
       "      <th>2</th>\n",
       "      <td>6.8</td>\n",
       "      <td>The White Mushroom (Bag)</td>\n",
       "      <td>Edible Mushroom</td>\n",
       "      <td>None</td>\n",
       "      <td>4.155490</td>\n",
       "      <td>33.609278</td>\n",
       "      <td>52.955265</td>\n",
       "      <td>64.857414</td>\n",
       "      <td>51.0</td>\n",
       "    </tr>\n",
       "    <tr>\n",
       "      <th>3</th>\n",
       "      <td>7.8</td>\n",
       "      <td>The White Mushroom (Bag)</td>\n",
       "      <td>Edible Mushroom</td>\n",
       "      <td>None</td>\n",
       "      <td>4.178400</td>\n",
       "      <td>41.365919</td>\n",
       "      <td>52.006582</td>\n",
       "      <td>64.027992</td>\n",
       "      <td>25.0</td>\n",
       "    </tr>\n",
       "    <tr>\n",
       "      <th>4</th>\n",
       "      <td>8.8</td>\n",
       "      <td>The White Mushroom (Bag)</td>\n",
       "      <td>Edible Mushroom</td>\n",
       "      <td>None</td>\n",
       "      <td>5.395875</td>\n",
       "      <td>49.823807</td>\n",
       "      <td>87.079384</td>\n",
       "      <td>144.798572</td>\n",
       "      <td>240.0</td>\n",
       "    </tr>\n",
       "  </tbody>\n",
       "</table>\n",
       "</div>"
      ],
      "text/plain": [
       "   Unit Selling Price (RMB/kg)                 Item Name    Category Name  \\\n",
       "0                          8.8  The White Mushroom (Bag)  Edible Mushroom   \n",
       "1                          8.9  The White Mushroom (Bag)  Edible Mushroom   \n",
       "2                          6.8  The White Mushroom (Bag)  Edible Mushroom   \n",
       "3                          7.8  The White Mushroom (Bag)  Edible Mushroom   \n",
       "4                          8.8  The White Mushroom (Bag)  Edible Mushroom   \n",
       "\n",
       "            Event  Wholesale Price (RMB/kg)  pred_0.25   pred_0.5   pred_0.75  \\\n",
       "0  Lunar New Year                  6.055840  44.865712  72.531036  103.942746   \n",
       "1  Lunar New Year                  4.807879  47.485177  57.404174   65.773005   \n",
       "2            None                  4.155490  33.609278  52.955265   64.857414   \n",
       "3            None                  4.178400  41.365919  52.006582   64.027992   \n",
       "4            None                  5.395875  49.823807  87.079384  144.798572   \n",
       "\n",
       "   Real Quantity  \n",
       "0          125.0  \n",
       "1           33.0  \n",
       "2           51.0  \n",
       "3           25.0  \n",
       "4          240.0  "
      ]
     },
     "execution_count": 1591,
     "metadata": {},
     "output_type": "execute_result"
    }
   ],
   "source": [
    "prediction_gam_df.merge(df_grouped[['Event','Unit Selling Price (RMB/kg)','Quantity Sold (kilo)']],on=['Event','Unit Selling Price (RMB/kg)']).rename(columns={'Quantity Sold (kilo)':'Real Quantity'})"
   ]
  },
  {
   "cell_type": "code",
   "execution_count": 1597,
   "id": "d998dee0",
   "metadata": {},
   "outputs": [
    {
     "data": {
      "application/vnd.plotly.v1+json": {
       "config": {
        "plotlyServerURL": "https://plot.ly"
       },
       "data": [
        {
         "fill": "toself",
         "fillcolor": "rgba(99,110,250,0.2)",
         "hoverinfo": "skip",
         "line": {
          "color": "rgba(255,255,255,0)"
         },
         "name": "25-75th Percentile",
         "showlegend": true,
         "type": "scatter",
         "x": [
          6.8,
          7.8,
          8.8,
          8.8,
          7.8,
          6.8
         ],
         "y": [
          489.41719170713975,
          547.4496735256888,
          1414.499426370493,
          486.71575081252246,
          353.68528809578515,
          253.61723888886152
         ]
        },
        {
         "line": {
          "color": "rgba(99,110,250,1.0)",
          "width": 3
         },
         "mode": "lines",
         "name": "Median Prediction",
         "type": "scatter",
         "x": [
          6.8,
          7.8,
          8.8
         ],
         "y": [
          399.6030006665511,
          444.6646756411533,
          850.6557601290832
         ]
        },
        {
         "marker": {
          "color": "grey",
          "size": 6
         },
         "mode": "markers",
         "name": "0.25 Quantile",
         "type": "scatter",
         "x": [
          6.8,
          7.8,
          8.8
         ],
         "y": [
          253.61723888886152,
          353.68528809578515,
          486.71575081252246
         ]
        },
        {
         "marker": {
          "color": "grey",
          "size": 6
         },
         "mode": "markers",
         "name": "0.5 Quantile (Median)",
         "type": "scatter",
         "x": [
          6.8,
          7.8,
          8.8
         ],
         "y": [
          399.6030006665511,
          444.6646756411533,
          850.6557601290832
         ]
        },
        {
         "marker": {
          "color": "grey",
          "size": 6
         },
         "mode": "markers",
         "name": "0.75 Quantile",
         "type": "scatter",
         "x": [
          6.8,
          7.8,
          8.8
         ],
         "y": [
          489.41719170713975,
          547.4496735256888,
          1414.499426370493
         ]
        },
        {
         "marker": {
          "color": "blue",
          "size": 10,
          "symbol": "circle"
         },
         "mode": "markers+text",
         "name": "Max Median",
         "text": [
          "¥851"
         ],
         "textposition": "top center",
         "type": "scatter",
         "x": [
          8.8
         ],
         "y": [
          850.6557601290832
         ]
        },
        {
         "marker": {
          "color": "green",
          "size": 10,
          "symbol": "diamond"
         },
         "mode": "markers+text",
         "name": "Max Upper",
         "text": [
          "¥1,414"
         ],
         "textposition": "top center",
         "type": "scatter",
         "x": [
          8.8
         ],
         "y": [
          1414.499426370493
         ]
        },
        {
         "marker": {
          "color": "red",
          "size": 10,
          "symbol": "square"
         },
         "mode": "markers+text",
         "name": "Max Lower",
         "text": [
          "¥487"
         ],
         "textposition": "bottom center",
         "type": "scatter",
         "x": [
          8.8
         ],
         "y": [
          486.71575081252246
         ]
        }
       ],
       "layout": {
        "template": {
         "data": {
          "bar": [
           {
            "error_x": {
             "color": "#f2f5fa"
            },
            "error_y": {
             "color": "#f2f5fa"
            },
            "marker": {
             "line": {
              "color": "rgb(17,17,17)",
              "width": 0.5
             },
             "pattern": {
              "fillmode": "overlay",
              "size": 10,
              "solidity": 0.2
             }
            },
            "type": "bar"
           }
          ],
          "barpolar": [
           {
            "marker": {
             "line": {
              "color": "rgb(17,17,17)",
              "width": 0.5
             },
             "pattern": {
              "fillmode": "overlay",
              "size": 10,
              "solidity": 0.2
             }
            },
            "type": "barpolar"
           }
          ],
          "carpet": [
           {
            "aaxis": {
             "endlinecolor": "#A2B1C6",
             "gridcolor": "#506784",
             "linecolor": "#506784",
             "minorgridcolor": "#506784",
             "startlinecolor": "#A2B1C6"
            },
            "baxis": {
             "endlinecolor": "#A2B1C6",
             "gridcolor": "#506784",
             "linecolor": "#506784",
             "minorgridcolor": "#506784",
             "startlinecolor": "#A2B1C6"
            },
            "type": "carpet"
           }
          ],
          "choropleth": [
           {
            "colorbar": {
             "outlinewidth": 0,
             "ticks": ""
            },
            "type": "choropleth"
           }
          ],
          "contour": [
           {
            "colorbar": {
             "outlinewidth": 0,
             "ticks": ""
            },
            "colorscale": [
             [
              0,
              "#0d0887"
             ],
             [
              0.1111111111111111,
              "#46039f"
             ],
             [
              0.2222222222222222,
              "#7201a8"
             ],
             [
              0.3333333333333333,
              "#9c179e"
             ],
             [
              0.4444444444444444,
              "#bd3786"
             ],
             [
              0.5555555555555556,
              "#d8576b"
             ],
             [
              0.6666666666666666,
              "#ed7953"
             ],
             [
              0.7777777777777778,
              "#fb9f3a"
             ],
             [
              0.8888888888888888,
              "#fdca26"
             ],
             [
              1,
              "#f0f921"
             ]
            ],
            "type": "contour"
           }
          ],
          "contourcarpet": [
           {
            "colorbar": {
             "outlinewidth": 0,
             "ticks": ""
            },
            "type": "contourcarpet"
           }
          ],
          "heatmap": [
           {
            "colorbar": {
             "outlinewidth": 0,
             "ticks": ""
            },
            "colorscale": [
             [
              0,
              "#0d0887"
             ],
             [
              0.1111111111111111,
              "#46039f"
             ],
             [
              0.2222222222222222,
              "#7201a8"
             ],
             [
              0.3333333333333333,
              "#9c179e"
             ],
             [
              0.4444444444444444,
              "#bd3786"
             ],
             [
              0.5555555555555556,
              "#d8576b"
             ],
             [
              0.6666666666666666,
              "#ed7953"
             ],
             [
              0.7777777777777778,
              "#fb9f3a"
             ],
             [
              0.8888888888888888,
              "#fdca26"
             ],
             [
              1,
              "#f0f921"
             ]
            ],
            "type": "heatmap"
           }
          ],
          "heatmapgl": [
           {
            "colorbar": {
             "outlinewidth": 0,
             "ticks": ""
            },
            "colorscale": [
             [
              0,
              "#0d0887"
             ],
             [
              0.1111111111111111,
              "#46039f"
             ],
             [
              0.2222222222222222,
              "#7201a8"
             ],
             [
              0.3333333333333333,
              "#9c179e"
             ],
             [
              0.4444444444444444,
              "#bd3786"
             ],
             [
              0.5555555555555556,
              "#d8576b"
             ],
             [
              0.6666666666666666,
              "#ed7953"
             ],
             [
              0.7777777777777778,
              "#fb9f3a"
             ],
             [
              0.8888888888888888,
              "#fdca26"
             ],
             [
              1,
              "#f0f921"
             ]
            ],
            "type": "heatmapgl"
           }
          ],
          "histogram": [
           {
            "marker": {
             "pattern": {
              "fillmode": "overlay",
              "size": 10,
              "solidity": 0.2
             }
            },
            "type": "histogram"
           }
          ],
          "histogram2d": [
           {
            "colorbar": {
             "outlinewidth": 0,
             "ticks": ""
            },
            "colorscale": [
             [
              0,
              "#0d0887"
             ],
             [
              0.1111111111111111,
              "#46039f"
             ],
             [
              0.2222222222222222,
              "#7201a8"
             ],
             [
              0.3333333333333333,
              "#9c179e"
             ],
             [
              0.4444444444444444,
              "#bd3786"
             ],
             [
              0.5555555555555556,
              "#d8576b"
             ],
             [
              0.6666666666666666,
              "#ed7953"
             ],
             [
              0.7777777777777778,
              "#fb9f3a"
             ],
             [
              0.8888888888888888,
              "#fdca26"
             ],
             [
              1,
              "#f0f921"
             ]
            ],
            "type": "histogram2d"
           }
          ],
          "histogram2dcontour": [
           {
            "colorbar": {
             "outlinewidth": 0,
             "ticks": ""
            },
            "colorscale": [
             [
              0,
              "#0d0887"
             ],
             [
              0.1111111111111111,
              "#46039f"
             ],
             [
              0.2222222222222222,
              "#7201a8"
             ],
             [
              0.3333333333333333,
              "#9c179e"
             ],
             [
              0.4444444444444444,
              "#bd3786"
             ],
             [
              0.5555555555555556,
              "#d8576b"
             ],
             [
              0.6666666666666666,
              "#ed7953"
             ],
             [
              0.7777777777777778,
              "#fb9f3a"
             ],
             [
              0.8888888888888888,
              "#fdca26"
             ],
             [
              1,
              "#f0f921"
             ]
            ],
            "type": "histogram2dcontour"
           }
          ],
          "mesh3d": [
           {
            "colorbar": {
             "outlinewidth": 0,
             "ticks": ""
            },
            "type": "mesh3d"
           }
          ],
          "parcoords": [
           {
            "line": {
             "colorbar": {
              "outlinewidth": 0,
              "ticks": ""
             }
            },
            "type": "parcoords"
           }
          ],
          "pie": [
           {
            "automargin": true,
            "type": "pie"
           }
          ],
          "scatter": [
           {
            "marker": {
             "line": {
              "color": "#283442"
             }
            },
            "type": "scatter"
           }
          ],
          "scatter3d": [
           {
            "line": {
             "colorbar": {
              "outlinewidth": 0,
              "ticks": ""
             }
            },
            "marker": {
             "colorbar": {
              "outlinewidth": 0,
              "ticks": ""
             }
            },
            "type": "scatter3d"
           }
          ],
          "scattercarpet": [
           {
            "marker": {
             "colorbar": {
              "outlinewidth": 0,
              "ticks": ""
             }
            },
            "type": "scattercarpet"
           }
          ],
          "scattergeo": [
           {
            "marker": {
             "colorbar": {
              "outlinewidth": 0,
              "ticks": ""
             }
            },
            "type": "scattergeo"
           }
          ],
          "scattergl": [
           {
            "marker": {
             "line": {
              "color": "#283442"
             }
            },
            "type": "scattergl"
           }
          ],
          "scattermapbox": [
           {
            "marker": {
             "colorbar": {
              "outlinewidth": 0,
              "ticks": ""
             }
            },
            "type": "scattermapbox"
           }
          ],
          "scatterpolar": [
           {
            "marker": {
             "colorbar": {
              "outlinewidth": 0,
              "ticks": ""
             }
            },
            "type": "scatterpolar"
           }
          ],
          "scatterpolargl": [
           {
            "marker": {
             "colorbar": {
              "outlinewidth": 0,
              "ticks": ""
             }
            },
            "type": "scatterpolargl"
           }
          ],
          "scatterternary": [
           {
            "marker": {
             "colorbar": {
              "outlinewidth": 0,
              "ticks": ""
             }
            },
            "type": "scatterternary"
           }
          ],
          "surface": [
           {
            "colorbar": {
             "outlinewidth": 0,
             "ticks": ""
            },
            "colorscale": [
             [
              0,
              "#0d0887"
             ],
             [
              0.1111111111111111,
              "#46039f"
             ],
             [
              0.2222222222222222,
              "#7201a8"
             ],
             [
              0.3333333333333333,
              "#9c179e"
             ],
             [
              0.4444444444444444,
              "#bd3786"
             ],
             [
              0.5555555555555556,
              "#d8576b"
             ],
             [
              0.6666666666666666,
              "#ed7953"
             ],
             [
              0.7777777777777778,
              "#fb9f3a"
             ],
             [
              0.8888888888888888,
              "#fdca26"
             ],
             [
              1,
              "#f0f921"
             ]
            ],
            "type": "surface"
           }
          ],
          "table": [
           {
            "cells": {
             "fill": {
              "color": "#506784"
             },
             "line": {
              "color": "rgb(17,17,17)"
             }
            },
            "header": {
             "fill": {
              "color": "#2a3f5f"
             },
             "line": {
              "color": "rgb(17,17,17)"
             }
            },
            "type": "table"
           }
          ]
         },
         "layout": {
          "annotationdefaults": {
           "arrowcolor": "#f2f5fa",
           "arrowhead": 0,
           "arrowwidth": 1
          },
          "autotypenumbers": "strict",
          "coloraxis": {
           "colorbar": {
            "outlinewidth": 0,
            "ticks": ""
           }
          },
          "colorscale": {
           "diverging": [
            [
             0,
             "#8e0152"
            ],
            [
             0.1,
             "#c51b7d"
            ],
            [
             0.2,
             "#de77ae"
            ],
            [
             0.3,
             "#f1b6da"
            ],
            [
             0.4,
             "#fde0ef"
            ],
            [
             0.5,
             "#f7f7f7"
            ],
            [
             0.6,
             "#e6f5d0"
            ],
            [
             0.7,
             "#b8e186"
            ],
            [
             0.8,
             "#7fbc41"
            ],
            [
             0.9,
             "#4d9221"
            ],
            [
             1,
             "#276419"
            ]
           ],
           "sequential": [
            [
             0,
             "#0d0887"
            ],
            [
             0.1111111111111111,
             "#46039f"
            ],
            [
             0.2222222222222222,
             "#7201a8"
            ],
            [
             0.3333333333333333,
             "#9c179e"
            ],
            [
             0.4444444444444444,
             "#bd3786"
            ],
            [
             0.5555555555555556,
             "#d8576b"
            ],
            [
             0.6666666666666666,
             "#ed7953"
            ],
            [
             0.7777777777777778,
             "#fb9f3a"
            ],
            [
             0.8888888888888888,
             "#fdca26"
            ],
            [
             1,
             "#f0f921"
            ]
           ],
           "sequentialminus": [
            [
             0,
             "#0d0887"
            ],
            [
             0.1111111111111111,
             "#46039f"
            ],
            [
             0.2222222222222222,
             "#7201a8"
            ],
            [
             0.3333333333333333,
             "#9c179e"
            ],
            [
             0.4444444444444444,
             "#bd3786"
            ],
            [
             0.5555555555555556,
             "#d8576b"
            ],
            [
             0.6666666666666666,
             "#ed7953"
            ],
            [
             0.7777777777777778,
             "#fb9f3a"
            ],
            [
             0.8888888888888888,
             "#fdca26"
            ],
            [
             1,
             "#f0f921"
            ]
           ]
          },
          "colorway": [
           "#636efa",
           "#EF553B",
           "#00cc96",
           "#ab63fa",
           "#FFA15A",
           "#19d3f3",
           "#FF6692",
           "#B6E880",
           "#FF97FF",
           "#FECB52"
          ],
          "font": {
           "color": "#f2f5fa"
          },
          "geo": {
           "bgcolor": "rgb(17,17,17)",
           "lakecolor": "rgb(17,17,17)",
           "landcolor": "rgb(17,17,17)",
           "showlakes": true,
           "showland": true,
           "subunitcolor": "#506784"
          },
          "hoverlabel": {
           "align": "left"
          },
          "hovermode": "closest",
          "mapbox": {
           "style": "dark"
          },
          "paper_bgcolor": "rgb(17,17,17)",
          "plot_bgcolor": "rgb(17,17,17)",
          "polar": {
           "angularaxis": {
            "gridcolor": "#506784",
            "linecolor": "#506784",
            "ticks": ""
           },
           "bgcolor": "rgb(17,17,17)",
           "radialaxis": {
            "gridcolor": "#506784",
            "linecolor": "#506784",
            "ticks": ""
           }
          },
          "scene": {
           "xaxis": {
            "backgroundcolor": "rgb(17,17,17)",
            "gridcolor": "#506784",
            "gridwidth": 2,
            "linecolor": "#506784",
            "showbackground": true,
            "ticks": "",
            "zerolinecolor": "#C8D4E3"
           },
           "yaxis": {
            "backgroundcolor": "rgb(17,17,17)",
            "gridcolor": "#506784",
            "gridwidth": 2,
            "linecolor": "#506784",
            "showbackground": true,
            "ticks": "",
            "zerolinecolor": "#C8D4E3"
           },
           "zaxis": {
            "backgroundcolor": "rgb(17,17,17)",
            "gridcolor": "#506784",
            "gridwidth": 2,
            "linecolor": "#506784",
            "showbackground": true,
            "ticks": "",
            "zerolinecolor": "#C8D4E3"
           }
          },
          "shapedefaults": {
           "line": {
            "color": "#f2f5fa"
           }
          },
          "sliderdefaults": {
           "bgcolor": "#C8D4E3",
           "bordercolor": "rgb(17,17,17)",
           "borderwidth": 1,
           "tickwidth": 0
          },
          "ternary": {
           "aaxis": {
            "gridcolor": "#506784",
            "linecolor": "#506784",
            "ticks": ""
           },
           "baxis": {
            "gridcolor": "#506784",
            "linecolor": "#506784",
            "ticks": ""
           },
           "bgcolor": "rgb(17,17,17)",
           "caxis": {
            "gridcolor": "#506784",
            "linecolor": "#506784",
            "ticks": ""
           }
          },
          "title": {
           "x": 0.05
          },
          "updatemenudefaults": {
           "bgcolor": "#506784",
           "borderwidth": 0
          },
          "xaxis": {
           "automargin": true,
           "gridcolor": "#283442",
           "linecolor": "#506784",
           "ticks": "",
           "title": {
            "standoff": 15
           },
           "zerolinecolor": "#283442",
           "zerolinewidth": 2
          },
          "yaxis": {
           "automargin": true,
           "gridcolor": "#283442",
           "linecolor": "#506784",
           "ticks": "",
           "title": {
            "standoff": 15
           },
           "zerolinecolor": "#283442",
           "zerolinewidth": 2
          }
         }
        },
        "title": {
         "text": "Predicted Adjusted Profit vs Unit Price of The White Mushroom (Bag) Event : None in 2023"
        },
        "xaxis": {
         "title": {
          "text": "Unit Selling Price (RMB/kg)"
         }
        },
        "yaxis": {
         "title": {
          "text": "Predicted Adjusted Profit"
         }
        }
       }
      }
     },
     "metadata": {},
     "output_type": "display_data"
    }
   ],
   "source": [
    "import plotly.graph_objects as go\n",
    "import plotly.express as px\n",
    "\n",
    "event = input(f\"Which event you want to see? {df_grouped['Event'].unique()}\")\n",
    "\n",
    "df_view = prediction_gam_df[prediction_gam_df['Event']==event].copy()\n",
    "\n",
    "# Calculate predicted sales value = predicted quantity × price\n",
    "df_view[\"y_median\"] = df_view[\"pred_0.5\"] * (df_view[\"Unit Selling Price (RMB/kg)\"]-(df_view[\"Wholesale Price (RMB/kg)\"]/(1-loss_rate_selected)))\n",
    "df_view[\"y_upper\"] = df_view[\"pred_0.75\"] * (df_view[\"Unit Selling Price (RMB/kg)\"]-(df_view[\"Wholesale Price (RMB/kg)\"]/(1-loss_rate_selected)))\n",
    "df_view[\"y_lower\"] = df_view[\"pred_0.25\"] * (df_view[\"Unit Selling Price (RMB/kg)\"]-(df_view[\"Wholesale Price (RMB/kg)\"]/(1-loss_rate_selected)))\n",
    "\n",
    "df_view.sort_values(by=\"Unit Selling Price (RMB/kg)\", inplace=True)\n",
    "\n",
    "# Convert colors to rgba\n",
    "def hex_rgba(hex, transparency):\n",
    "    col_hex = hex.lstrip('#')\n",
    "    col_rgb = list(int(col_hex[i:i+2], 16) for i in (0, 2, 4))\n",
    "    return f'rgba({col_rgb[0]},{col_rgb[1]},{col_rgb[2]},{transparency})'\n",
    "\n",
    "colors = px.colors.qualitative.Plotly\n",
    "fill_color = hex_rgba(colors[0], 0.2)\n",
    "line_color = hex_rgba(colors[0], 1.0)\n",
    "\n",
    "# Create figure\n",
    "fig = go.Figure()\n",
    "\n",
    "x = df_view[\"Unit Selling Price (RMB/kg)\"]\n",
    "y_median = df_view[\"y_median\"]\n",
    "y_upper = df_view[\"y_upper\"]\n",
    "y_lower = df_view[\"y_lower\"]\n",
    "\n",
    "# Add shaded quantile area\n",
    "fig.add_trace(go.Scatter(\n",
    "    x=pd.concat([x, x[::-1]]),\n",
    "    y=pd.concat([y_upper, y_lower[::-1]]),\n",
    "    fill='toself',\n",
    "    fillcolor=fill_color,\n",
    "    line=dict(color='rgba(255,255,255,0)'),\n",
    "    hoverinfo=\"skip\",\n",
    "    showlegend=True,\n",
    "    name='25-75th Percentile'\n",
    "))\n",
    "\n",
    "# Add median prediction line\n",
    "fig.add_trace(go.Scatter(\n",
    "    x=x,\n",
    "    y=y_median,\n",
    "    mode='lines',\n",
    "    line=dict(color=line_color, width=3),\n",
    "    name='Median Prediction'\n",
    "))\n",
    "\n",
    "# Get max points\n",
    "max_median = df_view.loc[df_view['y_median'].idxmax()]\n",
    "max_upper = df_view.loc[df_view['y_upper'].idxmax()]\n",
    "max_lower = df_view.loc[df_view['y_lower'].idxmax()]\n",
    "\n",
    "if len(year) > 1 :\n",
    "    titles = f\"Predicted Adjusted Profit vs Unit Price of {df_grouped['Item Name'].unique()[0]} Event : {', '.join(event)} in {sorted(year)[0]} - {sorted(year)[-1]}\"\n",
    "else :\n",
    "    titles = f\"Predicted Adjusted Profit vs Unit Price of {df_grouped['Item Name'].unique()[0]} Event : {event} in {sorted(year)[0]}\"\n",
    "\n",
    "\n",
    "# Update layout\n",
    "fig.update_layout(\n",
    "    title=titles,\n",
    "    xaxis_title=\"Unit Selling Price (RMB/kg)\",\n",
    "    yaxis_title=\"Predicted Adjusted Profit\",\n",
    "    template=\"plotly_dark\"\n",
    ")\n",
    "\n",
    "# Add markers for 0.25 quantile predictions\n",
    "fig.add_trace(go.Scatter(\n",
    "    x=df_view[\"Unit Selling Price (RMB/kg)\"],\n",
    "    y=df_view['y_lower'],\n",
    "    mode='markers',\n",
    "    marker=dict(color='grey', size=6),\n",
    "    name='0.25 Quantile'\n",
    "))\n",
    "\n",
    "# Add markers for 0.5 (median) quantile predictions\n",
    "fig.add_trace(go.Scatter(\n",
    "    x=df_view[\"Unit Selling Price (RMB/kg)\"],\n",
    "    y=df_view['y_median'],\n",
    "    mode='markers',\n",
    "    marker=dict(color='grey', size=6),\n",
    "    name='0.5 Quantile (Median)'\n",
    "))\n",
    "\n",
    "# Add markers for 0.75 quantile predictions\n",
    "fig.add_trace(go.Scatter(\n",
    "    x=df_view[\"Unit Selling Price (RMB/kg)\"],\n",
    "    y=df_view['y_upper'],\n",
    "    mode='markers',\n",
    "    marker=dict(color='grey', size=6),\n",
    "    name='0.75 Quantile'\n",
    "))\n",
    "\n",
    "# Add markers for highest values\n",
    "fig.add_trace(go.Scatter(\n",
    "    x=[max_median['Unit Selling Price (RMB/kg)']],\n",
    "    y=[max_median['y_median']],\n",
    "    mode='markers+text',\n",
    "    marker=dict(color='blue', size=10, symbol='circle'),\n",
    "    text=[f\"¥{round(max_median['y_median']):,}\"],\n",
    "    textposition=\"top center\",\n",
    "    name='Max Median'\n",
    "))\n",
    "\n",
    "fig.add_trace(go.Scatter(\n",
    "    x=[max_upper['Unit Selling Price (RMB/kg)']],\n",
    "    y=[max_upper['y_upper']],\n",
    "    mode='markers+text',\n",
    "    marker=dict(color='green', size=10, symbol='diamond'),\n",
    "    text=[f\"¥{round(max_upper['y_upper']):,}\"],\n",
    "    textposition=\"top center\",\n",
    "    name='Max Upper'\n",
    "))\n",
    "\n",
    "fig.add_trace(go.Scatter(\n",
    "    x=[max_lower['Unit Selling Price (RMB/kg)']],\n",
    "    y=[max_lower['y_lower']],\n",
    "    mode='markers+text',\n",
    "    marker=dict(color='red', size=10, symbol='square'),\n",
    "    text=[f\"¥{round(max_lower['y_lower']):,}\"],\n",
    "    textposition=\"bottom center\",\n",
    "    name='Max Lower'\n",
    "))\n",
    "fig.show()\n",
    "## add scatter plot"
   ]
  }
 ],
 "metadata": {
  "kernelspec": {
   "display_name": "base",
   "language": "python",
   "name": "python3"
  },
  "language_info": {
   "codemirror_mode": {
    "name": "ipython",
    "version": 3
   },
   "file_extension": ".py",
   "mimetype": "text/x-python",
   "name": "python",
   "nbconvert_exporter": "python",
   "pygments_lexer": "ipython3",
   "version": "3.12.7"
  }
 },
 "nbformat": 4,
 "nbformat_minor": 5
}
